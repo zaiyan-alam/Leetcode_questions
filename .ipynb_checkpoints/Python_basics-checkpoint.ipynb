{
 "cells": [
  {
   "cell_type": "code",
   "execution_count": null,
   "metadata": {},
   "outputs": [],
   "source": []
  },
  {
   "cell_type": "code",
   "execution_count": 2,
   "metadata": {},
   "outputs": [
    {
     "name": "stdout",
     "output_type": "stream",
     "text": [
      "2\n",
      "3\n"
     ]
    },
    {
     "data": {
      "text/plain": [
       "set()"
      ]
     },
     "execution_count": 2,
     "metadata": {},
     "output_type": "execute_result"
    }
   ],
   "source": [
    "while a:\n",
    "    print(a.pop())\n",
    "a"
   ]
  },
  {
   "cell_type": "code",
   "execution_count": 4,
   "metadata": {},
   "outputs": [
    {
     "name": "stdout",
     "output_type": "stream",
     "text": [
      "{3}\n",
      "{1, 2, 3, 4, 5}\n"
     ]
    }
   ],
   "source": [
    "a = set([1,2,3])\n",
    "b = set([3,4,5])\n",
    "\n",
    "print(a&b)\n",
    "print(a|b)"
   ]
  },
  {
   "cell_type": "code",
   "execution_count": 6,
   "metadata": {},
   "outputs": [],
   "source": [
    "a = {}\n",
    "b = [1,2]\n",
    "a[b] = 1   # ERROR : list is not hashable"
   ]
  },
  {
   "cell_type": "code",
   "execution_count": 7,
   "metadata": {},
   "outputs": [
    {
     "data": {
      "text/plain": [
       "{(1, 2): 1}"
      ]
     },
     "execution_count": 7,
     "metadata": {},
     "output_type": "execute_result"
    }
   ],
   "source": [
    "a = {}\n",
    "a[tuple(b)]=1   #tuple is hashable\n",
    "a"
   ]
  },
  {
   "cell_type": "code",
   "execution_count": 48,
   "metadata": {},
   "outputs": [
    {
     "name": "stdout",
     "output_type": "stream",
     "text": [
      "1 2\n",
      "2 3\n"
     ]
    },
    {
     "data": {
      "text/plain": [
       "{1: 2, 2: 3, 3: 4}"
      ]
     },
     "execution_count": 48,
     "metadata": {},
     "output_type": "execute_result"
    }
   ],
   "source": [
    "a = {1:2,2:3}\n",
    "for k,v in a.items():\n",
    "    print(k,v)"
   ]
  },
  {
   "cell_type": "code",
   "execution_count": 52,
   "metadata": {},
   "outputs": [
    {
     "name": "stdout",
     "output_type": "stream",
     "text": [
      "<class 'set'>\n"
     ]
    },
    {
     "data": {
      "text/plain": [
       "[1, 2, 3, 4]"
      ]
     },
     "execution_count": 52,
     "metadata": {},
     "output_type": "execute_result"
    }
   ],
   "source": [
    "a = {1,2,3,4}\n",
    "print(type(a))\n",
    "list(a)"
   ]
  },
  {
   "cell_type": "code",
   "execution_count": 54,
   "metadata": {},
   "outputs": [],
   "source": [
    "# Use a list of sets to extract unique combinations\n",
    "# SETS AE UNORDERED\n",
    "# sorted() must be used in order to save unique sets"
   ]
  },
  {
   "cell_type": "code",
   "execution_count": 100,
   "metadata": {},
   "outputs": [
    {
     "data": {
      "text/plain": [
       "{1, 2, 3, 4}"
      ]
     },
     "execution_count": 100,
     "metadata": {},
     "output_type": "execute_result"
    }
   ],
   "source": [
    "set([4,3,2,1])"
   ]
  },
  {
   "cell_type": "code",
   "execution_count": 57,
   "metadata": {},
   "outputs": [
    {
     "data": {
      "text/plain": [
       "{'a', 'b', 'd', 'e'}"
      ]
     },
     "execution_count": 57,
     "metadata": {},
     "output_type": "execute_result"
    }
   ],
   "source": [
    "set(['a','d','e','b']) "
   ]
  },
  {
   "cell_type": "code",
   "execution_count": 74,
   "metadata": {},
   "outputs": [
    {
     "name": "stdout",
     "output_type": "stream",
     "text": [
      "4\n",
      "0\n",
      "3\n"
     ]
    }
   ],
   "source": [
    "# Binary search\n",
    "\n",
    "import bisect as bi\n",
    "\n",
    "arr = [2,4,6,8]\n",
    "\n",
    "# if value not present & greater than largest item,\n",
    "# it returns len(array)\n",
    "print(bi.bisect_left(arr,9))\n",
    "\n",
    "# if if value not present & smaller than smallest item,\n",
    "# it returns 0\n",
    "print(bi.bisect_left(arr,1))\n",
    "\n",
    "# it returns the index of the element\n",
    "print(bi.bisect_left(arr,8))"
   ]
  },
  {
   "cell_type": "code",
   "execution_count": 78,
   "metadata": {},
   "outputs": [
    {
     "data": {
      "text/plain": [
       "{(1, 2): 4, (2, 1): 5}"
      ]
     },
     "execution_count": 78,
     "metadata": {},
     "output_type": "execute_result"
    }
   ],
   "source": [
    "# tuples can be hashed\n",
    "\n",
    "k = {(1,2):4}\n",
    "k[(2,1)]=5\n",
    "k"
   ]
  },
  {
   "cell_type": "code",
   "execution_count": 1,
   "metadata": {},
   "outputs": [],
   "source": [
    "# How to use nonlocal in case of resursive functions\n",
    "# using a COUNT variable recursively\n",
    "\n",
    "def get_val(node):\n",
    "    def get_count(node, max_so_far):\n",
    "        nonlocal count\n",
    "        if node.val >= max_so_far:\n",
    "            count += 1\n",
    "            max_so_far = node.val\n",
    "        if node.left:\n",
    "            get_count(node.left, max_so_far)\n",
    "        if node.right:\n",
    "            get_count(node.right, max_so_far)\n",
    "    count = 0\n",
    "    get_count(root, root.val)\n",
    "    return count"
   ]
  },
  {
   "cell_type": "code",
   "execution_count": 41,
   "metadata": {},
   "outputs": [
    {
     "data": {
      "text/plain": [
       "0"
      ]
     },
     "execution_count": 41,
     "metadata": {},
     "output_type": "execute_result"
    }
   ],
   "source": [
    "a = [0,1,2,3,4,5]\n",
    "a[0:3]   # right value not included\n",
    "min(a[:3])"
   ]
  },
  {
   "cell_type": "code",
   "execution_count": 62,
   "metadata": {},
   "outputs": [
    {
     "name": "stdout",
     "output_type": "stream",
     "text": [
      "[('one', 1), ('two', 2), ('three', 3), ('four', 4), ('five', 5)]\n",
      "[('five', 5), ('four', 4), ('one', 1), ('three', 3), ('two', 2)]\n",
      "[('dave', 'B', 10), ('jane', 'B', 12), ('john', 'A', 15)]\n"
     ]
    }
   ],
   "source": [
    "# sorting a dictionary\n",
    "d = {'one':1,'three':3,'five':5,'two':2,'four':4}\n",
    "\n",
    "print(sorted(d.items(), key = lambda x:x[1]))   # (key, value) --> key : 0, value : 1\n",
    "print(sorted(d.items(), key = lambda x:x[0]))\n",
    "\n",
    "students = [\n",
    "     ('john', 'A', 15), \n",
    "     ('jane', 'B', 12),\n",
    "     ('dave', 'B', 10),\n",
    "]\n",
    "\n",
    "print(sorted(students, key = lambda x:x[2])) #sorting by Age"
   ]
  },
  {
   "cell_type": "code",
   "execution_count": 35,
   "metadata": {},
   "outputs": [
    {
     "name": "stdout",
     "output_type": "stream",
     "text": [
      "['let1 art can', 'let3 art zero', 'let2 own kit dig']\n",
      "['let1 art can', 'let2 own kit dig', 'let3 art zero']\n",
      "['let1 art can', 'let4 art zero', 'let3 art zero', 'let2 own kit dig']\n",
      "['let1 art can', 'let3 art zero', 'let4 art zero', 'let2 own kit dig']\n"
     ]
    }
   ],
   "source": [
    "logs = [\"let1 art can\", \"let2 own kit dig\" ,\"let3 art zero\"] \n",
    "logs2 = [\"let1 art can\",\"let4 art zero\",\"let2 own kit dig\",\"let3 art zero\"]\n",
    "\n",
    "print(sorted(logs, key = lambda x: x.split()[1:]))  # Sorting by content\n",
    "print(logs)      # sorted() doesn't sorts the original array itself .sort() does !!!!\n",
    "\n",
    "print(sorted(logs2, key = lambda x: x.split()[1:])) #Gives Stable Sorting regarding Identifiers\n",
    "\n",
    "print(sorted(logs2, key = lambda x: (x.split()[1:], x.split()[0])))  # Gives modified sorting\n",
    "                                                                    # First sorts by content\n",
    "                                                                    # Then if contents are same, sorts by identifiers"
   ]
  },
  {
   "cell_type": "code",
   "execution_count": null,
   "metadata": {},
   "outputs": [],
   "source": []
  },
  {
   "cell_type": "code",
   "execution_count": 65,
   "metadata": {},
   "outputs": [
    {
     "data": {
      "text/plain": [
       "97"
      ]
     },
     "execution_count": 65,
     "metadata": {},
     "output_type": "execute_result"
    }
   ],
   "source": [
    "ord('a')  #ASCII code conversion"
   ]
  },
  {
   "cell_type": "code",
   "execution_count": 18,
   "metadata": {},
   "outputs": [
    {
     "data": {
      "text/plain": [
       "12"
      ]
     },
     "execution_count": 18,
     "metadata": {},
     "output_type": "execute_result"
    }
   ],
   "source": [
    "dictt = {1:12}   # checking retrieval from the dictionary\n",
    "\n",
    "dictt.get(1,0)"
   ]
  },
  {
   "cell_type": "code",
   "execution_count": 10,
   "metadata": {},
   "outputs": [
    {
     "data": {
      "text/plain": [
       "['', '', '', '']"
      ]
     },
     "execution_count": 10,
     "metadata": {},
     "output_type": "execute_result"
    }
   ],
   "source": [
    "# Very useful when mapping stuff\n",
    "rows = 4\n",
    "arr = [\"\"]*rows     #list of n strings\n",
    "arr"
   ]
  },
  {
   "cell_type": "code",
   "execution_count": 51,
   "metadata": {},
   "outputs": [
    {
     "data": {
      "text/plain": [
       "'race car'"
      ]
     },
     "execution_count": 51,
     "metadata": {},
     "output_type": "execute_result"
    }
   ],
   "source": [
    "string = 'race CAr'\n",
    "string.lower()"
   ]
  },
  {
   "cell_type": "code",
   "execution_count": 52,
   "metadata": {},
   "outputs": [
    {
     "data": {
      "text/plain": [
       "False"
      ]
     },
     "execution_count": 52,
     "metadata": {},
     "output_type": "execute_result"
    }
   ],
   "source": [
    "string.isalnum()"
   ]
  },
  {
   "cell_type": "code",
   "execution_count": 23,
   "metadata": {},
   "outputs": [
    {
     "data": {
      "text/plain": [
       "True"
      ]
     },
     "execution_count": 23,
     "metadata": {},
     "output_type": "execute_result"
    }
   ],
   "source": [
    "'9'.isalnum()"
   ]
  },
  {
   "cell_type": "code",
   "execution_count": 24,
   "metadata": {},
   "outputs": [
    {
     "data": {
      "text/plain": [
       "True"
      ]
     },
     "execution_count": 24,
     "metadata": {},
     "output_type": "execute_result"
    }
   ],
   "source": [
    "'9'.isdigit()"
   ]
  },
  {
   "cell_type": "code",
   "execution_count": null,
   "metadata": {},
   "outputs": [],
   "source": [
    "# While processing string, always take care of the addition\n",
    "# of the last word or character, since cnditions "
   ]
  },
  {
   "cell_type": "code",
   "execution_count": 96,
   "metadata": {
    "tags": []
   },
   "outputs": [
    {
     "data": {
      "text/plain": [
       "{('a', 'e'): ['aae', 'aea', 'aeae', 'aaee'],\n",
       " ('a', 'e', 't'): ['eat', 'ate', 'tea', 'eat'],\n",
       " ('a', 'b', 't'): ['bat', 'tab']}"
      ]
     },
     "execution_count": 96,
     "metadata": {},
     "output_type": "execute_result"
    }
   ],
   "source": [
    "# Very good example of hasing unique sets through using tuples\n",
    "def solve(words):\n",
    "    anagrams = {}\n",
    "    \n",
    "    for each in words:\n",
    "        unique = tuple(sorted(set(each)))\n",
    "        if anagrams.get(unique,0) == 0:\n",
    "            anagrams[unique] = [each]\n",
    "        else:\n",
    "            anagrams[unique].append(each)\n",
    "    return anagrams\n",
    "\n",
    "solve([\"aae\",\"aea\",\"aeae\",\"aaee\",\"eat\", \"bat\", \"ate\", \"tab\", \"tea\", \"eat\"])"
   ]
  },
  {
   "cell_type": "code",
   "execution_count": 125,
   "metadata": {},
   "outputs": [
    {
     "name": "stdout",
     "output_type": "stream",
     "text": [
      "0\n",
      "1\n",
      "2\n",
      "3\n",
      "4\n",
      "5\n",
      "25\n"
     ]
    }
   ],
   "source": [
    "# trick to map 26 alphabets to array indexes i.e representing each index as an alphabet\n",
    "\n",
    "print(abs(97 - ord('a')))\n",
    "print(abs(97 - ord('b')))\n",
    "print(abs(97 - ord('c')))\n",
    "print(abs(97 - ord('d')))\n",
    "print(abs(97 - ord('e')))\n",
    "print(abs(97 - ord('f')))\n",
    "print(abs(97 - ord('z')))"
   ]
  },
  {
   "cell_type": "code",
   "execution_count": 144,
   "metadata": {},
   "outputs": [
    {
     "data": {
      "text/plain": [
       "True"
      ]
     },
     "execution_count": 144,
     "metadata": {},
     "output_type": "execute_result"
    }
   ],
   "source": [
    "set('css') & set('c') == set('c')"
   ]
  },
  {
   "cell_type": "code",
   "execution_count": 218,
   "metadata": {},
   "outputs": [
    {
     "data": {
      "text/plain": [
       "[1, 2]"
      ]
     },
     "execution_count": 218,
     "metadata": {},
     "output_type": "execute_result"
    }
   ],
   "source": [
    "a = [1,2,3]\n",
    "a.pop()    # list.pop() works only with lists not strings, DEFAULT = -1 index\n",
    "a"
   ]
  },
  {
   "cell_type": "code",
   "execution_count": 209,
   "metadata": {},
   "outputs": [
    {
     "data": {
      "text/plain": [
       "{1, 3}"
      ]
     },
     "execution_count": 209,
     "metadata": {},
     "output_type": "execute_result"
    }
   ],
   "source": [
    "a = (1,2,3)   # tuple is immutable, pop doesn't works\n",
    "\n",
    "b = set([1,2,3])  \n",
    "x = b.remove(2). # deletion in Set happens by giving item name"
   ]
  },
  {
   "cell_type": "code",
   "execution_count": 10,
   "metadata": {},
   "outputs": [
    {
     "data": {
      "text/plain": [
       "[1, 2, 3]"
      ]
     },
     "execution_count": 10,
     "metadata": {},
     "output_type": "execute_result"
    }
   ],
   "source": [
    "each = '2 1 3'\n",
    "each = each.split()\n",
    "each.sort()\n",
    "for i in range(len(each)):\n",
    "    each[i] = int(each[i])\n",
    "each"
   ]
  },
  {
   "cell_type": "code",
   "execution_count": 13,
   "metadata": {},
   "outputs": [
    {
     "data": {
      "text/plain": [
       "24"
      ]
     },
     "execution_count": 13,
     "metadata": {},
     "output_type": "execute_result"
    }
   ],
   "source": [
    "int('24')"
   ]
  },
  {
   "cell_type": "code",
   "execution_count": 1,
   "metadata": {},
   "outputs": [
    {
     "data": {
      "text/plain": [
       "0.0"
      ]
     },
     "execution_count": 1,
     "metadata": {},
     "output_type": "execute_result"
    }
   ],
   "source": [
    "0 / 60 #returns float always"
   ]
  },
  {
   "cell_type": "code",
   "execution_count": 3,
   "metadata": {},
   "outputs": [],
   "source": [
    "from collections import defaultdict"
   ]
  },
  {
   "cell_type": "code",
   "execution_count": 34,
   "metadata": {},
   "outputs": [
    {
     "name": "stdout",
     "output_type": "stream",
     "text": [
      " defaultdict(<class 'set'>, {0: {11, 22}, 1: {24, 23}})\n",
      "\n",
      " defaultdict(<class 'list'>, {0: [1, 2], 1: [3, 4]})\n",
      "\n",
      " defaultdict(<class 'tuple'>, {0: (-1, -2), 1: (-3, -4)})\n"
     ]
    }
   ],
   "source": [
    "# Using different types of collections as a default dict\n",
    "\n",
    "def func():\n",
    "    g1 = defaultdict(set)    \n",
    "    g1[0] = {11,22}\n",
    "    g1[1] = {23,24}\n",
    "    print('',g1)\n",
    "\n",
    "    g2 = defaultdict(list)\n",
    "    g2[0] = [1,2]\n",
    "    g2[1] = [3,4]\n",
    "    print('\\n',g2)\n",
    "\n",
    "    g3 = defaultdict(tuple)\n",
    "    g3[0] = (-1,-2)\n",
    "    g3[1] = (-3,-4)\n",
    "    print('\\n',g3)\n",
    "func()"
   ]
  },
  {
   "cell_type": "code",
   "execution_count": 35,
   "metadata": {},
   "outputs": [],
   "source": []
  },
  {
   "cell_type": "code",
   "execution_count": null,
   "metadata": {},
   "outputs": [],
   "source": []
  },
  {
   "cell_type": "code",
   "execution_count": 3,
   "metadata": {},
   "outputs": [],
   "source": [
    "from collections import defaultdict"
   ]
  },
  {
   "cell_type": "code",
   "execution_count": 19,
   "metadata": {},
   "outputs": [
    {
     "name": "stdout",
     "output_type": "stream",
     "text": [
      "B E F C A Cycle!\n"
     ]
    }
   ],
   "source": [
    "\n",
    "g = defaultdict(list)\n",
    "g = {\n",
    "  'A' : ['B','C'],\n",
    "  'B' : ['E','D'],\n",
    "  'C' : ['A','F'],\n",
    "  'D' : ['B'],\n",
    "  'E' : ['B','F'],\n",
    "  'F' : ['E','C']\n",
    "}\n",
    "\n",
    "def detect(graph, source):\n",
    "    visited = set()\n",
    "    \n",
    "    if isCyclic(source, graph, visited, None):\n",
    "        print('Cycle!')\n",
    "    else:\n",
    "        print('No cycle!')\n",
    "    \n",
    "def isCyclic(vtx, graph, visited, parent):\n",
    "    print(vtx, end=' ')\n",
    "    visited.add(vtx)\n",
    "    \n",
    "    for adj in graph[vtx]:\n",
    "        if adj not in visited:\n",
    "            if isCyclic(adj, graph, visited, vtx):\n",
    "                return True\n",
    "        else:\n",
    "            if adj != parent:\n",
    "                return True\n",
    "            \n",
    "    return False\n",
    "\n",
    "detect(g, 'B')    "
   ]
  },
  {
   "cell_type": "code",
   "execution_count": 9,
   "metadata": {},
   "outputs": [
    {
     "data": {
      "text/plain": [
       "[9, 0]"
      ]
     },
     "execution_count": 9,
     "metadata": {},
     "output_type": "execute_result"
    }
   ],
   "source": [
    "\n",
    "def generate(arr):\n",
    "    if len(arr) == 2:\n",
    "        return arr\n",
    "    temp = []\n",
    "    for i in range(len(arr)-1):\n",
    "        temp.append((arr[i] + arr[i+1])%10)\n",
    "    return generate(temp)\n",
    "    \n",
    "generate([1,2,3,4,5,6,7,8,9,1,2,3,4,5,6,6,7,8,1,2,3,4,5,6,7,8,9,1,2,3,4,5,6,6,7,8])"
   ]
  },
  {
   "cell_type": "code",
   "execution_count": null,
   "metadata": {},
   "outputs": [],
   "source": []
  },
  {
   "cell_type": "code",
   "execution_count": null,
   "metadata": {},
   "outputs": [],
   "source": []
  },
  {
   "cell_type": "code",
   "execution_count": null,
   "metadata": {},
   "outputs": [],
   "source": []
  },
  {
   "cell_type": "code",
   "execution_count": null,
   "metadata": {},
   "outputs": [],
   "source": []
  },
  {
   "cell_type": "code",
   "execution_count": null,
   "metadata": {},
   "outputs": [],
   "source": []
  },
  {
   "cell_type": "code",
   "execution_count": null,
   "metadata": {},
   "outputs": [],
   "source": []
  },
  {
   "cell_type": "code",
   "execution_count": null,
   "metadata": {},
   "outputs": [],
   "source": []
  },
  {
   "cell_type": "code",
   "execution_count": null,
   "metadata": {},
   "outputs": [],
   "source": []
  },
  {
   "cell_type": "code",
   "execution_count": 1,
   "metadata": {},
   "outputs": [
    {
     "data": {
      "text/plain": [
       "9"
      ]
     },
     "execution_count": 1,
     "metadata": {},
     "output_type": "execute_result"
    }
   ],
   "source": [
    "%10"
   ]
  },
  {
   "cell_type": "code",
   "execution_count": 8,
   "metadata": {},
   "outputs": [
    {
     "data": {
      "text/plain": [
       "[0, 0, 0, 1, 1, 1, 2, 2, 2]"
      ]
     },
     "execution_count": 8,
     "metadata": {},
     "output_type": "execute_result"
    }
   ],
   "source": [
    "def ans(A, minn, maxx):\n",
    "    counts = {}\n",
    "    med = None\n",
    "    for each in A:\n",
    "        if each == minn:\n",
    "            counts[minn] = counts.get(each,0) + 1\n",
    "        elif each == maxx:\n",
    "            counts[maxx] = counts.get(each,0) + 1\n",
    "        else:\n",
    "            med = each\n",
    "            counts[each] = counts.get(each,0) + 1\n",
    "            \n",
    "    return [minn]*counts[minn] + [med]*counts[med] + [maxx]*counts[maxx]\n",
    "    \n",
    "ans([0,1,0,1,2,1,2,0,2], 0, 2)"
   ]
  },
  {
   "cell_type": "code",
   "execution_count": 7,
   "metadata": {},
   "outputs": [
    {
     "data": {
      "text/plain": [
       "[0, 0, 0, 1, 1, 1, 2, 2, 2]"
      ]
     },
     "execution_count": 7,
     "metadata": {},
     "output_type": "execute_result"
    }
   ],
   "source": [
    "x = [0]*3 + [1]*3 + [2]*3\n",
    "x"
   ]
  },
  {
   "cell_type": "code",
   "execution_count": 21,
   "metadata": {},
   "outputs": [
    {
     "name": "stdout",
     "output_type": "stream",
     "text": [
      "hh\n"
     ]
    }
   ],
   "source": [
    "import requests\n",
    "  \n",
    "# import json\n",
    "#import json\n",
    "# store the URL in url as \n",
    "# parameter for urlopen\n",
    "url = \"https://api.ncbi.nlm.nih.gov/lit/ctxp/v1/pubmed/?id=2234\"\n",
    "headers = {\n",
    "    'User-Agent' : 'Hydra/1.3.15'\n",
    "}\n",
    "response = requests.get(url, headers=headers)  \n",
    "\n",
    "if response:\n",
    "    print('h')\n",
    "else:\n",
    "    print()"
   ]
  },
  {
   "cell_type": "code",
   "execution_count": 22,
   "metadata": {},
   "outputs": [
    {
     "ename": "ModuleNotFoundError",
     "evalue": "No module named 'flask_restful'",
     "output_type": "error",
     "traceback": [
      "\u001b[0;31m---------------------------------------------------------------------------\u001b[0m",
      "\u001b[0;31mModuleNotFoundError\u001b[0m                       Traceback (most recent call last)",
      "\u001b[0;32m<ipython-input-22-0dd8f0398c76>\u001b[0m in \u001b[0;36m<module>\u001b[0;34m\u001b[0m\n\u001b[1;32m      1\u001b[0m \u001b[0;32mfrom\u001b[0m \u001b[0mflask\u001b[0m \u001b[0;32mimport\u001b[0m \u001b[0mFlask\u001b[0m\u001b[0;34m,\u001b[0m \u001b[0mrender_template\u001b[0m\u001b[0;34m\u001b[0m\u001b[0;34m\u001b[0m\u001b[0m\n\u001b[0;32m----> 2\u001b[0;31m \u001b[0;32mfrom\u001b[0m \u001b[0mflask_restful\u001b[0m \u001b[0;32mimport\u001b[0m \u001b[0mResource\u001b[0m\u001b[0;34m,\u001b[0m \u001b[0mApi\u001b[0m\u001b[0;34m,\u001b[0m \u001b[0mreqparse\u001b[0m\u001b[0;34m\u001b[0m\u001b[0;34m\u001b[0m\u001b[0m\n\u001b[0m\u001b[1;32m      3\u001b[0m \u001b[0mimpo\u001b[0m\u001b[0;34m\u001b[0m\u001b[0;34m\u001b[0m\u001b[0m\n\u001b[1;32m      4\u001b[0m \u001b[0;32mimport\u001b[0m \u001b[0mos\u001b[0m\u001b[0;34m\u001b[0m\u001b[0;34m\u001b[0m\u001b[0m\n\u001b[1;32m      5\u001b[0m \u001b[0;34m\u001b[0m\u001b[0m\n",
      "\u001b[0;31mModuleNotFoundError\u001b[0m: No module named 'flask_restful'"
     ]
    }
   ],
   "source": [
    "from flask import Flask, render_template\n",
    "from flask_restful import Resource, Api, reqparse\n",
    "import requests\n",
    "import os\n",
    "\n",
    "app = Flask(__name__)\n",
    "api = Api(app)\n",
    "\n",
    "@app.route('/')\n",
    "def index():\n",
    "    return render_template('index.html', title='ISI assessment') #displays the returned response on a simple html webpage\n",
    "\n",
    "# class to handle our work, it's called in our HTML form in the index.html\n",
    "class Citations(Resource):\n",
    "    def __init__(self):\n",
    "        self.url = \"https://api.ncbi.nlm.nih.gov/lit/ctxp/v1/pubmed/?id=\"\n",
    "        self.headers = {\n",
    "                'User-Agent' : 'Hydra/1.3.15'\n",
    "                    }\n",
    "\n",
    "    def get(self):\n",
    "        parser = reqparse.RequestParser()  # initialize the argument parser\n",
    "        parser.add_argument('IDs', required=True, help = 'Enter ID')\n",
    "        arguments = parser.parse_args()    # input ID\n",
    "        entered_ID = arguments[\"IDs\"] \n",
    "        response = requests.get(self.url, headers=self.headers) \n",
    "        if response:\n",
    "            return response, 200               # returing the retrieved data with 200 OK status code\n",
    "        else:\n",
    "            return 'Erorr', 400\n",
    "        \n",
    "\n",
    "api.add_resource(Citations, '/citations')   # add api endpoint\n",
    "\n",
    "if __name__ == '__main__':\n",
    "    port = int(os.environ.get('PORT', 5000))\n",
    "    app.run(host=\"0.0.0.0\", port=port, debug=True)  # run our Flask app"
   ]
  },
  {
   "cell_type": "code",
   "execution_count": 23,
   "metadata": {},
   "outputs": [
    {
     "ename": "SyntaxError",
     "evalue": "invalid syntax (<ipython-input-23-89902be75263>, line 1)",
     "output_type": "error",
     "traceback": [
      "\u001b[0;36m  File \u001b[0;32m\"<ipython-input-23-89902be75263>\"\u001b[0;36m, line \u001b[0;32m1\u001b[0m\n\u001b[0;31m    SELECT a.*, b.*, c.*\u001b[0m\n\u001b[0m           ^\u001b[0m\n\u001b[0;31mSyntaxError\u001b[0m\u001b[0;31m:\u001b[0m invalid syntax\n"
     ]
    }
   ],
   "source": [
    "SELECT a.*, b.*, c.*\n",
    "    FROM \n",
    "    TABLE_1 AS a\n",
    "    LEFT JOIN TABLE_2 AS b\n",
    "    ON a.customer_id = b.customer_id\n",
    "    LEFT JOIN TABLE_3 AS c\n",
    "    ON b.product_id = c.product_id"
   ]
  },
  {
   "cell_type": "code",
   "execution_count": null,
   "metadata": {},
   "outputs": [],
   "source": []
  },
  {
   "cell_type": "code",
   "execution_count": null,
   "metadata": {},
   "outputs": [],
   "source": []
  }
 ],
 "metadata": {
  "kernelspec": {
   "display_name": "Python 3",
   "language": "python",
   "name": "python3"
  },
  "language_info": {
   "codemirror_mode": {
    "name": "ipython",
    "version": 3
   },
   "file_extension": ".py",
   "mimetype": "text/x-python",
   "name": "python",
   "nbconvert_exporter": "python",
   "pygments_lexer": "ipython3",
   "version": "3.8.5"
  }
 },
 "nbformat": 4,
 "nbformat_minor": 4
}
