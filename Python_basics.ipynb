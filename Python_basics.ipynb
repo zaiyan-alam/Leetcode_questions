{
 "cells": [
  {
   "cell_type": "code",
   "execution_count": 1,
   "metadata": {},
   "outputs": [
    {
     "data": {
      "text/plain": [
       "{2, 3}"
      ]
     },
     "execution_count": 1,
     "metadata": {},
     "output_type": "execute_result"
    }
   ],
   "source": [
    "a = set([1,2,3])\n",
    "a.pop()\n",
    "a"
   ]
  },
  {
   "cell_type": "code",
   "execution_count": 2,
   "metadata": {},
   "outputs": [
    {
     "name": "stdout",
     "output_type": "stream",
     "text": [
      "2\n",
      "3\n"
     ]
    },
    {
     "data": {
      "text/plain": [
       "set()"
      ]
     },
     "execution_count": 2,
     "metadata": {},
     "output_type": "execute_result"
    }
   ],
   "source": [
    "while a:\n",
    "    print(a.pop())\n",
    "a"
   ]
  },
  {
   "cell_type": "code",
   "execution_count": 4,
   "metadata": {},
   "outputs": [
    {
     "name": "stdout",
     "output_type": "stream",
     "text": [
      "{3}\n",
      "{1, 2, 3, 4, 5}\n"
     ]
    }
   ],
   "source": [
    "a = set([1,2,3])\n",
    "b = set([3,4,5])\n",
    "\n",
    "print(a&b)\n",
    "print(a|b)"
   ]
  },
  {
   "cell_type": "code",
   "execution_count": 6,
   "metadata": {},
   "outputs": [],
   "source": [
    "a = {}\n",
    "b = [1,2]\n",
    "a[b] = 1   # ERROR : list is not hashable"
   ]
  },
  {
   "cell_type": "code",
   "execution_count": 7,
   "metadata": {},
   "outputs": [
    {
     "data": {
      "text/plain": [
       "{(1, 2): 1}"
      ]
     },
     "execution_count": 7,
     "metadata": {},
     "output_type": "execute_result"
    }
   ],
   "source": [
    "a = {}\n",
    "a[tuple(b)]=1   #tuple is hashable\n",
    "a"
   ]
  },
  {
   "cell_type": "code",
   "execution_count": 48,
   "metadata": {},
   "outputs": [
    {
     "name": "stdout",
     "output_type": "stream",
     "text": [
      "1 2\n",
      "2 3\n"
     ]
    },
    {
     "data": {
      "text/plain": [
       "{1: 2, 2: 3, 3: 4}"
      ]
     },
     "execution_count": 48,
     "metadata": {},
     "output_type": "execute_result"
    }
   ],
   "source": [
    "a = {1:2,2:3}\n",
    "for k,v in a.items():\n",
    "    print(k,v)"
   ]
  },
  {
   "cell_type": "code",
   "execution_count": 52,
   "metadata": {},
   "outputs": [
    {
     "name": "stdout",
     "output_type": "stream",
     "text": [
      "<class 'set'>\n"
     ]
    },
    {
     "data": {
      "text/plain": [
       "[1, 2, 3, 4]"
      ]
     },
     "execution_count": 52,
     "metadata": {},
     "output_type": "execute_result"
    }
   ],
   "source": [
    "a = {1,2,3,4}\n",
    "print(type(a))\n",
    "list(a)"
   ]
  },
  {
   "cell_type": "code",
   "execution_count": 54,
   "metadata": {},
   "outputs": [],
   "source": [
    "# Use a list of sets to extract unique combinations\n",
    "# SETS AE UNORDERED\n",
    "# sorted() must be used in order to save unique sets"
   ]
  },
  {
   "cell_type": "code",
   "execution_count": 100,
   "metadata": {},
   "outputs": [
    {
     "data": {
      "text/plain": [
       "{1, 2, 3, 4}"
      ]
     },
     "execution_count": 100,
     "metadata": {},
     "output_type": "execute_result"
    }
   ],
   "source": [
    "set([4,3,2,1])"
   ]
  },
  {
   "cell_type": "code",
   "execution_count": 57,
   "metadata": {},
   "outputs": [
    {
     "data": {
      "text/plain": [
       "{'a', 'b', 'd', 'e'}"
      ]
     },
     "execution_count": 57,
     "metadata": {},
     "output_type": "execute_result"
    }
   ],
   "source": [
    "set(['a','d','e','b']) "
   ]
  },
  {
   "cell_type": "code",
   "execution_count": 74,
   "metadata": {},
   "outputs": [
    {
     "name": "stdout",
     "output_type": "stream",
     "text": [
      "4\n",
      "0\n",
      "3\n"
     ]
    }
   ],
   "source": [
    "# Binary search\n",
    "\n",
    "import bisect as bi\n",
    "\n",
    "arr = [2,4,6,8]\n",
    "\n",
    "# if value not present & greater than largest item,\n",
    "# it returns len(array)\n",
    "print(bi.bisect_left(arr,9))\n",
    "\n",
    "# if if value not present & smaller than smallest item,\n",
    "# it returns 0\n",
    "print(bi.bisect_left(arr,1))\n",
    "\n",
    "# it returns the index of the element\n",
    "print(bi.bisect_left(arr,8))"
   ]
  },
  {
   "cell_type": "code",
   "execution_count": 78,
   "metadata": {},
   "outputs": [
    {
     "data": {
      "text/plain": [
       "{(1, 2): 4, (2, 1): 5}"
      ]
     },
     "execution_count": 78,
     "metadata": {},
     "output_type": "execute_result"
    }
   ],
   "source": [
    "# tuples can be hashed\n",
    "\n",
    "k = {(1,2):4}\n",
    "k[(2,1)]=5\n",
    "k"
   ]
  },
  {
   "cell_type": "code",
   "execution_count": 1,
   "metadata": {},
   "outputs": [],
   "source": [
    "# How to use nonlocal in case of resursive functions\n",
    "# using a COUNT variable recursively\n",
    "\n",
    "def get_val(node):\n",
    "    def get_count(node, max_so_far):\n",
    "        nonlocal count\n",
    "        if node.val >= max_so_far:\n",
    "            count += 1\n",
    "            max_so_far = node.val\n",
    "        if node.left:\n",
    "            get_count(node.left, max_so_far)\n",
    "        if node.right:\n",
    "            get_count(node.right, max_so_far)\n",
    "    count = 0\n",
    "    get_count(root, root.val)\n",
    "    return count"
   ]
  },
  {
   "cell_type": "code",
   "execution_count": 41,
   "metadata": {},
   "outputs": [
    {
     "data": {
      "text/plain": [
       "0"
      ]
     },
     "execution_count": 41,
     "metadata": {},
     "output_type": "execute_result"
    }
   ],
   "source": [
    "a = [0,1,2,3,4,5]\n",
    "a[0:3]   # right value not included\n",
    "min(a[:3])"
   ]
  },
  {
   "cell_type": "code",
   "execution_count": 62,
   "metadata": {},
   "outputs": [
    {
     "name": "stdout",
     "output_type": "stream",
     "text": [
      "[('one', 1), ('two', 2), ('three', 3), ('four', 4), ('five', 5)]\n",
      "[('five', 5), ('four', 4), ('one', 1), ('three', 3), ('two', 2)]\n",
      "[('dave', 'B', 10), ('jane', 'B', 12), ('john', 'A', 15)]\n"
     ]
    }
   ],
   "source": [
    "# sorting a dictionary\n",
    "d = {'one':1,'three':3,'five':5,'two':2,'four':4}\n",
    "\n",
    "print(sorted(d.items(), key = lambda x:x[1]))   # (key, value) --> key : 0, value : 1\n",
    "print(sorted(d.items(), key = lambda x:x[0]))\n",
    "\n",
    "students = [\n",
    "     ('john', 'A', 15), \n",
    "     ('jane', 'B', 12),\n",
    "     ('dave', 'B', 10),\n",
    "]\n",
    "\n",
    "print(sorted(students, key = lambda x:x[2])) #sorting by Age"
   ]
  },
  {
   "cell_type": "code",
   "execution_count": 35,
   "metadata": {},
   "outputs": [
    {
     "name": "stdout",
     "output_type": "stream",
     "text": [
      "['let1 art can', 'let3 art zero', 'let2 own kit dig']\n",
      "['let1 art can', 'let2 own kit dig', 'let3 art zero']\n",
      "['let1 art can', 'let4 art zero', 'let3 art zero', 'let2 own kit dig']\n",
      "['let1 art can', 'let3 art zero', 'let4 art zero', 'let2 own kit dig']\n"
     ]
    }
   ],
   "source": [
    "logs = [\"let1 art can\", \"let2 own kit dig\" ,\"let3 art zero\"] \n",
    "logs2 = [\"let1 art can\",\"let4 art zero\",\"let2 own kit dig\",\"let3 art zero\"]\n",
    "\n",
    "print(sorted(logs, key = lambda x: x.split()[1:]))  # Sorting by content\n",
    "print(logs)      # sorted() doesn't sorts the original array itself .sort() does !!!!\n",
    "\n",
    "print(sorted(logs2, key = lambda x: x.split()[1:])) #Gives Stable Sorting regarding Identifiers\n",
    "\n",
    "print(sorted(logs2, key = lambda x: (x.split()[1:], x.split()[0])))  # Gives modified sorting\n",
    "                                                                    # First sorts by content\n",
    "                                                                    # Then if contents are same, sorts by identifiers"
   ]
  },
  {
   "cell_type": "code",
   "execution_count": null,
   "metadata": {},
   "outputs": [],
   "source": []
  },
  {
   "cell_type": "code",
   "execution_count": 65,
   "metadata": {},
   "outputs": [
    {
     "data": {
      "text/plain": [
       "97"
      ]
     },
     "execution_count": 65,
     "metadata": {},
     "output_type": "execute_result"
    }
   ],
   "source": [
    "ord('a')  #ASCII code conversion"
   ]
  },
  {
   "cell_type": "code",
   "execution_count": 18,
   "metadata": {},
   "outputs": [
    {
     "data": {
      "text/plain": [
       "12"
      ]
     },
     "execution_count": 18,
     "metadata": {},
     "output_type": "execute_result"
    }
   ],
   "source": [
    "dictt = {1:12}   # checking retrieval from the dictionary\n",
    "\n",
    "dictt.get(1,0)"
   ]
  },
  {
   "cell_type": "code",
   "execution_count": 10,
   "metadata": {},
   "outputs": [
    {
     "data": {
      "text/plain": [
       "['', '', '', '']"
      ]
     },
     "execution_count": 10,
     "metadata": {},
     "output_type": "execute_result"
    }
   ],
   "source": [
    "# Very useful when mapping stuff\n",
    "rows = 4\n",
    "arr = [\"\"]*rows     #list of n strings\n",
    "arr"
   ]
  },
  {
   "cell_type": "code",
   "execution_count": 51,
   "metadata": {},
   "outputs": [
    {
     "data": {
      "text/plain": [
       "'race car'"
      ]
     },
     "execution_count": 51,
     "metadata": {},
     "output_type": "execute_result"
    }
   ],
   "source": [
    "string = 'race CAr'\n",
    "string.lower()"
   ]
  },
  {
   "cell_type": "code",
   "execution_count": 52,
   "metadata": {},
   "outputs": [
    {
     "data": {
      "text/plain": [
       "False"
      ]
     },
     "execution_count": 52,
     "metadata": {},
     "output_type": "execute_result"
    }
   ],
   "source": [
    "string.isalnum()"
   ]
  },
  {
   "cell_type": "code",
   "execution_count": 23,
   "metadata": {},
   "outputs": [
    {
     "data": {
      "text/plain": [
       "True"
      ]
     },
     "execution_count": 23,
     "metadata": {},
     "output_type": "execute_result"
    }
   ],
   "source": [
    "'9'.isalnum()"
   ]
  },
  {
   "cell_type": "code",
   "execution_count": 24,
   "metadata": {},
   "outputs": [
    {
     "data": {
      "text/plain": [
       "True"
      ]
     },
     "execution_count": 24,
     "metadata": {},
     "output_type": "execute_result"
    }
   ],
   "source": [
    "'9'.isdigit()"
   ]
  },
  {
   "cell_type": "code",
   "execution_count": null,
   "metadata": {},
   "outputs": [],
   "source": [
    "# While processing string, always take care of the addition\n",
    "# of the last word or character, since cnditions "
   ]
  },
  {
   "cell_type": "code",
   "execution_count": 96,
   "metadata": {
    "tags": []
   },
   "outputs": [
    {
     "data": {
      "text/plain": [
       "{('a', 'e'): ['aae', 'aea', 'aeae', 'aaee'],\n",
       " ('a', 'e', 't'): ['eat', 'ate', 'tea', 'eat'],\n",
       " ('a', 'b', 't'): ['bat', 'tab']}"
      ]
     },
     "execution_count": 96,
     "metadata": {},
     "output_type": "execute_result"
    }
   ],
   "source": [
    "# Very good example of hasing unique sets through using tuples\n",
    "def solve(words):\n",
    "    anagrams = {}\n",
    "    \n",
    "    for each in words:\n",
    "        unique = tuple(sorted(set(each)))\n",
    "        if anagrams.get(unique,0) == 0:\n",
    "            anagrams[unique] = [each]\n",
    "        else:\n",
    "            anagrams[unique].append(each)\n",
    "    return anagrams\n",
    "\n",
    "solve([\"aae\",\"aea\",\"aeae\",\"aaee\",\"eat\", \"bat\", \"ate\", \"tab\", \"tea\", \"eat\"])"
   ]
  },
  {
   "cell_type": "code",
   "execution_count": 125,
   "metadata": {},
   "outputs": [
    {
     "name": "stdout",
     "output_type": "stream",
     "text": [
      "0\n",
      "1\n",
      "2\n",
      "3\n",
      "4\n",
      "5\n",
      "25\n"
     ]
    }
   ],
   "source": [
    "# trick to map 26 alphabets to array indexes i.e representing each index as an alphabet\n",
    "\n",
    "print(abs(97 - ord('a')))\n",
    "print(abs(97 - ord('b')))\n",
    "print(abs(97 - ord('c')))\n",
    "print(abs(97 - ord('d')))\n",
    "print(abs(97 - ord('e')))\n",
    "print(abs(97 - ord('f')))\n",
    "print(abs(97 - ord('z')))"
   ]
  },
  {
   "cell_type": "code",
   "execution_count": 144,
   "metadata": {},
   "outputs": [
    {
     "data": {
      "text/plain": [
       "True"
      ]
     },
     "execution_count": 144,
     "metadata": {},
     "output_type": "execute_result"
    }
   ],
   "source": [
    "set('css') & set('c') == set('c')"
   ]
  },
  {
   "cell_type": "code",
   "execution_count": 218,
   "metadata": {},
   "outputs": [
    {
     "data": {
      "text/plain": [
       "[1, 2]"
      ]
     },
     "execution_count": 218,
     "metadata": {},
     "output_type": "execute_result"
    }
   ],
   "source": [
    "a = [1,2,3]\n",
    "a.pop()    # list.pop() works only with lists not strings, DEFAULT = -1 index\n",
    "a"
   ]
  },
  {
   "cell_type": "code",
   "execution_count": 209,
   "metadata": {},
   "outputs": [
    {
     "data": {
      "text/plain": [
       "{1, 3}"
      ]
     },
     "execution_count": 209,
     "metadata": {},
     "output_type": "execute_result"
    }
   ],
   "source": [
    "a = (1,2,3)   # tuple is immutable, pop doesn't works\n",
    "\n",
    "b = set([1,2,3])  \n",
    "x = b.remove(2). # deletion in Set happens by giving item name"
   ]
  },
  {
   "cell_type": "code",
   "execution_count": null,
   "metadata": {},
   "outputs": [],
   "source": []
  },
  {
   "cell_type": "code",
   "execution_count": 221,
   "metadata": {},
   "outputs": [
    {
     "data": {
      "text/plain": [
       "4"
      ]
     },
     "execution_count": 221,
     "metadata": {},
     "output_type": "execute_result"
    }
   ],
   "source": [
    "def is_vowel(char):\n",
    "    vowels = 'aeiou'\n",
    "    \n",
    "    if char.lower() in vowels:\n",
    "        return 1\n",
    "    else:\n",
    "        return 0\n",
    "    \n",
    "def count(string):\n",
    "    if string == '':\n",
    "        return 0\n",
    "    else:\n",
    "        return count(string[:len(string)-1]) + is_vowel(string[-1])\n",
    "    \n",
    "count('aeiol')"
   ]
  },
  {
   "cell_type": "code",
   "execution_count": 14,
   "metadata": {},
   "outputs": [
    {
     "data": {
      "text/plain": [
       "0"
      ]
     },
     "execution_count": 14,
     "metadata": {},
     "output_type": "execute_result"
    }
   ],
   "source": [
    "class Solution:\n",
    "    def solve(self,s):\n",
    "        if len(s) == 0 or len(s) == 1:\n",
    "            return 0\n",
    "        \n",
    "        groups = []\n",
    "        prev_char = s[0]\n",
    "        char_len = 0\n",
    "        \n",
    "        for i in s:\n",
    "            if i == prev_char : \n",
    "                char_len += 1\n",
    "            else:\n",
    "                groups.append(char_len)\n",
    "                char_len = 1\n",
    "                prev_char = i\n",
    "\n",
    "        groups.append(char_len)\n",
    "        result = 0\n",
    "        for i in range(len(groups)-1):\n",
    "            result += min(groups[i],groups[i+1])\n",
    "        return result\n",
    "                \n",
    "a = Solution()\n",
    "a.solve('0')"
   ]
  },
  {
   "cell_type": "code",
   "execution_count": 72,
   "metadata": {},
   "outputs": [
    {
     "name": "stdout",
     "output_type": "stream",
     "text": [
      "[[5, 10], [3, 9], [4, 7], [2, 5]]\n"
     ]
    },
    {
     "data": {
      "text/plain": [
       "91"
      ]
     },
     "execution_count": 72,
     "metadata": {},
     "output_type": "execute_result"
    }
   ],
   "source": [
    "class Solution:\n",
    "    def solve(self, boxTypes, truckSize):\n",
    "        \n",
    "        boxTypes.sort(key = lambda x : x[1], reverse = True)\n",
    "        result = 0\n",
    "        \n",
    "        while boxTypes:\n",
    "            curr = boxTypes.pop(0)\n",
    "            if curr[0] < truckSize:\n",
    "                result += ( curr[0] * curr[1])\n",
    "                truckSize -= curr[0]\n",
    "            else:\n",
    "                result += truckSize * curr[1]\n",
    "                break\n",
    "        \n",
    "        return result\n",
    "    \n",
    "    \n",
    "a = Solution()\n",
    "a.solve([[5,10],[2,5],[4,7],[3,9]] , 10)\n",
    "                \n",
    "        \n",
    "                \n",
    "        \n",
    "                \n",
    "        \n",
    "        "
   ]
  },
  {
   "cell_type": "code",
   "execution_count": null,
   "metadata": {},
   "outputs": [],
   "source": []
  },
  {
   "cell_type": "code",
   "execution_count": null,
   "metadata": {},
   "outputs": [],
   "source": []
  },
  {
   "cell_type": "code",
   "execution_count": null,
   "metadata": {},
   "outputs": [],
   "source": []
  },
  {
   "cell_type": "code",
   "execution_count": null,
   "metadata": {},
   "outputs": [],
   "source": []
  },
  {
   "cell_type": "code",
   "execution_count": null,
   "metadata": {},
   "outputs": [],
   "source": []
  },
  {
   "cell_type": "code",
   "execution_count": null,
   "metadata": {},
   "outputs": [],
   "source": []
  }
 ],
 "metadata": {
  "kernelspec": {
   "display_name": "Python 3",
   "language": "python",
   "name": "python3"
  },
  "language_info": {
   "codemirror_mode": {
    "name": "ipython",
    "version": 3
   },
   "file_extension": ".py",
   "mimetype": "text/x-python",
   "name": "python",
   "nbconvert_exporter": "python",
   "pygments_lexer": "ipython3",
   "version": "3.9.0"
  }
 },
 "nbformat": 4,
 "nbformat_minor": 4
}
