{
 "cells": [
  {
   "cell_type": "markdown",
   "metadata": {},
   "source": [
    "# Primitives"
   ]
  },
  {
   "cell_type": "markdown",
   "metadata": {},
   "source": [
    "#### 1. Palindrome number"
   ]
  },
  {
   "cell_type": "code",
   "execution_count": 35,
   "metadata": {},
   "outputs": [],
   "source": [
    "# O(n) since the entire number is iterated\n",
    "\n",
    "def isPalindrome(x):\n",
    "        '''\n",
    "        :type x: int\n",
    "        :rtype: bool\n",
    "        '''\n",
    "        y = x\n",
    "        num = []\n",
    "        if y > 0:\n",
    "            while y !=0 :\n",
    "                num.append(str(int(y%10)))\n",
    "                y = (y-(y%10))/10\n",
    "            if int(''.join(num)) == x:\n",
    "                return True\n",
    "            else:\n",
    "                return False\n",
    "        else :\n",
    "            return False\n",
    "        \n",
    "#print(isPalindrome(124421), isPalindrome(-1), isPalindrome(9))"
   ]
  },
  {
   "cell_type": "code",
   "execution_count": 34,
   "metadata": {},
   "outputs": [],
   "source": [
    "# O(n/2) since only half of the length is traversed\n",
    "\n",
    "import math\n",
    "\n",
    "def isPalindrome2(x):\n",
    "        '''\n",
    "        :type x: int\n",
    "        :rtype: bool\n",
    "        '''\n",
    "        if x <=0 :\n",
    "            return False\n",
    "        \n",
    "        total_digits = math.floor(math.log10(x)) + 1\n",
    "        mask = math.pow(10,total_digits - 1)\n",
    "        \n",
    "        for i in range(total_digits//2):\n",
    "            rd = x//mask\n",
    "            ld = x%10\n",
    "            \n",
    "            if ld != rd:\n",
    "                return False\n",
    "            \n",
    "            x %= mask\n",
    "            x //= 10\n",
    "            mask //= 100\n",
    "        \n",
    "        return True\n",
    "        \n",
    "#print(isPalindrome2(124421), isPalindrome2(-1), isPalindrome2(9))"
   ]
  },
  {
   "cell_type": "markdown",
   "metadata": {},
   "source": [
    "#### 2. Add two integer strings"
   ]
  },
  {
   "cell_type": "code",
   "execution_count": 60,
   "metadata": {},
   "outputs": [],
   "source": [
    "# similar to paper based right to left addition, result generated in reverse order\n",
    "\n",
    "# O(k) solution, where k is longer string\n",
    "\n",
    "def addStrings(s1, s2):\n",
    "        '''\n",
    "        :type s1: str\n",
    "        :type s2: str\n",
    "        :rtype: str\n",
    "        '''\n",
    "        i = len(s1) - 1\n",
    "        j = len(s2) - 1\n",
    "        carry = 0\n",
    "        result = ''\n",
    "        while i >= 0 or j >=0:\n",
    "            sum = 0\n",
    "            sum += carry\n",
    "            if i >=0 :\n",
    "                sum += ord(s1[i]) - ord('0')\n",
    "                i -= 1\n",
    "                \n",
    "            if j >= 0 :\n",
    "                sum += ord(s2[j]) - ord('0')\n",
    "                j -= 1\n",
    "                \n",
    "            val = sum % 10\n",
    "            carry = sum // 10  # carry is going be 1st digit of sum value i.e either 0 or 1\n",
    "            result += str(val)\n",
    "        if carry != 0:\n",
    "            result += str(carry)\n",
    "        return result[::-1]\n",
    "        \n",
    "        \n",
    "#print(addStrings(\"1234567890\",\"1234567890\"))"
   ]
  },
  {
   "cell_type": "markdown",
   "metadata": {},
   "source": [
    "#### 3. Check if given num is power of 2"
   ]
  },
  {
   "cell_type": "code",
   "execution_count": 135,
   "metadata": {},
   "outputs": [
    {
     "data": {
      "text/plain": [
       "False"
      ]
     },
     "execution_count": 135,
     "metadata": {},
     "output_type": "execute_result"
    }
   ],
   "source": [
    "import math\n",
    "\n",
    "# O(1) time\n",
    "\n",
    "def powerOfTwo(input):\n",
    "        '''\n",
    "        :type input: int\n",
    "        :rtype: bool\n",
    "        '''\n",
    "        x = math.log2(input)\n",
    "        y = math.floor(x)\n",
    "        \n",
    "        if x == y :\n",
    "            return True\n",
    "        else:\n",
    "            return False\n",
    "\n",
    "\n",
    "powerOfTwo(12)"
   ]
  },
  {
   "cell_type": "markdown",
   "metadata": {},
   "source": [
    "#### 4. Shortest time difference"
   ]
  },
  {
   "cell_type": "code",
   "execution_count": 128,
   "metadata": {},
   "outputs": [],
   "source": [
    "# Convert the times into minutes and sort the array, don't forget to take one backward difference on the clock\n",
    "\n",
    "# O(nlogn)\n",
    "\n",
    "def timeDifference(times):\n",
    "        '''\n",
    "        :type times: list of str\n",
    "        :rtype: int\n",
    "        '''\n",
    "        minutes = []\n",
    "        dictt = {}\n",
    "        for i in times:\n",
    "            temp = i.split(':')\n",
    "            val = (int(temp[0])*60) + int(temp[1])\n",
    "            minutes.append(val)\n",
    "            dictt[val] = i\n",
    "            \n",
    "        minutes.sort()\n",
    "        \n",
    "        if len(minutes) == 2:\n",
    "            return (dictt[minutes[1]],dictt[minutes[0]], minutes[1] - minutes[0])\n",
    "        time1 = 0\n",
    "        time2 = 0\n",
    "        diff = 0\n",
    "        fwd = 0\n",
    "        for i in range(len(minutes)-1) : \n",
    "            if i == 0:\n",
    "                diff = minutes[i] + (1440-minutes[-1])\n",
    "                time1, time2 = minutes[i], minutes[-1]\n",
    "                \n",
    "            fwd = minutes[i+1] - minutes[i]\n",
    "            if fwd < diff:\n",
    "                diff = fwd\n",
    "                time1, time2 = minutes[i], minutes[i+1]\n",
    "            \n",
    "        return (dictt[time1],dictt[time2], diff)\n",
    "        \n",
    "\n",
    "#print(\n",
    "#        timeDifference([\"00:03\", \"23:59\", \"12:03\"]),\n",
    "#        timeDifference([\"00:01\", \"00:02\"]),\n",
    "#        timeDifference([\"00:00\",\"23:59\",\"00:00\"])\n",
    "#     )    "
   ]
  },
  {
   "cell_type": "markdown",
   "metadata": {},
   "source": [
    "#### 5. Reverse Bits"
   ]
  },
  {
   "cell_type": "code",
   "execution_count": 180,
   "metadata": {},
   "outputs": [
    {
     "data": {
      "text/plain": [
       "4209"
      ]
     },
     "execution_count": 180,
     "metadata": {},
     "output_type": "execute_result"
    }
   ],
   "source": [
    "#\n",
    "\n",
    "def reverseBits(input):\n",
    "        '''\n",
    "        :type input: int\n",
    "        :rtype: int\n",
    "        '''\n",
    "        powers = []\n",
    "        while input > 0 :\n",
    "            power = math.floor(math.log2(input))\n",
    "            powers.append(power)\n",
    "            input -= 2**power\n",
    "        \n",
    "        binary = 0\n",
    "        for i in powers:\n",
    "            binary += 10**i\n",
    "        \n",
    "        binary = str(binary)\n",
    "        rev_num = 0\n",
    "        \n",
    "        for i in range(len(binary)):   # no need to reverse the binary since left to right indexing is already reversed\n",
    "            if binary[i] == '1':       # in regards to binary representation is right to left i.e opposite\n",
    "                rev_num += 2**i\n",
    "            \n",
    "        return rev_num\n",
    "    \n",
    "\n",
    "reverseBits(9090)      "
   ]
  },
  {
   "cell_type": "markdown",
   "metadata": {},
   "source": [
    "# Arrays"
   ]
  },
  {
   "cell_type": "markdown",
   "metadata": {},
   "source": [
    "#### 1. Rotate (n x n) Matrix"
   ]
  },
  {
   "cell_type": "code",
   "execution_count": 3,
   "metadata": {},
   "outputs": [],
   "source": [
    "\n",
    "'''\n",
    "The arrow symbols shows how we are traversing the four pointers (at each corner) which is similar to rotation 90 degree clockwise\n",
    "\n",
    "      ➡️         \n",
    "a = [[ 1,  2,  3, 4],⬇️\n",
    "     [ 5,  6,  7, 8],\n",
    "     [ 9, 10, 11, 12],\n",
    "    ⬆️[13, 14, 15, 16]]\n",
    "                   ⬅️\n",
    "                   \n",
    "    We do this layer by layer\n",
    "'''\n",
    "\n",
    "# Since it is n x n matrix, we can use traverse the matrix layer by layer, not suitable for m x n matrix!!!!\n",
    "\n",
    "# O(n^2) solution\n",
    "# In-place swapping i.e O(1) space\n",
    "\n",
    "def rotate(matrix):\n",
    "        '''\n",
    "        :type matrix: list of list of int\n",
    "        :rtype: list of list of int\n",
    "        '''\n",
    "        \n",
    "        size = len(matrix[0])  #size of matrix\n",
    "        boundary = size - 1  #index of boundary row/col\n",
    "        \n",
    "        for layer in range(size//2):\n",
    "            for i in range(layer, boundary - layer):\n",
    "    \n",
    "                top_left = matrix[layer][i]\n",
    "                top_right = matrix[i][boundary - layer]\n",
    "                bottom_left = matrix[boundary - i][layer]\n",
    "                bottom_right = matrix[boundary - layer][boundary - i]\n",
    "                \n",
    "                matrix[layer][i] = bottom_left\n",
    "                matrix[i][boundary - layer] = top_left\n",
    "                matrix[boundary - i][layer] = bottom_right\n",
    "                matrix[boundary - layer][boundary - i] = top_right\n",
    "        \n",
    "        return matrix\n",
    "                "
   ]
  },
  {
   "cell_type": "markdown",
   "metadata": {},
   "source": [
    "         \n",
    "      "
   ]
  },
  {
   "cell_type": "markdown",
   "metadata": {},
   "source": [
    "#### 2. Spiral Traversal of a matrix"
   ]
  },
  {
   "cell_type": "code",
   "execution_count": 292,
   "metadata": {},
   "outputs": [],
   "source": [
    "'''\n",
    "Use four boudaries/fences, traverse along top boundary, from right to left, shift the top boundary\n",
    "Next along right boundary, from top to bottom, shift the right boundary,\n",
    "repeat from bottom and left boundaries as above\n",
    "\n",
    "''' \n",
    "\n",
    "# O(m * n)\n",
    "\n",
    "def spiralOrder(matrix):\n",
    "        '''\n",
    "        :type matrix: list of list of int\n",
    "        :rtype: list of int\n",
    "        '''\n",
    "        spiral_order = []\n",
    "        m = len(matrix)  #4\n",
    "        n = len(matrix[0]) #3\n",
    "        top = 0\n",
    "        right = n - 1\n",
    "        bottom = m - 1\n",
    "        left = 0\n",
    "        \n",
    "        while top <= bottom and left <= right:\n",
    "            for i in range(left, right + 1):\n",
    "                spiral_order.append(matrix[top][i])\n",
    "    \n",
    "            top += 1\n",
    "        \n",
    "            for i in range(top, bottom + 1):\n",
    "                spiral_order.append(matrix[i][right])\n",
    "            \n",
    "            right -= 1\n",
    "            \n",
    "            if bottom > top:\n",
    "                for i in range(right, left-1, -1):\n",
    "                    spiral_order.append(matrix[bottom][i])\n",
    "            \n",
    "                bottom -= 1\n",
    "            \n",
    "            if right > left:\n",
    "                for i in range(bottom, top-1, -1):\n",
    "                    spiral_order.append(matrix[i][left])\n",
    "            \n",
    "                left += 1\n",
    "            \n",
    "        return spiral_order\n",
    "        "
   ]
  },
  {
   "cell_type": "markdown",
   "metadata": {},
   "source": [
    "#### 3. 3-Sum"
   ]
  },
  {
   "cell_type": "code",
   "execution_count": 160,
   "metadata": {},
   "outputs": [],
   "source": [
    "# O(n^2) solution\n",
    "\n",
    "# For these types of problems use hash tables\n",
    "\n",
    "def threeSum(A,k):\n",
    "        '''\n",
    "        :type A: list of int\n",
    "        :rtype: list of list of int\n",
    "        '''\n",
    "        hash_sum = {}\n",
    "        \n",
    "        for i in range(len(A)):\n",
    "            hash_sum[k-A[i]] = i  \n",
    "            \n",
    "        triplets = []    \n",
    "        for i in range(len(A)-1):\n",
    "            for j in range(i+1, len(A)):\n",
    "                if A[i] + A[j] in hash_sum and A[i]!=A[j]:\n",
    "                    third_num = A[hash_sum[A[i]+A[j]]]\n",
    "                    vals = set()\n",
    "                    vals.add(A[i])\n",
    "                    vals.add(A[j])\n",
    "                    vals.add(third_num)\n",
    "                    if vals not in triplets and len(vals) == 3:\n",
    "                        triplets.append(vals)\n",
    "        \n",
    "        for i in range(len(triplets)):\n",
    "            triplets[i] = list(triplets[i])\n",
    "        \n",
    "        return triplets\n",
    "            "
   ]
  },
  {
   "cell_type": "markdown",
   "metadata": {},
   "source": [
    "#### 4. Sudoku validity check"
   ]
  },
  {
   "cell_type": "code",
   "execution_count": 167,
   "metadata": {},
   "outputs": [],
   "source": [
    "a = [[5,3,0,0,7,0,0,0,0],\n",
    "      [6,0,0,1,9,5,0,0,0],\n",
    "      [0,9,8,0,0,0,0,6,0],\n",
    "      [8,0,0,0,6,0,0,0,3],\n",
    "      [4,0,0,8,0,3,0,0,1],\n",
    "      [7,0,0,0,2,0,0,0,6],\n",
    "      [0,6,0,0,0,0,2,8,0],\n",
    "      [0,0,0,4,1,9,0,0,5],\n",
    "      [0,0,0,0,8,0,0,7,9]]\n",
    "\n",
    "\n",
    "# O(n^2)\n",
    "\n",
    "def validSudoku(board):\n",
    "        '''\n",
    "        :type board: list of list of int\n",
    "        :rtype: bool\n",
    "        '''\n",
    "        seen = set()\n",
    "        for i in range(0,9):\n",
    "            for j in range(0,9):\n",
    "                v = board[i][j]\n",
    "                \n",
    "                if v!= 0 :\n",
    "                    row = \"row{}val{}\".format(i,v)\n",
    "                    col = \"col{}val{}\".format(j,v)\n",
    "                    box = \"{}{}{}\".format(i//3,v,j//3)\n",
    "                    \n",
    "                    if row not in seen and col not in seen and box not in seen:\n",
    "                        seen.add(row)\n",
    "                        seen.add(col)\n",
    "                        seen.add(box)\n",
    "                    \n",
    "                    else:\n",
    "                        return False\n",
    "        return True\n",
    "                                           "
   ]
  },
  {
   "cell_type": "markdown",
   "metadata": {},
   "source": [
    "#### 5. Sub-arrays sum equal to k"
   ]
  },
  {
   "cell_type": "code",
   "execution_count": 181,
   "metadata": {},
   "outputs": [],
   "source": [
    "def countSubarrays(arr, k):\n",
    "        '''\n",
    "        :type arr: list of int\n",
    "        :type k: int\n",
    "        :rtype: int\n",
    "        '''\n",
    "        size = len(arr)\n",
    "        count = 0\n",
    "        for offset in range(0,size-1):\n",
    "            total = 0\n",
    "            for i in range(offset, size):\n",
    "                total += arr[i]\n",
    "                if total == k:\n",
    "                    count += 1\n",
    "                    print(arr[offset:i+1])\n",
    "        return count\n",
    "                    \n",
    "        "
   ]
  },
  {
   "cell_type": "markdown",
   "metadata": {},
   "source": [
    "# Strings"
   ]
  },
  {
   "cell_type": "markdown",
   "metadata": {},
   "source": [
    "#### 1. Pattern Matching"
   ]
  },
  {
   "cell_type": "code",
   "execution_count": 212,
   "metadata": {},
   "outputs": [],
   "source": [
    "# O(n^2)\n",
    "\n",
    "# convert each string in to a sequence of digits then compare\n",
    "\n",
    "def findAndReplacePattern(words, pattern):\n",
    "        '''\n",
    "        :type words: list of str\n",
    "        :type pattern: str\n",
    "        :rtype: list of str\n",
    "        '''\n",
    "        matched = []\n",
    "        pattern = get_num_pattern(pattern)\n",
    "        for i in words:\n",
    "            word = get_num_pattern(i)\n",
    "            if word == pattern:\n",
    "                matched.append(i)\n",
    "        \n",
    "        return matched\n",
    "\n",
    "def get_num_pattern(string):\n",
    "    temp = \"\"\n",
    "    dictt = {}\n",
    "    num = 0\n",
    "    for i in string:\n",
    "        if i not in dictt:\n",
    "            dictt[i] = str(num)\n",
    "            num += 1\n",
    "            temp += dictt[i]\n",
    "        else:\n",
    "            temp += dictt[i]\n",
    "    return temp\n",
    "        \n"
   ]
  },
  {
   "cell_type": "markdown",
   "metadata": {},
   "source": [
    "#### 2. Add two binary strings"
   ]
  },
  {
   "cell_type": "code",
   "execution_count": 218,
   "metadata": {},
   "outputs": [],
   "source": [
    "# O(n)\n",
    "\n",
    "\n",
    "import math\n",
    "def addBinaryStrings(s1, s2):\n",
    "        '''\n",
    "        :type s1: str\n",
    "        :type s2: str\n",
    "        :rtype: str\n",
    "        '''\n",
    "        return to_binary(to_decimal(s1) + to_decimal(s2))\n",
    "\n",
    "def to_decimal(string):\n",
    "    rev = string[::-1] \n",
    "    num = 0\n",
    "    for i in range(len(rev)):\n",
    "        if rev[i] == '1':\n",
    "            num += 2**i\n",
    "    return num\n",
    "\n",
    "def to_binary(num):\n",
    "    powers = []\n",
    "    \n",
    "    while num > 0:\n",
    "        power = math.floor(math.log2(num))\n",
    "        powers.append(power)\n",
    "        num -= 2**power\n",
    "        \n",
    "    binary = 0\n",
    "    for i in powers:\n",
    "        binary += 10**i\n",
    "    return str(binary)\n",
    "        "
   ]
  },
  {
   "cell_type": "markdown",
   "metadata": {},
   "source": [
    "#### 3. Palindrome string"
   ]
  },
  {
   "cell_type": "code",
   "execution_count": 293,
   "metadata": {},
   "outputs": [],
   "source": [
    "# O(n/2)\n",
    "\n",
    "def validPalindrome(s):\n",
    "        '''\n",
    "        :type s: str\n",
    "        :rtype: bool\n",
    "        '''\n",
    "        \n",
    "        s = s.lower()\n",
    "        print(s)\n",
    "        \n",
    "        l = 0\n",
    "        r = len(s)-1\n",
    "\n",
    "        while l < r:\n",
    "            while not s[l].isalnum():   # use WHILE NOT to keep skipping useless characters\n",
    "                l += 1\n",
    "            \n",
    "            while not s[r].isalnum():   # use WHILE NOT to keep skipping useless characters\n",
    "                r -= 1   \n",
    "            \n",
    "            if s[l] != s[r]:\n",
    "                return False\n",
    "            else:\n",
    "                l += 1\n",
    "                r -= 1\n",
    "        \n",
    "        return True\n"
   ]
  },
  {
   "cell_type": "markdown",
   "metadata": {},
   "source": [
    "#### 4. Zig Zag conversion of string"
   ]
  },
  {
   "cell_type": "code",
   "execution_count": 330,
   "metadata": {},
   "outputs": [],
   "source": [
    "# O(n)\n",
    "\n",
    "# Increasing then decreasing row numbers along the string gives the zig zag output\n",
    "\n",
    "\n",
    "def zigzag(s, rows):\n",
    "        '''\n",
    "        :type s: str\n",
    "        :type rows: int\n",
    "        :rtype: str\n",
    "        '''\n",
    "        if rows == 1:\n",
    "            return s\n",
    "        \n",
    "        arr = [\"\"]*rows     #list of n strings\n",
    "        direction = -1\n",
    "        i = 0\n",
    "\n",
    "        for char in s:\n",
    "            arr[i] += char\n",
    "            \n",
    "            if i == 0 or i == rows - 1:     #flipping of direction happens only in the start or end row\n",
    "                direction = -(direction)     # for first iteration rows increased, to adjust this initialize direction appropriately\n",
    "            \n",
    "            if direction == 1:\n",
    "                i += 1\n",
    "            else:\n",
    "                i-= 1\n",
    "                 \n",
    "        print(arr)\n",
    "        return ''.join(arr)                 "
   ]
  },
  {
   "cell_type": "markdown",
   "metadata": {},
   "source": [
    "#### 5. Longest Palindrome Construction\n"
   ]
  },
  {
   "cell_type": "code",
   "execution_count": 338,
   "metadata": {},
   "outputs": [
    {
     "data": {
      "text/plain": [
       "1"
      ]
     },
     "execution_count": 338,
     "metadata": {},
     "output_type": "execute_result"
    }
   ],
   "source": [
    "# O(n) solution\n",
    "\n",
    "\n",
    "def longestPalindrome(s):\n",
    "        '''\n",
    "        :type s: str\n",
    "        :rtype: int\n",
    "        '''\n",
    "        count = {}\n",
    "        length = 0\n",
    "        flag = 0\n",
    "        \n",
    "        for i in s:\n",
    "            count[i] = count.get(i, 0) + 1\n",
    "                        \n",
    "        for each in count:\n",
    "            if count[each] % 2 == 0:\n",
    "                length += count[each]\n",
    "            else:\n",
    "                if count[each] > 1:\n",
    "                    if len(count) == 1:\n",
    "                        return count[each]\n",
    "                    length += (count[each] - 1)\n",
    "                    \n",
    "                else:\n",
    "                    if flag == 0 : \n",
    "                        length += 1\n",
    "                        flag = 1\n",
    "        return length\n",
    "    \n",
    "#longestPalindrome(\"aabbc\")        \n",
    "#longestPalindrome(\"abbcccd\")\n",
    "longestPalindrome(\"cC\")"
   ]
  },
  {
   "cell_type": "markdown",
   "metadata": {},
   "source": [
    "#### 6. Replace words with Prefix"
   ]
  },
  {
   "cell_type": "code",
   "execution_count": 370,
   "metadata": {},
   "outputs": [],
   "source": [
    "# O(n^2)\n",
    "\n",
    "def replaceWordsWithPrefix(prefixes, sentence):\n",
    "        '''\n",
    "        :type prefixes: list of str\n",
    "        :type sentence: str\n",
    "        :rtype: str\n",
    "        '''\n",
    "        mapping = {}\n",
    "        for i in prefixes:\n",
    "            mapping[i] = True\n",
    "            \n",
    "        line = sentence.split()\n",
    "        \n",
    "        for index in range(len(line)):\n",
    "            word = line[index]\n",
    "            for i in range(len(word)):\n",
    "                if word[0:i] in mapping:\n",
    "                    line[index] = word[0:i]\n",
    "                    break\n",
    "        return ' '.join(line)\n",
    "                \n",
    "        \n"
   ]
  },
  {
   "cell_type": "markdown",
   "metadata": {},
   "source": [
    "#### 7. Word subsets"
   ]
  },
  {
   "cell_type": "code",
   "execution_count": 410,
   "metadata": {},
   "outputs": [
    {
     "name": "stdout",
     "output_type": "stream",
     "text": [
      "{'w': 1, 'o': 1, 'r': 2, 'a': 1}\n",
      "warrior\n"
     ]
    }
   ],
   "source": [
    "def wordSubsets(A, B):\n",
    "        '''\n",
    "        :type A: list of str\n",
    "        :type B: list of str\n",
    "        :rtype: list of str\n",
    "        '''\n",
    "        map_b = {}\n",
    "        for i in B:\n",
    "            temp = mapping(i)\n",
    "            for each in temp:\n",
    "                if map_b.get(each,0) < temp[each]:\n",
    "                    map_b[each] = temp[each]\n",
    "                    \n",
    "        print(map_b)   \n",
    "        for word in A:\n",
    "            temp_map = mapping(word)\n",
    "            add = 1\n",
    "            for char in map_b:\n",
    "                if temp_map.get(char,0) < map_b[char]:\n",
    "                    add = 0\n",
    "                    break\n",
    "            if add == 1:\n",
    "                print(word)\n",
    "                \n",
    "        \n",
    "def mapping(string):\n",
    "    mapp = {}\n",
    "    for i in string:\n",
    "        mapp[i] = mapp.get(i,0) + 1\n",
    "    return mapp\n",
    "        \n",
    "        \n",
    "#wordSubsets([\"orange\", \"room\", \"more\"], [\"rm\", \"oo\"])\n",
    "wordSubsets(['world','warrior', 'war'],['wo','r','a','wrr'])"
   ]
  },
  {
   "cell_type": "markdown",
   "metadata": {},
   "source": [
    "#### 8. Group together Anagrams"
   ]
  },
  {
   "cell_type": "code",
   "execution_count": 415,
   "metadata": {},
   "outputs": [],
   "source": [
    "# O(n^2)\n",
    "\n",
    "# Set method works only if each string has non-repeating characters, else Map/Couting method can be used\n",
    "\n",
    "def groupAnagrams(words):\n",
    "        '''\n",
    "        :type words: list of str\n",
    "        :rtype: list of list of str\n",
    "        '''\n",
    "        \n",
    "        anagrams = []\n",
    "        \n",
    "        for i in words:\n",
    "            if set(i) not in anagrams:\n",
    "                anagrams.append(set(i))\n",
    "                \n",
    "        groups = []\n",
    "        for each in anagrams:\n",
    "            temp = []\n",
    "            for i in words:\n",
    "                if each == set(i):\n",
    "                    temp.append(i)\n",
    "            groups.append(temp)\n",
    "                \n",
    "        print(groups)\n",
    "\n"
   ]
  },
  {
   "cell_type": "markdown",
   "metadata": {},
   "source": [
    "#### 9. Longest substring without repeating characters"
   ]
  },
  {
   "cell_type": "code",
   "execution_count": 441,
   "metadata": {},
   "outputs": [],
   "source": [
    "# O(n) since only length is asked\n",
    "\n",
    "def longestUniqueCharacterSubstring(s):\n",
    "        '''\n",
    "        :type s: str\n",
    "        :rtype: int\n",
    "        '''\n",
    "        if s == \"\" :\n",
    "            return 0\n",
    "        \n",
    "        temp = set()\n",
    "        length = 0\n",
    "        \n",
    "        for i in s:\n",
    "            if i not in temp:\n",
    "                temp.add(i)\n",
    "                if len(temp) > length:\n",
    "                    length = len(temp)\n",
    "            else:   \n",
    "                temp = set()\n",
    "        \n",
    "        return length\n",
    "        \n"
   ]
  },
  {
   "cell_type": "markdown",
   "metadata": {},
   "source": [
    "# Stacks and Queues"
   ]
  },
  {
   "cell_type": "markdown",
   "metadata": {},
   "source": [
    "#### 1. Balanced Parantheses"
   ]
  },
  {
   "cell_type": "code",
   "execution_count": 460,
   "metadata": {},
   "outputs": [],
   "source": [
    "# O(n)\n",
    "\n",
    "def isValid(s):\n",
    "        '''\n",
    "        :type s: str\n",
    "        :rtype: bool\n",
    "        '''\n",
    "        stack = []\n",
    "        for i in s:\n",
    "            if i == '(' or i == '[' or i == '{':\n",
    "                stack.append(i)\n",
    "            else:\n",
    "                if stack == [] or (i == ')' and stack[-1]!='(') or (i == ']' and stack[-1]!='[') or (i == '}' and stack[-1]!='{') :\n",
    "                    return False\n",
    "                else:\n",
    "                    stack.pop()\n",
    "        \n",
    "        if stack != []:\n",
    "            return False\n",
    "        else:\n",
    "            return True\n",
    "        "
   ]
  },
  {
   "cell_type": "markdown",
   "metadata": {},
   "source": [
    "#### 2. Compute Buildings With A Sunset View"
   ]
  },
  {
   "cell_type": "code",
   "execution_count": 464,
   "metadata": {},
   "outputs": [],
   "source": [
    "def getBuildingsWithAView(buildings):\n",
    "        '''\n",
    "        :type buildings: list of int\n",
    "        :rtype: list of int\n",
    "        '''\n",
    "        \n",
    "        result = [0]\n",
    "        tall = buildings[0]\n",
    "        for i in range(1,len(buildings)):\n",
    "            if buildings[i] > tall:\n",
    "                result.append(i)\n",
    "                tall = buildings[i]\n",
    "        return result\n",
    "        "
   ]
  },
  {
   "cell_type": "markdown",
   "metadata": {},
   "source": [
    "#### 3. Undo Redo Actions"
   ]
  },
  {
   "cell_type": "code",
   "execution_count": 488,
   "metadata": {},
   "outputs": [
    {
     "data": {
      "text/plain": [
       "'ab'"
      ]
     },
     "execution_count": 488,
     "metadata": {},
     "output_type": "execute_result"
    }
   ],
   "source": [
    "def performEditorActions(actions):\n",
    "        '''\n",
    "        :type actions: list of list of str\n",
    "        :rtype: str\n",
    "        '''\n",
    "        mapp = {'INSERT':1, 'DELETE':2, 'UNDO':3, 'REDO':4}\n",
    "        acts = []\n",
    "        undo = []\n",
    "        for i in actions:\n",
    "            val = mapp[i[0]]\n",
    "            if val == 1 or val == 2:\n",
    "                acts.append(i)\n",
    "            if val == 3:\n",
    "                temp = acts.pop()\n",
    "                undo.append(temp)\n",
    "            if val == 4 and undo != []:\n",
    "                acts.append(undo.pop())\n",
    "        \n",
    "        string = []\n",
    "        for i in acts:\n",
    "            val = mapp[i[0]]\n",
    "            if val == 1:\n",
    "                string.append(i[1])\n",
    "            else:\n",
    "                string.pop()\n",
    "        return ''.join(string)\n",
    "           \n",
    "\n",
    "            \n",
    "performEditorActions([[\"INSERT\",\"a\"],[\"INSERT\",\"b\"],['UNDO'],['REDO'],['REDO']])\n"
   ]
  },
  {
   "cell_type": "markdown",
   "metadata": {},
   "source": [
    "# Linked Lists"
   ]
  },
  {
   "cell_type": "markdown",
   "metadata": {},
   "source": [
    "##### Designing a linked list"
   ]
  },
  {
   "cell_type": "code",
   "execution_count": 2,
   "metadata": {},
   "outputs": [],
   "source": [
    "class Node():\n",
    "    def __init__(self, val):\n",
    "        self.val = val      #type Data\n",
    "        self.next = None    #type Node"
   ]
  },
  {
   "cell_type": "code",
   "execution_count": 3,
   "metadata": {},
   "outputs": [],
   "source": [
    "class ll():\n",
    "    def __init__(self):\n",
    "        self.head = None    #type Node\n",
    "        self.size = 0\n",
    "        \n",
    "    def add_at_head(self,val):\n",
    "        new_node = Node(val)\n",
    "        new_node.next = self.head\n",
    "        self.head = new_node\n",
    "        self.size += 1\n",
    "        \n",
    "    def add_at_index(self,index,val):\n",
    "        if index == 0 or self.size == 0:\n",
    "            self.add_at_head(val) #size increment included in any ADD function, thus increment not needed\n",
    "        else:\n",
    "            new_node = Node(val)\n",
    "            temp = self.head\n",
    "            for i in range(index-1):\n",
    "                temp = temp.next\n",
    "            new_node.next = temp.next\n",
    "            temp.next = new_node\n",
    "            self.size += 1\n",
    "            \n",
    "    def delete_at_index(self,index):\n",
    "        prev = None\n",
    "        curr = self.head\n",
    "        if index >=2 :\n",
    "            for i in range(index-1):\n",
    "                prev = curr\n",
    "                curr = curr.next\n",
    "            prev.next = curr.next #we are deleting the CURR node, which is present at the given index\n",
    "        else:\n",
    "            self.head = curr.next\n",
    "        self.size -= 1\n",
    "        \n",
    "    def get_val(self,index):\n",
    "        temp = self.head\n",
    "        for i in range(index-1):\n",
    "            temp = temp.next\n",
    "        return(temp.val)    \n",
    "        \n",
    "    def view(self):\n",
    "        if self.size == 0 :\n",
    "            print('List empty')\n",
    "        else:\n",
    "            temp = self.head\n",
    "            while temp != None:\n",
    "                print(temp.val,'-->',end='')\n",
    "                temp = temp.next\n",
    "            print(temp, '   size:',self.size)\n",
    "    \n",
    "                "
   ]
  },
  {
   "cell_type": "code",
   "execution_count": 40,
   "metadata": {},
   "outputs": [
    {
     "name": "stdout",
     "output_type": "stream",
     "text": [
      "5 -->4 -->2 -->None    size: 3\n",
      "5 -->4 -->1 -->2 -->None    size: 4\n",
      "5 -->4 -->1 -->2 -->0 -->None    size: 5\n",
      "-3 -->5 -->4 -->1 -->2 -->0 -->None    size: 6\n",
      "-3 -->5 -->4 -->1 -->2 -->None    size: 5\n"
     ]
    },
    {
     "data": {
      "text/plain": [
       "-3"
      ]
     },
     "execution_count": 40,
     "metadata": {},
     "output_type": "execute_result"
    }
   ],
   "source": [
    "a = ll()\n",
    "a.add_at_head(2)\n",
    "a.add_at_head(4)\n",
    "a.add_at_head(5)\n",
    "a.view()\n",
    "\n",
    "a.add_at_index(2,1)\n",
    "a.view()\n",
    "\n",
    "a.add_at_index(a.size, 0)\n",
    "a.view()\n",
    "\n",
    "a.add_at_index(0, -3)\n",
    "a.view()\n",
    "\n",
    "a.delete_at_index(a.size)\n",
    "a.view()\n",
    "\n",
    "a.head.val"
   ]
  },
  {
   "cell_type": "markdown",
   "metadata": {},
   "source": [
    "#### 1. Even Odd Partition"
   ]
  },
  {
   "cell_type": "code",
   "execution_count": 41,
   "metadata": {},
   "outputs": [
    {
     "name": "stdout",
     "output_type": "stream",
     "text": [
      "-3 -->4 -->2 -->5 -->1 -->None    size: 5\n"
     ]
    }
   ],
   "source": [
    "class solution:\n",
    "            \n",
    "    def oddEvenList(self,head):\n",
    "        even_dummy = Node(-1)\n",
    "        even_ptr = even_dummy\n",
    "        odd_dummy = Node(-1)\n",
    "        odd_ptr = odd_dummy\n",
    "        curr = head\n",
    "        index = 0\n",
    "        while curr != None:\n",
    "            if index%2 == 0:\n",
    "                even_ptr.next = curr\n",
    "                even_ptr = even_ptr.next\n",
    "            else:\n",
    "                odd_ptr.next = curr\n",
    "                odd_ptr = odd_ptr.next\n",
    "            index += 1\n",
    "            curr = curr.next\n",
    "        even_ptr.next = odd_dummy.next\n",
    "        odd_ptr.next = None\n",
    "        return even_dummy.next\n",
    "        \n",
    "\n",
    "        \n",
    "b = solution()\n",
    "b.oddEvenList(a.head)\n",
    "a.view()"
   ]
  },
  {
   "cell_type": "markdown",
   "metadata": {},
   "source": [
    "#### 2. Overlapping Linked List / Intersection"
   ]
  },
  {
   "cell_type": "code",
   "execution_count": 42,
   "metadata": {},
   "outputs": [
    {
     "name": "stdout",
     "output_type": "stream",
     "text": [
      "1 -->2 -->3 -->4 -->6 -->8 -->None    size: 6\n"
     ]
    }
   ],
   "source": [
    "c = ll()\n",
    "c.add_at_head(8)\n",
    "c.add_at_head(6)\n",
    "c.add_at_head(4)\n",
    "c.add_at_head(3)\n",
    "c.add_at_head(2)\n",
    "c.add_at_head(1)\n",
    "c.view()"
   ]
  },
  {
   "cell_type": "code",
   "execution_count": 43,
   "metadata": {},
   "outputs": [
    {
     "name": "stdout",
     "output_type": "stream",
     "text": [
      "12 -->13 -->6 -->8 -->None    size: 2\n",
      "1 -->2 -->3 -->4 -->6 -->8 -->None    size: 6\n"
     ]
    }
   ],
   "source": [
    "d = ll()\n",
    "d.add_at_head(13)\n",
    "d.add_at_head(12)\n",
    "d.head.next.next = c.head.next.next.next.next\n",
    "d.view()\n",
    "c.view()"
   ]
  },
  {
   "cell_type": "code",
   "execution_count": 44,
   "metadata": {},
   "outputs": [
    {
     "data": {
      "text/plain": [
       "6"
      ]
     },
     "execution_count": 44,
     "metadata": {},
     "output_type": "execute_result"
    }
   ],
   "source": [
    "# Method 1 : using a set of unique memory addresses\n",
    "\n",
    "def intersect1(list1,list2):\n",
    "    ptr1 = list1.head\n",
    "    ptr2 = list2.head\n",
    "    nodes1 = set()\n",
    "    while ptr1 != None:\n",
    "        nodes1.add(ptr1)\n",
    "        ptr1 = ptr1.next\n",
    "    \n",
    "    while ptr2 != None:\n",
    "        if ptr2 in nodes1:\n",
    "            return ptr2.val\n",
    "        ptr2 = ptr2.next\n",
    "        \n",
    "intersect1(d,c)"
   ]
  },
  {
   "cell_type": "code",
   "execution_count": 45,
   "metadata": {},
   "outputs": [
    {
     "data": {
      "text/plain": [
       "6"
      ]
     },
     "execution_count": 45,
     "metadata": {},
     "output_type": "execute_result"
    }
   ],
   "source": [
    "# Method 2 : Using two pointers and given length of both lists\n",
    "\n",
    "def intersect2(list1,list2,m,n):\n",
    "    ptr1 = list1.head\n",
    "    ptr2 = list2.head\n",
    "    if m > n:\n",
    "        for i in range(m-n):\n",
    "            ptr1 = ptr1.next\n",
    "    else:\n",
    "        for i in range(n-m):\n",
    "            ptr2 = ptr2.next\n",
    "    \n",
    "    while ptr1!= None : \n",
    "        if ptr1 == ptr2 :\n",
    "            return ptr1.val\n",
    "        ptr1 = ptr1.next\n",
    "        ptr2 = ptr2.next\n",
    "    return None\n",
    "    \n",
    "intersect2(d,c,4,6)"
   ]
  },
  {
   "cell_type": "markdown",
   "metadata": {},
   "source": [
    "#### 3. Remove kth to last element"
   ]
  },
  {
   "cell_type": "code",
   "execution_count": 75,
   "metadata": {},
   "outputs": [
    {
     "name": "stdout",
     "output_type": "stream",
     "text": [
      "1 -->2 -->3 -->None    size: 3\n"
     ]
    },
    {
     "data": {
      "text/plain": [
       "2"
      ]
     },
     "execution_count": 75,
     "metadata": {},
     "output_type": "execute_result"
    }
   ],
   "source": [
    "c = ll()\n",
    "c.add_at_head(3)\n",
    "c.add_at_head(2)\n",
    "c.add_at_head(1)\n",
    "c.view()\n",
    "\n",
    "class Solution:\n",
    "    def removeKthToLast(self, head, k):\n",
    "        '''\n",
    "        :type head: ListNode\n",
    "        :type k: int\n",
    "        :rtype: ListNode\n",
    "        '''\n",
    "        forw = head\n",
    "        curr = head    #node to be deleted\n",
    "        temp = None\n",
    "        \n",
    "        for i in range(k-1):\n",
    "            forw = forw.next\n",
    "        \n",
    "        if forw.next == None:\n",
    "            head = curr.next\n",
    "            return head\n",
    "            \n",
    "        while forw.next!= None:\n",
    "            temp = curr\n",
    "            curr = curr.next\n",
    "            forw = forw.next\n",
    "        temp.next = curr.next\n",
    "           \n",
    "        \n",
    "        return curr.val\n",
    "        \n",
    "sol = Solution()\n",
    "sol.removeKthToLast(c.head, 3)\n",
    "#c.view()"
   ]
  },
  {
   "cell_type": "markdown",
   "metadata": {},
   "source": [
    "#### 4. Right shift a singly linked list by k steps"
   ]
  },
  {
   "cell_type": "code",
   "execution_count": 114,
   "metadata": {},
   "outputs": [
    {
     "name": "stdout",
     "output_type": "stream",
     "text": [
      "1 -->2 -->3 -->4 -->None    size: 4\n"
     ]
    },
    {
     "data": {
      "text/plain": [
       "3"
      ]
     },
     "execution_count": 114,
     "metadata": {},
     "output_type": "execute_result"
    }
   ],
   "source": [
    "c = ll()\n",
    "c.add_at_head(4)\n",
    "c.add_at_head(3)\n",
    "c.add_at_head(2)\n",
    "c.add_at_head(1)\n",
    "c.view()\n",
    "\n",
    "\n",
    "class Solution:\n",
    "    def rotateRight(self, head, k):\n",
    "        '''\n",
    "        :type head: ListNode\n",
    "        :type k: int\n",
    "        :rtype: ListNode\n",
    "        '''\n",
    "        temp = head\n",
    "        curr = head\n",
    "        forw = head\n",
    "        new_head = None\n",
    "        for i in range(k):\n",
    "            forw = forw.next\n",
    "            \n",
    "        if forw == None:    # NOT forw.next since k-1 not used above\n",
    "            return head\n",
    "        \n",
    "        while forw.next != None:\n",
    "            forw = forw.next\n",
    "            curr = curr.next\n",
    "            \n",
    "        new_head = curr.next\n",
    "        head = new_head\n",
    "        forw.next = temp\n",
    "        curr.next = None\n",
    "        return head.val\n",
    "            \n",
    "        \n",
    "sol = Solution()\n",
    "sol.rotateRight(c.head, 2)"
   ]
  },
  {
   "cell_type": "markdown",
   "metadata": {},
   "source": [
    "#### 5. Add 2 integers represented as Linked List"
   ]
  },
  {
   "cell_type": "code",
   "execution_count": 143,
   "metadata": {},
   "outputs": [
    {
     "name": "stdout",
     "output_type": "stream",
     "text": [
      "1 -->2 -->9 -->4 -->None    size: 4\n",
      "1 -->2 -->3 -->None    size: 3\n"
     ]
    },
    {
     "data": {
      "text/plain": [
       "5"
      ]
     },
     "execution_count": 143,
     "metadata": {},
     "output_type": "execute_result"
    }
   ],
   "source": [
    "c = ll()\n",
    "c.add_at_head(4)\n",
    "c.add_at_head(9)\n",
    "c.add_at_head(2)\n",
    "c.add_at_head(1)\n",
    "c.view()\n",
    "\n",
    "d = ll()\n",
    "d.add_at_head(3)\n",
    "d.add_at_head(2)\n",
    "d.add_at_head(1)\n",
    "d.view()\n",
    "\n",
    "class Solution:\n",
    "    def addTwoNumbers(self, l1, l2):\n",
    "        '''\n",
    "        :type l1: ListNode\n",
    "        :type l2: ListNode\n",
    "        :rtype: ListNode\n",
    "        '''\n",
    "        ptr1 = l1\n",
    "        ptr2 = l2\n",
    "        dummy = Node(0)\n",
    "        ptr3 = dummy\n",
    "        carry = 0\n",
    "        while (ptr1!= None or ptr2!= None):\n",
    "            first = ptr1.val if ptr1!= None else 0\n",
    "            second = ptr2.val if ptr2!= None else 0\n",
    "            \n",
    "            total = carry + first + second\n",
    "            carry = total // 10\n",
    "            \n",
    "            ptr3.next = Node(total%10)\n",
    "            \n",
    "            if ptr1 != None : ptr1 = ptr1.next\n",
    "            if ptr2 != None : ptr2 = ptr2.next\n",
    "            ptr3 = ptr3.next\n",
    "\n",
    "            \n",
    "        if carry != 0:\n",
    "            ptr3.next = Node(carry)\n",
    "            \n",
    "        head = dummy.next\n",
    "        return head.next.next.next.val\n",
    "        \n",
    "        \n",
    "sol = Solution()\n",
    "sol.addTwoNumbers(c.head,d.head)"
   ]
  },
  {
   "cell_type": "markdown",
   "metadata": {},
   "source": [
    "#### 6. Testing for Cycles"
   ]
  },
  {
   "cell_type": "code",
   "execution_count": 144,
   "metadata": {},
   "outputs": [],
   "source": [
    "class Solution:\n",
    "    def hasCycle(self, head):\n",
    "        '''\n",
    "        :type head: ListNode\n",
    "        :rtype: bool\n",
    "        '''\n",
    "        addresses = set()\n",
    "        ptr = head\n",
    "\n",
    "        while ptr != None:\n",
    "            if ptr not in addresses:\n",
    "                addresses.add(ptr)\n",
    "            else:\n",
    "                return True\n",
    "            ptr = ptr.next\n",
    "\n",
    "        if ptr == None:\n",
    "            return False"
   ]
  },
  {
   "cell_type": "markdown",
   "metadata": {},
   "source": [
    "#### 7. Swap linked list nodes in pairs"
   ]
  },
  {
   "cell_type": "code",
   "execution_count": 156,
   "metadata": {},
   "outputs": [
    {
     "name": "stdout",
     "output_type": "stream",
     "text": [
      "1 -->2 -->3 -->4 -->5 -->6 -->7 -->None    size: 7\n",
      "2 -->1 -->4 -->3 -->6 -->5 -->7 -->None    size: 7\n"
     ]
    }
   ],
   "source": [
    "# Exchanging only values\n",
    "class Solution:\n",
    "    def swapInPairs(self, head):\n",
    "        '''\n",
    "        :type head: ListNode\n",
    "        :rtype: ListNode\n",
    "        '''\n",
    "        curr = head\n",
    "\n",
    "        while curr!=None and curr.next!=None:\n",
    "            temp = curr.val\n",
    "            curr.val = curr.next.val\n",
    "            curr.next.val = temp\n",
    "            \n",
    "            curr = curr.next.next\n",
    "            \n",
    "        \n",
    "\n",
    "    \n",
    "c = ll()\n",
    "c.add_at_head(7)\n",
    "c.add_at_head(6)\n",
    "c.add_at_head(5)\n",
    "c.add_at_head(4)\n",
    "c.add_at_head(3)\n",
    "c.add_at_head(2)\n",
    "c.add_at_head(1)\n",
    "c.view()\n",
    "\n",
    "sol = Solution()\n",
    "sol.swapInPairs(c.head)\n",
    "c.view()\n",
    "\n"
   ]
  },
  {
   "cell_type": "code",
   "execution_count": 178,
   "metadata": {},
   "outputs": [
    {
     "name": "stdout",
     "output_type": "stream",
     "text": [
      "1 -->2 -->3 -->4 -->5 -->6 -->7 -->None    size: 7\n"
     ]
    },
    {
     "data": {
      "text/plain": [
       "<__main__.Node at 0x7f8a6942cf70>"
      ]
     },
     "execution_count": 178,
     "metadata": {},
     "output_type": "execute_result"
    }
   ],
   "source": [
    "# Exchanging addresses and values\n",
    "class Solution:\n",
    "    def swapInPairs(self, head):\n",
    "        '''\n",
    "        :type head: ListNode\n",
    "        :rtype: ListNode\n",
    "        '''\n",
    "        curr = head\n",
    "        fwd = curr.next\n",
    "        head = fwd\n",
    "        temp = None\n",
    "\n",
    "        while True:\n",
    "            temp = fwd.next\n",
    "            fwd.next = curr\n",
    "            \n",
    "            if temp == None or temp.next == None:\n",
    "                curr.next = temp\n",
    "                return head\n",
    "            \n",
    "            curr.next = temp.next #changing over next segment only when confirming its not None or last node\n",
    "            curr = temp\n",
    "            fwd = temp.next\n",
    "            \n",
    "        \n",
    "\n",
    "    \n",
    "c = ll()\n",
    "c.add_at_head(7)\n",
    "c.add_at_head(6)\n",
    "c.add_at_head(5)\n",
    "c.add_at_head(4)\n",
    "c.add_at_head(3)\n",
    "c.add_at_head(2)\n",
    "c.add_at_head(1)\n",
    "c.view()\n",
    "\n",
    "sol = Solution()\n",
    "sol.swapInPairs(c.head)\n",
    "#c.view()"
   ]
  },
  {
   "cell_type": "markdown",
   "metadata": {},
   "source": [
    "#### 8. Clone a LL with Random Pointers"
   ]
  },
  {
   "cell_type": "code",
   "execution_count": 184,
   "metadata": {},
   "outputs": [],
   "source": [
    "# Using a Hashtable of memory addresses i.e Keys as old nodes and values as new nodes (with pointers \n",
    "# to other nodes in values)\n",
    "import collections\n",
    "class Node:\n",
    "    def __init__(self,val,next,random):\n",
    "        self.val = val\n",
    "        self.next = next\n",
    "        self.random = random\n",
    "\n",
    "class Solution:\n",
    "    def copyRandomList(self, head):\n",
    "        dictt = collections.defaultdict(lambda: Node(0,None,None))\n",
    "        curr = head\n",
    "        dictt[None] = None\n",
    "        \n",
    "        while curr:\n",
    "            dictt[curr].val = curr.val\n",
    "            dictt[curr].next = dictt[curr.next]\n",
    "            dictt[curr].random = dictt[curr.random]\n",
    "            curr = curr.next\n",
    "            \n",
    "        return dictt[head]"
   ]
  },
  {
   "cell_type": "markdown",
   "metadata": {},
   "source": [
    "# Recursion"
   ]
  },
  {
   "cell_type": "code",
   "execution_count": 54,
   "metadata": {},
   "outputs": [
    {
     "data": {
      "text/plain": [
       "1"
      ]
     },
     "execution_count": 54,
     "metadata": {},
     "output_type": "execute_result"
    }
   ],
   "source": [
    "# Counting vowels\n",
    "\n",
    "def is_vowel(char):\n",
    "    v = 'aeiou'\n",
    "    if char.lower() in v:\n",
    "        return 1\n",
    "    else:\n",
    "        return 0\n",
    "\n",
    "def count1(string):\n",
    "    if len(string) == 0:\n",
    "        return 0\n",
    "    else:\n",
    "        return count(string[:len(string)-1]) + is_vowel(string[-1])\n",
    "    \n",
    "def count2(string,n):\n",
    "    if n == 1:\n",
    "        return is_vowel(string[0])\n",
    "    else:\n",
    "        return count(string,n-1) + is_vowel(string[n-1])\n",
    "                                        \n",
    "count1('tyeds')\n",
    "                                            "
   ]
  },
  {
   "cell_type": "code",
   "execution_count": 55,
   "metadata": {},
   "outputs": [
    {
     "data": {
      "text/plain": [
       "[1, 5, 10, 10, 5, 1]"
      ]
     },
     "execution_count": 55,
     "metadata": {},
     "output_type": "execute_result"
    }
   ],
   "source": [
    "#Pascal's Triangle\n",
    "\n",
    "def triangle(num):\n",
    "    if num == 0:\n",
    "        return [1]\n",
    "    else:\n",
    "        line = [1]\n",
    "        previous = triangle(num-1)\n",
    "        \n",
    "        for i in range(len(previous)-1):\n",
    "            line.append(previous[i] + previous[i+1])\n",
    "            \n",
    "        line += [1]\n",
    "        \n",
    "        return line\n",
    "\n",
    "\n",
    "triangle(5)"
   ]
  },
  {
   "cell_type": "code",
   "execution_count": 75,
   "metadata": {},
   "outputs": [
    {
     "data": {
      "text/plain": [
       "16"
      ]
     },
     "execution_count": 75,
     "metadata": {},
     "output_type": "execute_result"
    }
   ],
   "source": [
    "# Square of a number\n",
    "\n",
    "def square(n):\n",
    "    if n == 1:\n",
    "        return 1\n",
    "    else:\n",
    "        return (square(n-1) + 2*n - 1)\n",
    "square(4)"
   ]
  },
  {
   "cell_type": "code",
   "execution_count": 94,
   "metadata": {},
   "outputs": [
    {
     "data": {
      "text/plain": [
       "3"
      ]
     },
     "execution_count": 94,
     "metadata": {},
     "output_type": "execute_result"
    }
   ],
   "source": [
    "# Find index of first occurence of a number in an array\n",
    "\n",
    "def find(arr,num,i):\n",
    "    if arr == []:\n",
    "        return 'Not found'\n",
    "    if arr[0] == num:\n",
    "        return i\n",
    "    else:\n",
    "        return find(arr[1:],num,i+1)\n",
    "    \n",
    "find([3,5,6,7],7,0)"
   ]
  },
  {
   "cell_type": "code",
   "execution_count": 109,
   "metadata": {},
   "outputs": [
    {
     "data": {
      "text/plain": [
       "13"
      ]
     },
     "execution_count": 109,
     "metadata": {},
     "output_type": "execute_result"
    }
   ],
   "source": [
    "# Fibonacci\n",
    "\n",
    "def fib(n):\n",
    "    if n == 0:\n",
    "        return 0\n",
    "    if n == 1:\n",
    "        return 1\n",
    "    else:\n",
    "        return (fib(n-2)+fib(n-1))\n",
    "    \n",
    "fib(7)"
   ]
  },
  {
   "cell_type": "code",
   "execution_count": 142,
   "metadata": {},
   "outputs": [
    {
     "data": {
      "text/plain": [
       "6"
      ]
     },
     "execution_count": 142,
     "metadata": {},
     "output_type": "execute_result"
    }
   ],
   "source": [
    "# GCD\n",
    "\n",
    "def gcd(m,n):\n",
    "    if m == n:\n",
    "        return m\n",
    "    else:\n",
    "        if m > n:\n",
    "            return gcd(m-n,n)\n",
    "        else:\n",
    "            return gcd(m,n-m)\n",
    "        \n",
    "gcd(12,6)"
   ]
  },
  {
   "cell_type": "markdown",
   "metadata": {},
   "source": [
    "# Searching"
   ]
  },
  {
   "cell_type": "markdown",
   "metadata": {},
   "source": [
    "#### Binary Search"
   ]
  },
  {
   "cell_type": "code",
   "execution_count": 5,
   "metadata": {},
   "outputs": [
    {
     "name": "stdout",
     "output_type": "stream",
     "text": [
      "Not found!\n",
      "22 found at : 5\n"
     ]
    }
   ],
   "source": [
    "def binary_search(data,num):\n",
    "    l = 0\n",
    "    r = len(data)-1\n",
    "    \n",
    "    while l <= r:\n",
    "        mid = (l+r)//2\n",
    "        \n",
    "        if data[mid] == num:\n",
    "            return print(num,'found at :',mid)\n",
    "        \n",
    "        if data[mid] > num:\n",
    "            r = mid - 1    #prune right side to reduce search space\n",
    "            \n",
    "        else:\n",
    "            l = mid + 1    #prune left side to reduce search space\n",
    "            \n",
    "    return print('Not found!')\n",
    "\n",
    "binary_search([1,4,6,9,12,22,43,55], 3)\n",
    "binary_search([1,4,6,9,12,22,43,55], 22)"
   ]
  },
  {
   "cell_type": "markdown",
   "metadata": {},
   "source": [
    "#### 1. Find Closest Number"
   ]
  },
  {
   "cell_type": "code",
   "execution_count": 82,
   "metadata": {},
   "outputs": [
    {
     "name": "stdout",
     "output_type": "stream",
     "text": [
      "8\n",
      "6\n",
      "2\n",
      "8\n",
      "9\n"
     ]
    }
   ],
   "source": [
    "# O(logn) , O(1)\n",
    "\n",
    "def find_closest_num(A, target):\n",
    "    left = 0\n",
    "    right = len(A) - 1\n",
    "    closest_num = None\n",
    "\n",
    "    while left <= right:\n",
    "        \n",
    "        mid = (left + right)//2\n",
    "        diff_left = abs(A[left] - target)\n",
    "        diff_right = abs(A[right] - target)\n",
    "        diff_mid = abs(A[mid] - target)\n",
    "\n",
    "        if diff_left < diff_right and diff_left < diff_mid:\n",
    "            closest_num = A[left]\n",
    "            right = mid - 1\n",
    "\n",
    "        elif diff_right < diff_left and diff_right < diff_mid:\n",
    "            closest_num = A[right]\n",
    "            left = mid + 1\n",
    "\n",
    "        else:\n",
    "            if mid > 0 and mid < len(A)-1:  # this IF block is to handle below 2 \n",
    "                if A[mid+1] == target:      # edge cases i.e when repeating numbers are\n",
    "                    return A[mid+1]        # next to MID\n",
    "                if A[mid-1] == target : \n",
    "                    return A[mid-1]\n",
    "            else:\n",
    "                return A[mid]      #this was tricky, as when mid is less than both sides\n",
    "                               #or target == mid, we will return mid\n",
    "    return closest_num\n",
    "\n",
    "\n",
    "print(find_closest_num([2, 5, 6, 7, 8, 8, 9], 8))    #edge case\n",
    "print(find_closest_num([1, 2, 4, 5, 6, 6, 8, 9], 6)) #edge case\n",
    "print(find_closest_num([1, 2, 2, 4, 8, 8, 9], 2))\n",
    "print(find_closest_num([1, 2, 2, 4, 8, 8, 9], 8))\n",
    "print(find_closest_num([1, 2, 2, 4, 8, 8, 9],11))"
   ]
  },
  {
   "cell_type": "markdown",
   "metadata": {},
   "source": [
    "#### 2. Find fixed point"
   ]
  },
  {
   "cell_type": "code",
   "execution_count": 91,
   "metadata": {},
   "outputs": [
    {
     "name": "stdout",
     "output_type": "stream",
     "text": [
      "3\n",
      "0\n",
      "None\n"
     ]
    }
   ],
   "source": [
    "# O(logn), O(1)\n",
    "\n",
    "def find(A):\n",
    "    left = 0\n",
    "    right = len(A) - 1\n",
    "    \n",
    "    while left <= right :\n",
    "        mid = (left + right)//2\n",
    "# We don't need to check for L or R bcz the conditions and traversal are dependent on mid        \n",
    "        if A[mid] < mid :  \n",
    "            left = mid + 1\n",
    "        elif A[mid] > mid:\n",
    "            right = mid - 1\n",
    "        else:\n",
    "            return mid   # A[mid] == mid\n",
    "    \n",
    "    return None\n",
    "\n",
    "print(find([-10, -5, 0, 3, 7]))\n",
    "print(find([0, 2, 5, 8, 17]))\n",
    "print(find([-10, -5, 3, 4, 7, 9]))\n"
   ]
  },
  {
   "cell_type": "markdown",
   "metadata": {},
   "source": [
    "#### 3. Find peak in Bitonically sorted array"
   ]
  },
  {
   "cell_type": "code",
   "execution_count": 104,
   "metadata": {},
   "outputs": [
    {
     "name": "stdout",
     "output_type": "stream",
     "text": [
      "5\n",
      "6\n",
      "5\n",
      "5\n"
     ]
    }
   ],
   "source": [
    "# O(logn), O(1)\n",
    "\n",
    "def find(A):\n",
    "    l = 0\n",
    "    r = len(A) - 1\n",
    "    \n",
    "    while l <= r:\n",
    "        mid = (l+r)//2\n",
    "        \n",
    "        # to handle edge case of simple sorted array in ASC or DES order\n",
    "        if mid == 0 or mid == len(A)-1:\n",
    "            return A[mid]\n",
    "        \n",
    "        if A[mid-1] < A[mid] and A[mid+1] < A[mid]:\n",
    "            return A[mid]\n",
    "        if A[mid+1] > A[mid]:\n",
    "            l = mid+1\n",
    "        else:\n",
    "            r = mid-1\n",
    "            \n",
    "print(find([1, 2, 3, 4, 5, 4, 3, 2, 1]))\n",
    "print(find([1, 6, 5, 4, 3, 2, 1]))\n",
    "print(find([1, 2, 3, 4, 5]))\n",
    "print(find([5, 4, 3, 2, 1]))\n"
   ]
  },
  {
   "cell_type": "markdown",
   "metadata": {},
   "source": [
    "#### 4. Find First Entry in List with Duplicates"
   ]
  },
  {
   "cell_type": "code",
   "execution_count": 121,
   "metadata": {},
   "outputs": [
    {
     "name": "stdout",
     "output_type": "stream",
     "text": [
      "6\n",
      "3\n",
      "0\n"
     ]
    }
   ],
   "source": [
    "# O(logn), O(1)\n",
    "\n",
    "def find(A,num):\n",
    "    l = 0\n",
    "    r = len(A) - 1\n",
    "    \n",
    "    while l <= r:\n",
    "        mid = (l+r)//2\n",
    "        \n",
    "        if A[mid] > num:\n",
    "            r = mid - 1\n",
    "        elif A[mid] < num:\n",
    "            l = mid + 1\n",
    "        else:\n",
    "            if A[mid-1] == num:\n",
    "        #pruning all the NUMs occuring on right side of repeating sequence        \n",
    "                r = mid - 1     \n",
    "            else:\n",
    "                return mid\n",
    "            \n",
    "    return 'Not found!'\n",
    "\n",
    "print(find([-14, -10, 2, 108, 108, 243, 285, 285, 285, 401], 285))\n",
    "print(find([-14, -10, 2, 108, 108, 108, 108, 243, 285, 285, 285, 401], 108))\n",
    "print(find([-14, -14, -10, 2, 108, 108, 243, 285, 285, 285, 401], -14))"
   ]
  },
  {
   "cell_type": "code",
   "execution_count": 125,
   "metadata": {},
   "outputs": [
    {
     "name": "stdout",
     "output_type": "stream",
     "text": [
      "6\n",
      "2\n",
      "9\n",
      "9\n"
     ]
    }
   ],
   "source": [
    "# Use it only when applying Binary search IS NOT modified according to the question\n",
    "# OR     when using it's just a sub-problem of an original given question\n",
    "import bisect\n",
    "\n",
    "print(bisect.bisect_left([-14, -10, 2, 108, 108, 243, 285, 285, 285, 401], 285))\n",
    "print(bisect.bisect_left([-14, -10, 2, 108, 108, 243, 285, 285, 285, 401], 2))\n",
    "\n",
    "print(bisect.bisect_right([-14, -10, 2, 108, 108, 243, 285, 285, 285, 401], 285))\n",
    "print(bisect.bisect([-14, -10, 2, 108, 108, 243, 285, 285, 285, 401], 285))\n"
   ]
  },
  {
   "cell_type": "markdown",
   "metadata": {},
   "source": [
    "#### 5. Find a number whose square <= given number"
   ]
  },
  {
   "cell_type": "code",
   "execution_count": 173,
   "metadata": {},
   "outputs": [
    {
     "name": "stdout",
     "output_type": "stream",
     "text": [
      "1 0 300\n",
      "1 150 150\n",
      "1 75 75\n",
      "1 38 38\n",
      "1 19 19\n",
      "10 10 19\n",
      "14 14 19\n",
      "16 16 19\n",
      "17 17 19\n",
      "17 18 18\n"
     ]
    },
    {
     "data": {
      "text/plain": [
       "17"
      ]
     },
     "execution_count": 173,
     "metadata": {},
     "output_type": "execute_result"
    }
   ],
   "source": [
    "# O(logn)\n",
    "\n",
    "def get_closest(num):\n",
    "    l = 1\n",
    "    r = num\n",
    "    m = 0\n",
    "    while True:\n",
    "r        if r - l == 1:\n",
    "            return l\n",
    "        m = (l+r)//2\n",
    "        if m**2 > num:\n",
    "            r = m\n",
    "        elif m**2 < num:\n",
    "            l = m\n",
    "        else:\n",
    "            return m\n",
    "    \n",
    "get_closest(300)"
   ]
  },
  {
   "cell_type": "markdown",
   "metadata": {},
   "source": [
    "#### 6. Find smallest element in a Cyclically Sorted array"
   ]
  },
  {
   "cell_type": "code",
   "execution_count": 192,
   "metadata": {},
   "outputs": [
    {
     "data": {
      "text/plain": [
       "5"
      ]
     },
     "execution_count": 192,
     "metadata": {},
     "output_type": "execute_result"
    }
   ],
   "source": [
    "# O(logn)\n",
    "\n",
    "def find(A):\n",
    "    l = 0\n",
    "    r = len(A) - 1\n",
    "    \n",
    "    while l != r:\n",
    "        mid = (l+r)//2\n",
    "\n",
    "        if A[r] < A[mid]:    # the smallest element occurs towards the right\n",
    "            l = mid + 1      # thus prune the left side upto MID\n",
    "        else:\n",
    "            r = mid          # the smallest element DEFINITELY NOT occurs on RHS AFTER MID, prune AFTER MID\n",
    "            \n",
    "    return l        # returning the lower value which occurs on the left of a sorted array\n",
    "            \n",
    "find([3, 4, 5, 6, 7, 1, 2])"
   ]
  },
  {
   "cell_type": "markdown",
   "metadata": {},
   "source": [
    "# Graphs"
   ]
  },
  {
   "cell_type": "code",
   "execution_count": 214,
   "metadata": {},
   "outputs": [],
   "source": [
    "from collections import defaultdict\n",
    "import networkx as nx"
   ]
  },
  {
   "cell_type": "code",
   "execution_count": 218,
   "metadata": {},
   "outputs": [
    {
     "data": {
      "image/png": "[encoded data removed]",
      "text/plain": [
       "<Figure size 432x288 with 1 Axes>"
      ]
     },
     "metadata": {},
     "output_type": "display_data"
    }
   ],
   "source": [
    "g1 = defaultdict(list)\n",
    "g1 = {\n",
    "  'A' : ['B','J','G'],\n",
    "  'B' : ['A','D'],\n",
    "  'C' : ['H'],\n",
    "  'D' : ['B','J','H'],\n",
    "  'E' : ['F','G','I'],\n",
    "  'F' : ['G','E','I','H'],\n",
    "  'G' : ['A','J','F','E'],\n",
    "  'H' : ['D','F','I','C'],\n",
    "  'I' : ['E','F','H'],\n",
    "  'J' : ['A','D','G']\n",
    "}\n",
    "G1 = nx.Graph(g1)\n",
    "nx.draw(G1, with_labels = True)"
   ]
  },
  {
   "cell_type": "markdown",
   "metadata": {},
   "source": [
    "#### BFS"
   ]
  },
  {
   "cell_type": "code",
   "execution_count": 231,
   "metadata": {},
   "outputs": [
    {
     "data": {
      "text/plain": [
       "['A', 'B', 'J', 'G', 'D', 'F', 'E', 'H', 'I', 'C']"
      ]
     },
     "execution_count": 231,
     "metadata": {},
     "output_type": "execute_result"
    }
   ],
   "source": [
    "def bfs(graph, source):\n",
    "    q = []\n",
    "    visited = set()\n",
    "    result = []\n",
    "    \n",
    "    q.append(source)\n",
    "    visited.add(source)\n",
    "    \n",
    "    while q:\n",
    "        curr = q.pop(0)\n",
    "        result.append(curr)\n",
    "        \n",
    "        for adj in graph[curr]:\n",
    "            if adj not in visited:\n",
    "                q.append(adj)\n",
    "                visited.add(adj)\n",
    "                \n",
    "    return result\n",
    "\n",
    "bfs(g1, 'A')"
   ]
  },
  {
   "cell_type": "markdown",
   "metadata": {},
   "source": [
    "#### DFS"
   ]
  },
  {
   "cell_type": "code",
   "execution_count": 233,
   "metadata": {},
   "outputs": [
    {
     "data": {
      "text/plain": [
       "['A', 'G', 'E', 'I', 'H', 'C', 'D', 'F', 'J', 'B']"
      ]
     },
     "execution_count": 233,
     "metadata": {},
     "output_type": "execute_result"
    }
   ],
   "source": [
    "def dfs(graph, source):\n",
    "    stack = []\n",
    "    visited = set()\n",
    "    result = []\n",
    "    \n",
    "    stack.append(source)\n",
    "    visited.add(source)\n",
    "    \n",
    "    while stack:\n",
    "        curr = stack.pop()\n",
    "        result.append(curr)\n",
    "        \n",
    "        for adj in graph[curr]:\n",
    "            if adj not in visited:\n",
    "                stack.append(adj)\n",
    "                visited.add(adj)\n",
    "                \n",
    "    return result\n",
    "\n",
    "dfs(g1, 'A')"
   ]
  },
  {
   "cell_type": "code",
   "execution_count": 226,
   "metadata": {},
   "outputs": [
    {
     "data": {
      "image/png": "[encoded data removed]",
      "text/plain": [
       "<Figure size 432x288 with 1 Axes>"
      ]
     },
     "metadata": {},
     "output_type": "display_data"
    }
   ],
   "source": [
    "g2 = defaultdict(list)\n",
    "g2 = {\n",
    "  'A' : ['B','C'],\n",
    "  'B' : ['D', 'E'],\n",
    "  'C' : ['F'],\n",
    "  'D' : [],\n",
    "  'E' : ['F'],\n",
    "  'F' : []\n",
    "}\n",
    "G2 = nx.Graph(g2)\n",
    "nx.draw(G2, with_labels = True)"
   ]
  },
  {
   "cell_type": "code",
   "execution_count": 234,
   "metadata": {},
   "outputs": [
    {
     "name": "stdout",
     "output_type": "stream",
     "text": [
      "['A', 'B', 'C', 'D', 'E', 'F']\n",
      "['A', 'C', 'F', 'B', 'E', 'D']\n"
     ]
    }
   ],
   "source": [
    "print(bfs(g2, 'A'))\n",
    "print(dfs(g2, 'A'))"
   ]
  },
  {
   "cell_type": "code",
   "execution_count": null,
   "metadata": {},
   "outputs": [],
   "source": []
  }
 ],
 "metadata": {
  "kernelspec": {
   "display_name": "Python 3",
   "language": "python",
   "name": "python3"
  },
  "language_info": {
   "codemirror_mode": {
    "name": "ipython",
    "version": 3
   },
   "file_extension": ".py",
   "mimetype": "text/x-python",
   "name": "python",
   "nbconvert_exporter": "python",
   "pygments_lexer": "ipython3",
   "version": "3.8.5"
  }
 },
 "nbformat": 4,
 "nbformat_minor": 4
}
