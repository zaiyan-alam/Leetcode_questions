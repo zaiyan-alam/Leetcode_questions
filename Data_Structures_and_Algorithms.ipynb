{
 "cells": [
  {
   "cell_type": "markdown",
   "metadata": {},
   "source": [
    "# Primitives"
   ]
  },
  {
   "cell_type": "markdown",
   "metadata": {},
   "source": [
    "#### 1. Palindrome number"
   ]
  },
  {
   "cell_type": "code",
   "execution_count": 35,
   "metadata": {},
   "outputs": [],
   "source": [
    "# O(n) since the entire number is iterated\n",
    "\n",
    "def isPalindrome(x):\n",
    "        '''\n",
    "        :type x: int\n",
    "        :rtype: bool\n",
    "        '''\n",
    "        y = x\n",
    "        num = []\n",
    "        if y > 0:\n",
    "            while y !=0 :\n",
    "                num.append(str(int(y%10)))\n",
    "                y = (y-(y%10))/10\n",
    "            if int(''.join(num)) == x:\n",
    "                return True\n",
    "            else:\n",
    "                return False\n",
    "        else :\n",
    "            return False\n",
    "        \n",
    "#print(isPalindrome(124421), isPalindrome(-1), isPalindrome(9))"
   ]
  },
  {
   "cell_type": "code",
   "execution_count": 34,
   "metadata": {},
   "outputs": [],
   "source": [
    "# O(n/2) since only half of the length is traversed\n",
    "\n",
    "import math\n",
    "\n",
    "def isPalindrome2(x):\n",
    "        '''\n",
    "        :type x: int\n",
    "        :rtype: bool\n",
    "        '''\n",
    "        if x <=0 :\n",
    "            return False\n",
    "        \n",
    "        total_digits = math.floor(math.log10(x)) + 1\n",
    "        mask = math.pow(10,total_digits - 1)\n",
    "        \n",
    "        for i in range(total_digits//2):\n",
    "            rd = x//mask\n",
    "            ld = x%10\n",
    "            \n",
    "            if ld != rd:\n",
    "                return False\n",
    "            \n",
    "            x %= mask\n",
    "            x //= 10\n",
    "            mask //= 100\n",
    "        \n",
    "        return True\n",
    "        \n",
    "#print(isPalindrome2(124421), isPalindrome2(-1), isPalindrome2(9))"
   ]
  },
  {
   "cell_type": "markdown",
   "metadata": {},
   "source": [
    "#### 2. Add two integer strings"
   ]
  },
  {
   "cell_type": "code",
   "execution_count": 60,
   "metadata": {},
   "outputs": [],
   "source": [
    "# similar to paper based right to left addition, result generated in reverse order\n",
    "\n",
    "# O(k) solution, where k is longer string\n",
    "\n",
    "def addStrings(s1, s2):\n",
    "        '''\n",
    "        :type s1: str\n",
    "        :type s2: str\n",
    "        :rtype: str\n",
    "        '''\n",
    "        i = len(s1) - 1\n",
    "        j = len(s2) - 1\n",
    "        carry = 0\n",
    "        result = ''\n",
    "        while i >= 0 or j >=0:\n",
    "            sum = 0\n",
    "            sum += carry\n",
    "            if i >=0 :\n",
    "                sum += ord(s1[i]) - ord('0')\n",
    "                i -= 1\n",
    "                \n",
    "            if j >= 0 :\n",
    "                sum += ord(s2[j]) - ord('0')\n",
    "                j -= 1\n",
    "                \n",
    "            val = sum % 10\n",
    "            carry = sum // 10  # carry is going be 1st digit of sum value i.e either 0 or 1\n",
    "            result += str(val)\n",
    "        if carry != 0:\n",
    "            result += str(carry)\n",
    "        return result[::-1]\n",
    "        \n",
    "        \n",
    "#print(addStrings(\"1234567890\",\"1234567890\"))"
   ]
  },
  {
   "cell_type": "markdown",
   "metadata": {},
   "source": [
    "#### 3. Check if given num is power of 2"
   ]
  },
  {
   "cell_type": "code",
   "execution_count": 135,
   "metadata": {},
   "outputs": [
    {
     "data": {
      "text/plain": [
       "False"
      ]
     },
     "execution_count": 135,
     "metadata": {},
     "output_type": "execute_result"
    }
   ],
   "source": [
    "import math\n",
    "\n",
    "# O(1) time\n",
    "\n",
    "def powerOfTwo(input):\n",
    "        '''\n",
    "        :type input: int\n",
    "        :rtype: bool\n",
    "        '''\n",
    "        x = math.log2(input)\n",
    "        y = math.floor(x)\n",
    "        \n",
    "        if x == y :\n",
    "            return True\n",
    "        else:\n",
    "            return False\n",
    "\n",
    "\n",
    "powerOfTwo(12)"
   ]
  },
  {
   "cell_type": "markdown",
   "metadata": {},
   "source": [
    "#### 4. Shortest time difference"
   ]
  },
  {
   "cell_type": "code",
   "execution_count": 128,
   "metadata": {},
   "outputs": [],
   "source": [
    "# Convert the times into minutes and sort the array, don't forget to take one backward difference on the clock\n",
    "\n",
    "# O(nlogn)\n",
    "\n",
    "def timeDifference(times):\n",
    "        '''\n",
    "        :type times: list of str\n",
    "        :rtype: int\n",
    "        '''\n",
    "        minutes = []\n",
    "        dictt = {}\n",
    "        for i in times:\n",
    "            temp = i.split(':')\n",
    "            val = (int(temp[0])*60) + int(temp[1])\n",
    "            minutes.append(val)\n",
    "            dictt[val] = i\n",
    "            \n",
    "        minutes.sort()\n",
    "        \n",
    "        if len(minutes) == 2:\n",
    "            return (dictt[minutes[1]],dictt[minutes[0]], minutes[1] - minutes[0])\n",
    "        time1 = 0\n",
    "        time2 = 0\n",
    "        diff = 0\n",
    "        fwd = 0\n",
    "        for i in range(len(minutes)-1) : \n",
    "            if i == 0:\n",
    "                diff = minutes[i] + (1440-minutes[-1])\n",
    "                time1, time2 = minutes[i], minutes[-1]\n",
    "                \n",
    "            fwd = minutes[i+1] - minutes[i]\n",
    "            if fwd < diff:\n",
    "                diff = fwd\n",
    "                time1, time2 = minutes[i], minutes[i+1]\n",
    "            \n",
    "        return (dictt[time1],dictt[time2], diff)\n",
    "        \n",
    "\n",
    "#print(\n",
    "#        timeDifference([\"00:03\", \"23:59\", \"12:03\"]),\n",
    "#        timeDifference([\"00:01\", \"00:02\"]),\n",
    "#        timeDifference([\"00:00\",\"23:59\",\"00:00\"])\n",
    "#     )    "
   ]
  },
  {
   "cell_type": "markdown",
   "metadata": {},
   "source": [
    "#### 5. Reverse Bits"
   ]
  },
  {
   "cell_type": "code",
   "execution_count": 180,
   "metadata": {},
   "outputs": [
    {
     "data": {
      "text/plain": [
       "4209"
      ]
     },
     "execution_count": 180,
     "metadata": {},
     "output_type": "execute_result"
    }
   ],
   "source": [
    "#\n",
    "\n",
    "def reverseBits(input):\n",
    "        '''\n",
    "        :type input: int\n",
    "        :rtype: int\n",
    "        '''\n",
    "        powers = []\n",
    "        while input > 0 :\n",
    "            power = math.floor(math.log2(input))\n",
    "            powers.append(power)\n",
    "            input -= 2**power\n",
    "        \n",
    "        binary = 0\n",
    "        for i in powers:\n",
    "            binary += 10**i\n",
    "        \n",
    "        binary = str(binary)\n",
    "        rev_num = 0\n",
    "        \n",
    "        for i in range(len(binary)):   # no need to reverse the binary since left to right indexing is already reversed\n",
    "            if binary[i] == '1':       # in regards to binary representation is right to left i.e opposite\n",
    "                rev_num += 2**i\n",
    "            \n",
    "        return rev_num\n",
    "    \n",
    "\n",
    "reverseBits(9090)      "
   ]
  },
  {
   "cell_type": "markdown",
   "metadata": {},
   "source": [
    "# Arrays"
   ]
  },
  {
   "cell_type": "markdown",
   "metadata": {},
   "source": [
    "#### 1. Rotate (n x n) Matrix"
   ]
  },
  {
   "cell_type": "code",
   "execution_count": 3,
   "metadata": {},
   "outputs": [],
   "source": [
    "\n",
    "'''\n",
    "The arrow symbols shows how we are traversing the four pointers (at each corner) which is similar to rotation 90 degree clockwise\n",
    "\n",
    "      ➡️         \n",
    "a = [[ 1,  2,  3, 4],⬇️\n",
    "     [ 5,  6,  7, 8],\n",
    "     [ 9, 10, 11, 12],\n",
    "    ⬆️[13, 14, 15, 16]]\n",
    "                   ⬅️\n",
    "                   \n",
    "    We do this layer by layer\n",
    "'''\n",
    "\n",
    "# Since it is n x n matrix, we can use traverse the matrix layer by layer, not suitable for m x n matrix!!!!\n",
    "\n",
    "# O(n^2) solution\n",
    "# In-place swapping i.e O(1) space\n",
    "\n",
    "def rotate(matrix):\n",
    "        '''\n",
    "        :type matrix: list of list of int\n",
    "        :rtype: list of list of int\n",
    "        '''\n",
    "        \n",
    "        size = len(matrix[0])  #size of matrix\n",
    "        boundary = size - 1  #index of boundary row/col\n",
    "        \n",
    "        for layer in range(size//2):\n",
    "            for i in range(layer, boundary - layer):\n",
    "    \n",
    "                top_left = matrix[layer][i]\n",
    "                top_right = matrix[i][boundary - layer]\n",
    "                bottom_left = matrix[boundary - i][layer]\n",
    "                bottom_right = matrix[boundary - layer][boundary - i]\n",
    "                \n",
    "                matrix[layer][i] = bottom_left\n",
    "                matrix[i][boundary - layer] = top_left\n",
    "                matrix[boundary - i][layer] = bottom_right\n",
    "                matrix[boundary - layer][boundary - i] = top_right\n",
    "        \n",
    "        return matrix\n",
    "                "
   ]
  },
  {
   "cell_type": "markdown",
   "metadata": {},
   "source": [
    "         \n",
    "      "
   ]
  },
  {
   "cell_type": "markdown",
   "metadata": {},
   "source": [
    "#### 2. Spiral Traversal of a matrix"
   ]
  },
  {
   "cell_type": "code",
   "execution_count": 292,
   "metadata": {},
   "outputs": [],
   "source": [
    "'''\n",
    "Use four boudaries/fences, traverse along top boundary, from right to left, shift the top boundary\n",
    "Next along right boundary, from top to bottom, shift the right boundary,\n",
    "repeat from bottom and left boundaries as above\n",
    "\n",
    "''' \n",
    "\n",
    "# O(m * n)\n",
    "\n",
    "def spiralOrder(matrix):\n",
    "        '''\n",
    "        :type matrix: list of list of int\n",
    "        :rtype: list of int\n",
    "        '''\n",
    "        spiral_order = []\n",
    "        m = len(matrix)  #4\n",
    "        n = len(matrix[0]) #3\n",
    "        top = 0\n",
    "        right = n - 1\n",
    "        bottom = m - 1\n",
    "        left = 0\n",
    "        \n",
    "        while top <= bottom and left <= right:\n",
    "            for i in range(left, right + 1):\n",
    "                spiral_order.append(matrix[top][i])\n",
    "    \n",
    "            top += 1\n",
    "        \n",
    "            for i in range(top, bottom + 1):\n",
    "                spiral_order.append(matrix[i][right])\n",
    "            \n",
    "            right -= 1\n",
    "            \n",
    "            if bottom > top:\n",
    "                for i in range(right, left-1, -1):\n",
    "                    spiral_order.append(matrix[bottom][i])\n",
    "            \n",
    "                bottom -= 1\n",
    "            \n",
    "            if right > left:\n",
    "                for i in range(bottom, top-1, -1):\n",
    "                    spiral_order.append(matrix[i][left])\n",
    "            \n",
    "                left += 1\n",
    "            \n",
    "        return spiral_order\n",
    "        "
   ]
  },
  {
   "cell_type": "markdown",
   "metadata": {},
   "source": [
    "#### 3. 3-Sum"
   ]
  },
  {
   "cell_type": "code",
   "execution_count": 160,
   "metadata": {},
   "outputs": [],
   "source": [
    "# O(n^2) solution\n",
    "\n",
    "# For these types of problems use hash tables\n",
    "\n",
    "def threeSum(A,k):\n",
    "        '''\n",
    "        :type A: list of int\n",
    "        :rtype: list of list of int\n",
    "        '''\n",
    "        hash_sum = {}\n",
    "        \n",
    "        for i in range(len(A)):\n",
    "            hash_sum[k-A[i]] = i  \n",
    "            \n",
    "        triplets = []    \n",
    "        for i in range(len(A)-1):\n",
    "            for j in range(i+1, len(A)):\n",
    "                if A[i] + A[j] in hash_sum and A[i]!=A[j]:\n",
    "                    third_num = A[hash_sum[A[i]+A[j]]]\n",
    "                    vals = set()\n",
    "                    vals.add(A[i])\n",
    "                    vals.add(A[j])\n",
    "                    vals.add(third_num)\n",
    "                    if vals not in triplets and len(vals) == 3:\n",
    "                        triplets.append(vals)\n",
    "        \n",
    "        for i in range(len(triplets)):\n",
    "            triplets[i] = list(triplets[i])\n",
    "        \n",
    "        return triplets\n",
    "            "
   ]
  },
  {
   "cell_type": "markdown",
   "metadata": {},
   "source": [
    "#### 4. Sudoku validity check"
   ]
  },
  {
   "cell_type": "code",
   "execution_count": 167,
   "metadata": {},
   "outputs": [],
   "source": [
    "a = [[5,3,0,0,7,0,0,0,0],\n",
    "      [6,0,0,1,9,5,0,0,0],\n",
    "      [0,9,8,0,0,0,0,6,0],\n",
    "      [8,0,0,0,6,0,0,0,3],\n",
    "      [4,0,0,8,0,3,0,0,1],\n",
    "      [7,0,0,0,2,0,0,0,6],\n",
    "      [0,6,0,0,0,0,2,8,0],\n",
    "      [0,0,0,4,1,9,0,0,5],\n",
    "      [0,0,0,0,8,0,0,7,9]]\n",
    "\n",
    "\n",
    "# O(n^2)\n",
    "\n",
    "def validSudoku(board):\n",
    "        '''\n",
    "        :type board: list of list of int\n",
    "        :rtype: bool\n",
    "        '''\n",
    "        seen = set()\n",
    "        for i in range(0,9):\n",
    "            for j in range(0,9):\n",
    "                v = board[i][j]\n",
    "                \n",
    "                if v!= 0 :\n",
    "                    row = \"row{}val{}\".format(i,v)\n",
    "                    col = \"col{}val{}\".format(j,v)\n",
    "                    box = \"{}{}{}\".format(i//3,v,j//3)\n",
    "                    \n",
    "                    if row not in seen and col not in seen and box not in seen:\n",
    "                        seen.add(row)\n",
    "                        seen.add(col)\n",
    "                        seen.add(box)\n",
    "                    \n",
    "                    else:\n",
    "                        return False\n",
    "        return True\n",
    "                                           "
   ]
  },
  {
   "cell_type": "markdown",
   "metadata": {},
   "source": [
    "#### 5. Sub-arrays sum equal to k"
   ]
  },
  {
   "cell_type": "code",
   "execution_count": 181,
   "metadata": {},
   "outputs": [],
   "source": [
    "def countSubarrays(arr, k):\n",
    "        '''\n",
    "        :type arr: list of int\n",
    "        :type k: int\n",
    "        :rtype: int\n",
    "        '''\n",
    "        size = len(arr)\n",
    "        count = 0\n",
    "        for offset in range(0,size-1):\n",
    "            total = 0\n",
    "            for i in range(offset, size):\n",
    "                total += arr[i]\n",
    "                if total == k:\n",
    "                    count += 1\n",
    "                    print(arr[offset:i+1])\n",
    "        return count\n",
    "                    \n",
    "        "
   ]
  },
  {
   "cell_type": "markdown",
   "metadata": {},
   "source": [
    "# Strings"
   ]
  },
  {
   "cell_type": "markdown",
   "metadata": {},
   "source": [
    "#### 1. Pattern Matching"
   ]
  },
  {
   "cell_type": "code",
   "execution_count": 212,
   "metadata": {},
   "outputs": [],
   "source": [
    "# O(n^2)\n",
    "\n",
    "# convert each string in to a sequence of digits then compare\n",
    "\n",
    "def findAndReplacePattern(words, pattern):\n",
    "        '''\n",
    "        :type words: list of str\n",
    "        :type pattern: str\n",
    "        :rtype: list of str\n",
    "        '''\n",
    "        matched = []\n",
    "        pattern = get_num_pattern(pattern)\n",
    "        for i in words:\n",
    "            word = get_num_pattern(i)\n",
    "            if word == pattern:\n",
    "                matched.append(i)\n",
    "        \n",
    "        return matched\n",
    "\n",
    "def get_num_pattern(string):\n",
    "    temp = \"\"\n",
    "    dictt = {}\n",
    "    num = 0\n",
    "    for i in string:\n",
    "        if i not in dictt:\n",
    "            dictt[i] = str(num)\n",
    "            num += 1\n",
    "            temp += dictt[i]\n",
    "        else:\n",
    "            temp += dictt[i]\n",
    "    return temp\n",
    "        \n"
   ]
  },
  {
   "cell_type": "markdown",
   "metadata": {},
   "source": [
    "#### 2. Add two binary strings"
   ]
  },
  {
   "cell_type": "code",
   "execution_count": 218,
   "metadata": {},
   "outputs": [],
   "source": [
    "# O(n)\n",
    "\n",
    "\n",
    "import math\n",
    "def addBinaryStrings(s1, s2):\n",
    "        '''\n",
    "        :type s1: str\n",
    "        :type s2: str\n",
    "        :rtype: str\n",
    "        '''\n",
    "        return to_binary(to_decimal(s1) + to_decimal(s2))\n",
    "\n",
    "def to_decimal(string):\n",
    "    rev = string[::-1] \n",
    "    num = 0\n",
    "    for i in range(len(rev)):\n",
    "        if rev[i] == '1':\n",
    "            num += 2**i\n",
    "    return num\n",
    "\n",
    "def to_binary(num):\n",
    "    powers = []\n",
    "    \n",
    "    while num > 0:\n",
    "        power = math.floor(math.log2(num))\n",
    "        powers.append(power)\n",
    "        num -= 2**power\n",
    "        \n",
    "    binary = 0\n",
    "    for i in powers:\n",
    "        binary += 10**i\n",
    "    return str(binary)\n",
    "        "
   ]
  },
  {
   "cell_type": "markdown",
   "metadata": {},
   "source": [
    "#### 3. Palindrome string"
   ]
  },
  {
   "cell_type": "code",
   "execution_count": 293,
   "metadata": {},
   "outputs": [],
   "source": [
    "# O(n/2)\n",
    "\n",
    "def validPalindrome(s):\n",
    "        '''\n",
    "        :type s: str\n",
    "        :rtype: bool\n",
    "        '''\n",
    "        \n",
    "        s = s.lower()\n",
    "        print(s)\n",
    "        \n",
    "        l = 0\n",
    "        r = len(s)-1\n",
    "\n",
    "        while l < r:\n",
    "            while not s[l].isalnum():   # use WHILE NOT to keep skipping useless characters\n",
    "                l += 1\n",
    "            \n",
    "            while not s[r].isalnum():   # use WHILE NOT to keep skipping useless characters\n",
    "                r -= 1   \n",
    "            \n",
    "            if s[l] != s[r]:\n",
    "                return False\n",
    "            else:\n",
    "                l += 1\n",
    "                r -= 1\n",
    "        \n",
    "        return True\n"
   ]
  },
  {
   "cell_type": "markdown",
   "metadata": {},
   "source": [
    "#### 4. Zig Zag conversion of string"
   ]
  },
  {
   "cell_type": "code",
   "execution_count": 330,
   "metadata": {},
   "outputs": [],
   "source": [
    "# O(n)\n",
    "\n",
    "# Increasing then decreasing row numbers along the string gives the zig zag output\n",
    "\n",
    "\n",
    "def zigzag(s, rows):\n",
    "        '''\n",
    "        :type s: str\n",
    "        :type rows: int\n",
    "        :rtype: str\n",
    "        '''\n",
    "        if rows == 1:\n",
    "            return s\n",
    "        \n",
    "        arr = [\"\"]*rows     #list of n strings\n",
    "        direction = -1\n",
    "        i = 0\n",
    "\n",
    "        for char in s:\n",
    "            arr[i] += char\n",
    "            \n",
    "            if i == 0 or i == rows - 1:     #flipping of direction happens only in the start or end row\n",
    "                direction = -(direction)     # for first iteration rows increased, to adjust this initialize direction appropriately\n",
    "            \n",
    "            if direction == 1:\n",
    "                i += 1\n",
    "            else:\n",
    "                i-= 1\n",
    "                 \n",
    "        print(arr)\n",
    "        return ''.join(arr)                 "
   ]
  },
  {
   "cell_type": "markdown",
   "metadata": {},
   "source": [
    "#### 5. Longest Palindrome Construction\n"
   ]
  },
  {
   "cell_type": "code",
   "execution_count": 338,
   "metadata": {},
   "outputs": [
    {
     "data": {
      "text/plain": [
       "1"
      ]
     },
     "execution_count": 338,
     "metadata": {},
     "output_type": "execute_result"
    }
   ],
   "source": [
    "# O(n) solution\n",
    "\n",
    "\n",
    "def longestPalindrome(s):\n",
    "        '''\n",
    "        :type s: str\n",
    "        :rtype: int\n",
    "        '''\n",
    "        count = {}\n",
    "        length = 0\n",
    "        flag = 0\n",
    "        \n",
    "        for i in s:\n",
    "            count[i] = count.get(i, 0) + 1\n",
    "                        \n",
    "        for each in count:\n",
    "            if count[each] % 2 == 0:\n",
    "                length += count[each]\n",
    "            else:\n",
    "                if count[each] > 1:\n",
    "                    if len(count) == 1:\n",
    "                        return count[each]\n",
    "                    length += (count[each] - 1)\n",
    "                    \n",
    "                else:\n",
    "                    if flag == 0 : \n",
    "                        length += 1\n",
    "                        flag = 1\n",
    "        return length\n",
    "    \n",
    "#longestPalindrome(\"aabbc\")        \n",
    "#longestPalindrome(\"abbcccd\")\n",
    "longestPalindrome(\"cC\")"
   ]
  },
  {
   "cell_type": "markdown",
   "metadata": {},
   "source": [
    "#### 6. Replace words with Prefix"
   ]
  },
  {
   "cell_type": "code",
   "execution_count": 370,
   "metadata": {},
   "outputs": [],
   "source": [
    "# O(n^2)\n",
    "\n",
    "def replaceWordsWithPrefix(prefixes, sentence):\n",
    "        '''\n",
    "        :type prefixes: list of str\n",
    "        :type sentence: str\n",
    "        :rtype: str\n",
    "        '''\n",
    "        mapping = {}\n",
    "        for i in prefixes:\n",
    "            mapping[i] = True\n",
    "            \n",
    "        line = sentence.split()\n",
    "        \n",
    "        for index in range(len(line)):\n",
    "            word = line[index]\n",
    "            for i in range(len(word)):\n",
    "                if word[0:i] in mapping:\n",
    "                    line[index] = word[0:i]\n",
    "                    break\n",
    "        return ' '.join(line)\n",
    "                \n",
    "        \n"
   ]
  },
  {
   "cell_type": "markdown",
   "metadata": {},
   "source": [
    "#### 6. Word subsets"
   ]
  },
  {
   "cell_type": "code",
   "execution_count": 410,
   "metadata": {},
   "outputs": [
    {
     "name": "stdout",
     "output_type": "stream",
     "text": [
      "{'w': 1, 'o': 1, 'r': 2, 'a': 1}\n",
      "warrior\n"
     ]
    }
   ],
   "source": [
    "def wordSubsets(A, B):\n",
    "        '''\n",
    "        :type A: list of str\n",
    "        :type B: list of str\n",
    "        :rtype: list of str\n",
    "        '''\n",
    "        map_b = {}\n",
    "        for i in B:\n",
    "            temp = mapping(i)\n",
    "            for each in temp:\n",
    "                if map_b.get(each,0) < temp[each]:\n",
    "                    map_b[each] = temp[each]\n",
    "                    \n",
    "        print(map_b)   \n",
    "        for word in A:\n",
    "            temp_map = mapping(word)\n",
    "            add = 1\n",
    "            for char in map_b:\n",
    "                if temp_map.get(char,0) < map_b[char]:\n",
    "                    add = 0\n",
    "                    break\n",
    "            if add == 1:\n",
    "                print(word)\n",
    "                \n",
    "        \n",
    "def mapping(string):\n",
    "    mapp = {}\n",
    "    for i in string:\n",
    "        mapp[i] = mapp.get(i,0) + 1\n",
    "    return mapp\n",
    "        \n",
    "        \n",
    "#wordSubsets([\"orange\", \"room\", \"more\"], [\"rm\", \"oo\"])\n",
    "wordSubsets(['world','warrior', 'war'],['wo','r','a','wrr'])"
   ]
  },
  {
   "cell_type": "markdown",
   "metadata": {},
   "source": [
    "#### 7. Group together Anagrams"
   ]
  },
  {
   "cell_type": "code",
   "execution_count": 415,
   "metadata": {},
   "outputs": [],
   "source": [
    "# O(n^2)\n",
    "\n",
    "# Set method works only if each string has non-repeating characters, else Map/Couting method can be used\n",
    "\n",
    "def groupAnagrams(words):\n",
    "        '''\n",
    "        :type words: list of str\n",
    "        :rtype: list of list of str\n",
    "        '''\n",
    "        \n",
    "        anagrams = []\n",
    "        \n",
    "        for i in words:\n",
    "            if set(i) not in anagrams:\n",
    "                anagrams.append(set(i))\n",
    "                \n",
    "        groups = []\n",
    "        for each in anagrams:\n",
    "            temp = []\n",
    "            for i in words:\n",
    "                if each == set(i):\n",
    "                    temp.append(i)\n",
    "            groups.append(temp)\n",
    "                \n",
    "        print(groups)\n",
    "\n"
   ]
  },
  {
   "cell_type": "markdown",
   "metadata": {},
   "source": [
    "#### 8. Longest substring without repeating characters"
   ]
  },
  {
   "cell_type": "code",
   "execution_count": 441,
   "metadata": {},
   "outputs": [],
   "source": [
    "# O(n) since only length is asked\n",
    "\n",
    "def longestUniqueCharacterSubstring(s):\n",
    "        '''\n",
    "        :type s: str\n",
    "        :rtype: int\n",
    "        '''\n",
    "        if s == \"\" :\n",
    "            return 0\n",
    "        \n",
    "        temp = set()\n",
    "        length = 0\n",
    "        \n",
    "        for i in s:\n",
    "            if i not in temp:\n",
    "                temp.add(i)\n",
    "                if len(temp) > length:\n",
    "                    length = len(temp)\n",
    "            else:   \n",
    "                temp = set()\n",
    "        \n",
    "        return length\n",
    "        \n"
   ]
  },
  {
   "cell_type": "markdown",
   "metadata": {},
   "source": [
    "# Stacks and Queues"
   ]
  },
  {
   "cell_type": "markdown",
   "metadata": {},
   "source": [
    "#### 1. Balanced Parantheses"
   ]
  },
  {
   "cell_type": "code",
   "execution_count": 460,
   "metadata": {},
   "outputs": [],
   "source": [
    "# O(n)\n",
    "\n",
    "def isValid(s):\n",
    "        '''\n",
    "        :type s: str\n",
    "        :rtype: bool\n",
    "        '''\n",
    "        stack = []\n",
    "        for i in s:\n",
    "            if i == '(' or i == '[' or i == '{':\n",
    "                stack.append(i)\n",
    "            else:\n",
    "                if stack == [] or (i == ')' and stack[-1]!='(') or (i == ']' and stack[-1]!='[') or (i == '}' and stack[-1]!='{') :\n",
    "                    return False\n",
    "                else:\n",
    "                    stack.pop()\n",
    "        \n",
    "        if stack != []:\n",
    "            return False\n",
    "        else:\n",
    "            return True\n",
    "        "
   ]
  },
  {
   "cell_type": "markdown",
   "metadata": {},
   "source": [
    "#### 2. Compute Buildings With A Sunset View"
   ]
  },
  {
   "cell_type": "code",
   "execution_count": 464,
   "metadata": {},
   "outputs": [],
   "source": [
    "def getBuildingsWithAView(buildings):\n",
    "        '''\n",
    "        :type buildings: list of int\n",
    "        :rtype: list of int\n",
    "        '''\n",
    "        \n",
    "        result = [0]\n",
    "        tall = buildings[0]\n",
    "        for i in range(1,len(buildings)):\n",
    "            if buildings[i] > tall:\n",
    "                result.append(i)\n",
    "                tall = buildings[i]\n",
    "        return result\n",
    "        "
   ]
  },
  {
   "cell_type": "markdown",
   "metadata": {},
   "source": [
    "#### 3. Undo Redo Actions"
   ]
  },
  {
   "cell_type": "code",
   "execution_count": 488,
   "metadata": {},
   "outputs": [
    {
     "data": {
      "text/plain": [
       "'ab'"
      ]
     },
     "execution_count": 488,
     "metadata": {},
     "output_type": "execute_result"
    }
   ],
   "source": [
    "def performEditorActions(actions):\n",
    "        '''\n",
    "        :type actions: list of list of str\n",
    "        :rtype: str\n",
    "        '''\n",
    "        mapp = {'INSERT':1, 'DELETE':2, 'UNDO':3, 'REDO':4}\n",
    "        acts = []\n",
    "        undo = []\n",
    "        for i in actions:\n",
    "            val = mapp[i[0]]\n",
    "            if val == 1 or val == 2:\n",
    "                acts.append(i)\n",
    "            if val == 3:\n",
    "                temp = acts.pop()\n",
    "                undo.append(temp)\n",
    "            if val == 4 and undo != []:\n",
    "                acts.append(undo.pop())\n",
    "        \n",
    "        string = []\n",
    "        for i in acts:\n",
    "            val = mapp[i[0]]\n",
    "            if val == 1:\n",
    "                string.append(i[1])\n",
    "            else:\n",
    "                string.pop()\n",
    "        return ''.join(string)\n",
    "           \n",
    "\n",
    "            \n",
    "performEditorActions([[\"INSERT\",\"a\"],[\"INSERT\",\"b\"],['UNDO'],['REDO'],['REDO']])\n"
   ]
  },
  {
   "cell_type": "markdown",
   "metadata": {},
   "source": [
    "# Linked Lists"
   ]
  },
  {
   "cell_type": "markdown",
   "metadata": {},
   "source": [
    "##### Designing a linked list"
   ]
  },
  {
   "cell_type": "code",
   "execution_count": 1,
   "metadata": {},
   "outputs": [],
   "source": [
    "class Node():\n",
    "    def __init__(self, val):\n",
    "        self.val = val      #type Data\n",
    "        self.next = None    #type Node"
   ]
  },
  {
   "cell_type": "code",
   "execution_count": 89,
   "metadata": {},
   "outputs": [],
   "source": [
    "class ll():\n",
    "    def __init__(self):\n",
    "        self.head = None    #type Node\n",
    "        self.size = 0\n",
    "        \n",
    "    def add_at_head(self,val):\n",
    "        new_node = Node(val)\n",
    "        new_node.next = self.head\n",
    "        self.head = new_node\n",
    "        self.size += 1\n",
    "        \n",
    "    def add_at_index(self,index,val):\n",
    "        if index == 0 or self.size == 0:\n",
    "            self.add_at_head(val) #size increment included in any ADD function, thus increment not needed\n",
    "        else:\n",
    "            new_node = Node(val)\n",
    "            temp = self.head\n",
    "            for i in range(index-1):\n",
    "                temp = temp.next\n",
    "            new_node.next = temp.next\n",
    "            temp.next = new_node\n",
    "            self.size += 1\n",
    "            \n",
    "    def delete_at_index(self,index):\n",
    "        prev = None\n",
    "        curr = self.head\n",
    "        if index >=2 :\n",
    "            for i in range(index-1):\n",
    "                prev = curr\n",
    "                curr = curr.next\n",
    "            prev.next = curr.next #we are deleting the CURR node, which is present at the given index\n",
    "        else:\n",
    "            self.head = curr.next\n",
    "        self.size -= 1\n",
    "        \n",
    "    def get_at_index(self,index):\n",
    "        \n",
    "        \n",
    "        \n",
    "    def view(self):\n",
    "        if self.size == 0 :\n",
    "            print('List empty')\n",
    "        else:\n",
    "            temp = self.head\n",
    "            while temp != None:\n",
    "                print(temp.val,'-->',end='')\n",
    "                temp = temp.next\n",
    "            print(temp, '   size:',self.size)\n",
    "    \n",
    "                "
   ]
  },
  {
   "cell_type": "code",
   "execution_count": 93,
   "metadata": {},
   "outputs": [
    {
     "name": "stdout",
     "output_type": "stream",
     "text": [
      "5 -->4 -->2 -->None    size: 3\n",
      "5 -->4 -->1 -->2 -->None    size: 4\n",
      "5 -->4 -->1 -->2 -->0 -->None    size: 5\n",
      "-3 -->5 -->4 -->1 -->2 -->0 -->None    size: 6\n",
      "-3 -->5 -->4 -->1 -->2 -->None    size: 5\n"
     ]
    }
   ],
   "source": [
    "a = ll()\n",
    "a.add_at_head(2)\n",
    "a.add_at_head(4)\n",
    "a.add_at_head(5)\n",
    "a.view()\n",
    "\n",
    "a.add_at_index(2,1)\n",
    "a.view()\n",
    "\n",
    "a.add_at_index(a.size, 0)\n",
    "a.view()\n",
    "\n",
    "a.add_at_index(0, -3)\n",
    "a.view()\n",
    "\n",
    "a.delete_at_index(a.size)\n",
    "a.view()\n"
   ]
  },
  {
   "cell_type": "code",
   "execution_count": null,
   "metadata": {},
   "outputs": [],
   "source": []
  },
  {
   "cell_type": "code",
   "execution_count": null,
   "metadata": {},
   "outputs": [],
   "source": []
  },
  {
   "cell_type": "code",
   "execution_count": null,
   "metadata": {},
   "outputs": [],
   "source": []
  },
  {
   "cell_type": "code",
   "execution_count": null,
   "metadata": {},
   "outputs": [],
   "source": []
  },
  {
   "cell_type": "code",
   "execution_count": null,
   "metadata": {},
   "outputs": [],
   "source": []
  },
  {
   "cell_type": "code",
   "execution_count": null,
   "metadata": {},
   "outputs": [],
   "source": []
  }
 ],
 "metadata": {
  "kernelspec": {
   "display_name": "Python 3",
   "language": "python",
   "name": "python3"
  },
  "language_info": {
   "codemirror_mode": {
    "name": "ipython",
    "version": 3
   },
   "file_extension": ".py",
   "mimetype": "text/x-python",
   "name": "python",
   "nbconvert_exporter": "python",
   "pygments_lexer": "ipython3",
   "version": "3.8.5"
  }
 },
 "nbformat": 4,
 "nbformat_minor": 4
}
