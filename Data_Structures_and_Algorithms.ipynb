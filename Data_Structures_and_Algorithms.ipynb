{
 "cells": [
  {
   "cell_type": "markdown",
   "metadata": {},
   "source": [
    "# Primitives"
   ]
  },
  {
   "cell_type": "markdown",
   "metadata": {},
   "source": [
    "#### 1. Palindrome number"
   ]
  },
  {
   "cell_type": "code",
   "execution_count": 35,
   "metadata": {},
   "outputs": [],
   "source": [
    "# O(n) since the entire number is iterated\n",
    "\n",
    "def isPalindrome(x):\n",
    "        '''\n",
    "        :type x: int\n",
    "        :rtype: bool\n",
    "        '''\n",
    "        y = x\n",
    "        num = []\n",
    "        if y > 0:\n",
    "            while y !=0 :\n",
    "                num.append(str(int(y%10)))\n",
    "                y = (y-(y%10))/10\n",
    "            if int(''.join(num)) == x:\n",
    "                return True\n",
    "            else:\n",
    "                return False\n",
    "        else :\n",
    "            return False\n",
    "        \n",
    "#print(isPalindrome(124421), isPalindrome(-1), isPalindrome(9))"
   ]
  },
  {
   "cell_type": "code",
   "execution_count": 34,
   "metadata": {},
   "outputs": [],
   "source": [
    "# O(n/2) since only half of the length is traversed\n",
    "\n",
    "import math\n",
    "\n",
    "def isPalindrome2(x):\n",
    "        '''\n",
    "        :type x: int\n",
    "        :rtype: bool\n",
    "        '''\n",
    "        if x <=0 :\n",
    "            return False\n",
    "        \n",
    "        total_digits = math.floor(math.log10(x)) + 1\n",
    "        mask = math.pow(10,total_digits - 1)\n",
    "        \n",
    "        for i in range(total_digits//2):\n",
    "            rd = x//mask\n",
    "            ld = x%10\n",
    "            \n",
    "            if ld != rd:\n",
    "                return False\n",
    "            \n",
    "            x %= mask\n",
    "            x //= 10\n",
    "            mask //= 100\n",
    "        \n",
    "        return True\n",
    "        \n",
    "#print(isPalindrome2(124421), isPalindrome2(-1), isPalindrome2(9))"
   ]
  },
  {
   "cell_type": "markdown",
   "metadata": {},
   "source": [
    "#### 2. Add two integer strings"
   ]
  },
  {
   "cell_type": "code",
   "execution_count": 60,
   "metadata": {},
   "outputs": [],
   "source": [
    "# similar to paper based right to left addition, result generated in reverse order\n",
    "\n",
    "# O(k) solution, where k is longer string\n",
    "\n",
    "def addStrings(s1, s2):\n",
    "        '''\n",
    "        :type s1: str\n",
    "        :type s2: str\n",
    "        :rtype: str\n",
    "        '''\n",
    "        i = len(s1) - 1\n",
    "        j = len(s2) - 1\n",
    "        carry = 0\n",
    "        result = ''\n",
    "        while i >= 0 or j >=0:\n",
    "            sum = 0\n",
    "            sum += carry\n",
    "            if i >=0 :\n",
    "                sum += ord(s1[i]) - ord('0')\n",
    "                i -= 1\n",
    "                \n",
    "            if j >= 0 :\n",
    "                sum += ord(s2[j]) - ord('0')\n",
    "                j -= 1\n",
    "                \n",
    "            val = sum % 10\n",
    "            carry = sum // 10  # carry is going be 1st digit of sum value i.e either 0 or 1\n",
    "            result += str(val)\n",
    "        if carry != 0:\n",
    "            result += str(carry)\n",
    "        return result[::-1]\n",
    "        \n",
    "        \n",
    "#print(addStrings(\"1234567890\",\"1234567890\"))"
   ]
  },
  {
   "cell_type": "markdown",
   "metadata": {},
   "source": [
    "#### 3. Check if given num is power of 2"
   ]
  },
  {
   "cell_type": "code",
   "execution_count": 2,
   "metadata": {},
   "outputs": [
    {
     "data": {
      "text/plain": [
       "False"
      ]
     },
     "execution_count": 2,
     "metadata": {},
     "output_type": "execute_result"
    }
   ],
   "source": [
    "import math\n",
    "\n",
    "# O(1) time\n",
    "\n",
    "def powerOfTwo(input):\n",
    "        '''\n",
    "        :type input: int\n",
    "        :rtype: bool\n",
    "        '''\n",
    "        x = math.log2(input)\n",
    "        y = math.floor(x)\n",
    "        \n",
    "        if x == y :\n",
    "            return True\n",
    "        else:\n",
    "            return False\n",
    "\n",
    "\n",
    "powerOfTwo(12)"
   ]
  },
  {
   "cell_type": "markdown",
   "metadata": {},
   "source": [
    "#### 4. Shortest time difference"
   ]
  },
  {
   "cell_type": "code",
   "execution_count": 128,
   "metadata": {},
   "outputs": [],
   "source": [
    "# Convert the times into minutes and sort the array, don't forget to take one backward difference on the clock\n",
    "\n",
    "# O(nlogn)\n",
    "\n",
    "def timeDifference(times):\n",
    "        '''\n",
    "        :type times: list of str\n",
    "        :rtype: int\n",
    "        '''\n",
    "        minutes = []\n",
    "        dictt = {}\n",
    "        for i in times:\n",
    "            temp = i.split(':')\n",
    "            val = (int(temp[0])*60) + int(temp[1])\n",
    "            minutes.append(val)\n",
    "            dictt[val] = i\n",
    "            \n",
    "        minutes.sort()\n",
    "        \n",
    "        if len(minutes) == 2:\n",
    "            return (dictt[minutes[1]],dictt[minutes[0]], minutes[1] - minutes[0])\n",
    "        time1 = 0\n",
    "        time2 = 0\n",
    "        diff = 0\n",
    "        fwd = 0\n",
    "        for i in range(len(minutes)-1) : \n",
    "            if i == 0:\n",
    "                diff = minutes[i] + (1440-minutes[-1])\n",
    "                time1, time2 = minutes[i], minutes[-1]\n",
    "                \n",
    "            fwd = minutes[i+1] - minutes[i]\n",
    "            if fwd < diff:\n",
    "                diff = fwd\n",
    "                time1, time2 = minutes[i], minutes[i+1]\n",
    "            \n",
    "        return (dictt[time1],dictt[time2], diff)\n",
    "        return\n",
    "\n",
    "#print(\n",
    "#        timeDifference([\"00:03\", \"23:59\", \"12:03\"]),\n",
    "#        timeDifference([\"00:01\", \"00:02\"]),\n",
    "#        timeDifference([\"00:00\",\"23:59\",\"00:00\"])\n",
    "#     )    "
   ]
  },
  {
   "cell_type": "markdown",
   "metadata": {},
   "source": [
    "#### 5. Reverse Bits"
   ]
  },
  {
   "cell_type": "code",
   "execution_count": 3,
   "metadata": {},
   "outputs": [
    {
     "data": {
      "text/plain": [
       "4209"
      ]
     },
     "execution_count": 3,
     "metadata": {},
     "output_type": "execute_result"
    }
   ],
   "source": [
    "#\n",
    "\n",
    "def reverseBits(input):\n",
    "        '''\n",
    "        :type input: int\n",
    "        :rtype: int\n",
    "        '''\n",
    "        powers = []\n",
    "        while input > 0 :\n",
    "            power = math.floor(math.log2(input))\n",
    "            powers.append(power)\n",
    "            input -= 2**power\n",
    "        \n",
    "        binary = 0\n",
    "        for i in powers:\n",
    "            binary += 10**i\n",
    "        \n",
    "        binary = str(binary)\n",
    "        rev_num = 0\n",
    "        \n",
    "        for i in range(len(binary)):   # no need to reverse the binary since left to right indexing is already reversed\n",
    "            if binary[i] == '1':       # in regards to binary representation is right to left i.e opposite\n",
    "                rev_num += 2**i\n",
    "            \n",
    "        return rev_num\n",
    "    \n",
    "\n",
    "reverseBits(9090)   "
   ]
  },
  {
   "cell_type": "markdown",
   "metadata": {},
   "source": [
    "#### 6. Sort array having 0,1 and 2 only"
   ]
  },
  {
   "cell_type": "code",
   "execution_count": 40,
   "metadata": {},
   "outputs": [
    {
     "name": "stdout",
     "output_type": "stream",
     "text": [
      "[0, 0, 0, 0, 1, 1, 1, 2, 2]\n",
      "[0, 0, 1, 1, 1, 2, 2, 2, 2]\n"
     ]
    },
    {
     "data": {
      "text/plain": [
       "[0, 0, 0, 0]"
      ]
     },
     "execution_count": 40,
     "metadata": {},
     "output_type": "execute_result"
    }
   ],
   "source": [
    "# Approach 1 : In-place, Partitioning left and right, two passes required\n",
    "def sort(nums):\n",
    "    left = 0\n",
    "    right = len(nums)-1\n",
    "    while left <right :\n",
    "        if nums[left] <= 0:\n",
    "            left += 1\n",
    "        if nums[right] != 0:\n",
    "            right -= 1\n",
    "        temp = nums[left]\n",
    "        nums[left] = nums[right]\n",
    "        nums[right] = temp\n",
    "    \n",
    "    left = 0\n",
    "    right = len(nums)-1\n",
    "    while left < right :\n",
    "        while nums[left] != 2 :\n",
    "            left += 1\n",
    "            if left == right:    ## for cases where all nums are same\n",
    "                return nums\n",
    "        while nums[right] != 1:\n",
    "            right -= 1\n",
    "        temp = nums[left]\n",
    "        nums[left] = nums[right]\n",
    "        nums[right] = temp\n",
    "    \n",
    "    if nums[left] < nums[right]:\n",
    "        temp = nums[left]\n",
    "        nums[left] = nums[right]\n",
    "        nums[right] = temp\n",
    "    print(nums)\n",
    "    \n",
    "\n",
    "        \n",
    "    \n",
    "sort([2,2,1,1,1,0,0,0,0])\n",
    "sort([0,1,2,1,2,2,2,1,0])\n",
    "sort([0,0,0,0])"
   ]
  },
  {
   "cell_type": "code",
   "execution_count": 42,
   "metadata": {},
   "outputs": [
    {
     "name": "stdout",
     "output_type": "stream",
     "text": [
      "[0, 0, 0, 0, 1, 1, 1, 2, 2]\n",
      "[0, 0, 1, 1, 1, 2, 2, 2, 2]\n"
     ]
    },
    {
     "data": {
      "text/plain": [
       "[0, 0, 0, 0]"
      ]
     },
     "execution_count": 42,
     "metadata": {},
     "output_type": "execute_result"
    }
   ],
   "source": [
    "# Approach 2 : In-place and Counting sort\n",
    "\n",
    "def sort2(nums):\n",
    "    counts = {0:0,1:0,2:0}\n",
    "    for i in nums:\n",
    "        counts[i] += 1\n",
    "    \n",
    "    for i in range(len(nums)):\n",
    "        if i <= counts[0]:\n",
    "            nums[i] = 0\n",
    "        else:\n",
    "            if i <= counts[1]:\n",
    "                nums[i] = 1\n",
    "            else:\n",
    "                nums[i] = 2\n",
    "    return nums\n",
    "\n",
    "sort([2,2,1,1,1,0,0,0,0])\n",
    "sort([0,1,2,1,2,2,2,1,0])\n",
    "sort([0,0,0,0])\n",
    "        \n",
    "    "
   ]
  },
  {
   "cell_type": "markdown",
   "metadata": {},
   "source": [
    "#### 7. Changing base"
   ]
  },
  {
   "cell_type": "code",
   "execution_count": 52,
   "metadata": {},
   "outputs": [
    {
     "data": {
      "text/plain": [
       "27"
      ]
     },
     "execution_count": 52,
     "metadata": {},
     "output_type": "execute_result"
    }
   ],
   "source": [
    "def change(number, b1, b2):    #b1 to b2 eg. decimal to binary\n",
    "    powers = []\n",
    "    new = 0\n",
    "    \n",
    "    while number != 0:\n",
    "        p = math.floor(math.log(number,b2))\n",
    "        new += b1**p\n",
    "        number -= b2**p\n",
    "    return new\n",
    "\n",
    "change(123, 4, 10)"
   ]
  },
  {
   "cell_type": "markdown",
   "metadata": {},
   "source": [
    "# Arrays"
   ]
  },
  {
   "cell_type": "markdown",
   "metadata": {},
   "source": [
    "#### 8. Rotate (n x n) Matrix"
   ]
  },
  {
   "cell_type": "code",
   "execution_count": 3,
   "metadata": {},
   "outputs": [],
   "source": [
    "# Approach one : traversing throught the boundaries layer by layer\n",
    "'''\n",
    "The arrow symbols shows how we are traversing the four pointers (at each corner) which is similar to rotation 90 degree clockwise\n",
    "\n",
    "               \n",
    "a = [[ 1,  2,  3, 4],\n",
    "     [ 5,  6,  7, 8],\n",
    "     [ 9, 10, 11, 12],\n",
    "     [13, 14, 15, 16]]\n",
    "                   \n",
    "                   \n",
    "    We do this layer by layer\n",
    "'''\n",
    "\n",
    "# Since it is n x n matrix, we can use traverse the matrix layer by layer, not suitable for m x n matrix!!!!\n",
    "\n",
    "# O(n^2) solution\n",
    "# In-place swapping i.e O(1) space\n",
    "\n",
    "def rotate(matrix):\n",
    "        '''\n",
    "        :type matrix: list of list of int\n",
    "        :rtype: list of list of int\n",
    "        '''\n",
    "        \n",
    "        size = len(matrix[0])  #size of matrix\n",
    "        boundary = size - 1  #index of boundary row/col\n",
    "        \n",
    "        for layer in range(size//2):\n",
    "            for i in range(layer, boundary - layer):\n",
    "    \n",
    "                top_left = matrix[layer][i]\n",
    "                top_right = matrix[i][boundary - layer]\n",
    "                bottom_left = matrix[boundary - i][layer]\n",
    "                bottom_right = matrix[boundary - layer][boundary - i]\n",
    "                \n",
    "                matrix[layer][i] = bottom_left\n",
    "                matrix[i][boundary - layer] = top_left\n",
    "                matrix[boundary - i][layer] = bottom_right\n",
    "                matrix[boundary - layer][boundary - i] = top_right\n",
    "        \n",
    "        return matrix\n",
    "                "
   ]
  },
  {
   "cell_type": "code",
   "execution_count": 2,
   "metadata": {},
   "outputs": [
    {
     "name": "stdout",
     "output_type": "stream",
     "text": [
      "[13, 9, 5, 1]\n",
      "[14, 10, 6, 2]\n",
      "[15, 11, 7, 3]\n",
      "[16, 12, 8, 4]\n"
     ]
    }
   ],
   "source": [
    "# Approach 2 : First flip the matrix then take transpose\n",
    "\n",
    "def rotate2(matrix):\n",
    "    size = len(matrix)\n",
    "    matrix = matrix[::-1]\n",
    "    matrix = [[matrix[j][i] for j in range(size)] for i in range(size)]\n",
    "    for i in matrix:\n",
    "        print(i)\n",
    "\n",
    "a = [[ 1,  2,  3, 4],\n",
    "     [ 5,  6,  7, 8],\n",
    "     [ 9, 10, 11, 12],\n",
    "     [13, 14, 15, 16]]\n",
    "\n",
    "rotate2(a)"
   ]
  },
  {
   "cell_type": "markdown",
   "metadata": {},
   "source": [
    "         \n",
    "      "
   ]
  },
  {
   "cell_type": "markdown",
   "metadata": {},
   "source": [
    "#### 9. Spiral Traversal of a matrix"
   ]
  },
  {
   "cell_type": "code",
   "execution_count": 292,
   "metadata": {},
   "outputs": [],
   "source": [
    "'''\n",
    "Use four boudaries/fences, traverse along top boundary, from right to left, shift the top boundary\n",
    "Next along right boundary, from top to bottom, shift the right boundary,\n",
    "repeat from bottom and left boundaries as above\n",
    "\n",
    "''' \n",
    "\n",
    "# O(m * n)\n",
    "\n",
    "def spiralOrder(matrix):\n",
    "        '''\n",
    "        :type matrix: list of list of int\n",
    "        :rtype: list of int\n",
    "        '''\n",
    "        spiral_order = []\n",
    "        m = len(matrix)  #4\n",
    "        n = len(matrix[0]) #3\n",
    "        top = 0\n",
    "        right = n - 1\n",
    "        bottom = m - 1\n",
    "        left = 0\n",
    "        \n",
    "        while top <= bottom and left <= right:\n",
    "            for i in range(left, right + 1):\n",
    "                spiral_order.append(matrix[top][i])\n",
    "            top += 1\n",
    "        \n",
    "            for i in range(top, bottom + 1):\n",
    "                spiral_order.append(matrix[i][right])\n",
    "            right -= 1\n",
    "            \n",
    "            for i in range(right, left-1, -1):\n",
    "                spiral_order.append(matrix[bottom][i])\n",
    "            bottom -= 1\n",
    "            \n",
    "            for i in range(bottom, top-1, -1):\n",
    "                spiral_order.append(matrix[i][left])\n",
    "            left += 1\n",
    "            \n",
    "        return spiral_order\n",
    "        "
   ]
  },
  {
   "cell_type": "markdown",
   "metadata": {},
   "source": [
    "#### 10. 3-Sum"
   ]
  },
  {
   "cell_type": "code",
   "execution_count": 53,
   "metadata": {},
   "outputs": [],
   "source": [
    "# O(n^2) solution\n",
    "# all numbers are unique\n",
    "# if repeating numbers exist, then use indices in hash_sum table\n",
    "# For these types of problems use hash tables\n",
    "\n",
    "def threeSum(A,k):\n",
    "        '''\n",
    "        :type A: list of int\n",
    "        :rtype: list of list of int\n",
    "        '''\n",
    "        hash_sum = {}\n",
    "        \n",
    "        for i in range(len(A)):\n",
    "            hash_sum[k-A[i]] = i  \n",
    "            \n",
    "        triplets = []    \n",
    "        for i in range(len(A)-1):\n",
    "            for j in range(i+1, len(A)):\n",
    "                if A[i] + A[j] in hash_sum :\n",
    "                    third_num = A[hash_sum[A[i]+A[j]]]\n",
    "                    vals = set(A[i], A[j], third_num)\n",
    "                    if vals not in triplets and len(vals) == 3:\n",
    "                        triplets.append(vals)\n",
    "\n",
    "        \n",
    "        return triplets\n",
    "            "
   ]
  },
  {
   "cell_type": "markdown",
   "metadata": {},
   "source": [
    "#### 11. Sudoku validity check"
   ]
  },
  {
   "cell_type": "code",
   "execution_count": 55,
   "metadata": {},
   "outputs": [
    {
     "data": {
      "text/plain": [
       "True"
      ]
     },
     "execution_count": 55,
     "metadata": {},
     "output_type": "execute_result"
    }
   ],
   "source": [
    "a = [ [5,3,0,0,7,0,0,0,0],\n",
    "      [6,0,0,1,9,5,0,0,0],\n",
    "      [0,9,8,0,0,0,0,6,0],\n",
    "      [8,0,0,0,6,0,0,0,3],\n",
    "      [4,0,0,8,0,3,0,0,1],\n",
    "      [7,0,0,0,2,0,0,0,6],\n",
    "      [0,6,0,0,0,0,2,8,0],\n",
    "      [0,0,0,4,1,9,0,0,5],\n",
    "      [0,0,0,0,8,0,0,7,9]]\n",
    "\n",
    "\n",
    "# O(n^2)\n",
    "\n",
    "def validSudoku(board):\n",
    "        '''\n",
    "        :type board: list of list of int\n",
    "        :rtype: bool\n",
    "        '''\n",
    "        seen = set()\n",
    "        for i in range(0,9):\n",
    "            for j in range(0,9):\n",
    "                v = board[i][j]\n",
    "                \n",
    "                if v!= 0 :\n",
    "                    row = \"row{}val{}\".format(i,v)\n",
    "                    col = \"col{}val{}\".format(j,v)\n",
    "                    box = \"{}{}{}\".format(i//3,v,j//3)\n",
    "                    \n",
    "                    if row not in seen and col not in seen and box not in seen:\n",
    "                        seen.add(row)\n",
    "                        seen.add(col)\n",
    "                        seen.add(box)\n",
    "                    \n",
    "                    else:\n",
    "                        return False\n",
    "        return True\n",
    "validSudoku(a)                                          "
   ]
  },
  {
   "cell_type": "markdown",
   "metadata": {},
   "source": [
    "#### 12. Sub-arrays sum equal to k"
   ]
  },
  {
   "cell_type": "code",
   "execution_count": 181,
   "metadata": {},
   "outputs": [],
   "source": [
    "def countSubarrays(arr, k):\n",
    "        '''\n",
    "        :type arr: list of int\n",
    "        :type k: int\n",
    "        :rtype: int\n",
    "        '''\n",
    "        size = len(arr)\n",
    "        count = 0\n",
    "        for offset in range(0,size-1):\n",
    "            total = 0\n",
    "            for i in range(offset, size):\n",
    "                total += arr[i]\n",
    "                if total == k:\n",
    "                    count += 1\n",
    "                    print(arr[offset:i+1])\n",
    "        return count\n",
    "                    \n",
    "        "
   ]
  },
  {
   "cell_type": "markdown",
   "metadata": {},
   "source": [
    "# Strings"
   ]
  },
  {
   "cell_type": "markdown",
   "metadata": {},
   "source": [
    "#### 13. Pattern Matching"
   ]
  },
  {
   "cell_type": "code",
   "execution_count": 212,
   "metadata": {},
   "outputs": [],
   "source": [
    "# O(n^2)\n",
    "\n",
    "# convert each string in to a sequence of digits then compare\n",
    "\n",
    "def findAndReplacePattern(words, pattern):\n",
    "        '''\n",
    "        :type words: list of str\n",
    "        :type pattern: str\n",
    "        :rtype: list of str\n",
    "        '''\n",
    "        matched = []\n",
    "        pattern = get_num_pattern(pattern)\n",
    "        for i in words:\n",
    "            word = get_num_pattern(i)\n",
    "            if word == pattern:\n",
    "                matched.append(i)\n",
    "        \n",
    "        return matched\n",
    "\n",
    "def get_num_pattern(string):\n",
    "    temp = \"\"\n",
    "    dictt = {}\n",
    "    num = 0\n",
    "    for i in string:\n",
    "        if i not in dictt:\n",
    "            dictt[i] = str(num)\n",
    "            num += 1\n",
    "            temp += dictt[i]\n",
    "        else:\n",
    "            temp += dictt[i]\n",
    "    return temp\n",
    "        \n"
   ]
  },
  {
   "cell_type": "markdown",
   "metadata": {},
   "source": [
    "#### 14. Add two binary strings"
   ]
  },
  {
   "cell_type": "code",
   "execution_count": 218,
   "metadata": {},
   "outputs": [],
   "source": [
    "# O(n)\n",
    "\n",
    "\n",
    "import math\n",
    "def addBinaryStrings(s1, s2):\n",
    "        '''\n",
    "        :type s1: str\n",
    "        :type s2: str\n",
    "        :rtype: str\n",
    "        '''\n",
    "        return to_binary(to_decimal(s1) + to_decimal(s2))\n",
    "\n",
    "def to_decimal(string):\n",
    "    rev = string[::-1] \n",
    "    num = 0\n",
    "    for i in range(len(rev)):\n",
    "        if rev[i] == '1':\n",
    "            num += 2**i\n",
    "    return num\n",
    "\n",
    "def to_binary(num):\n",
    "    powers = []\n",
    "    \n",
    "    while num > 0:\n",
    "        power = math.floor(math.log2(num))\n",
    "        powers.append(power)\n",
    "        num -= 2**power\n",
    "        \n",
    "    binary = 0\n",
    "    for i in powers:\n",
    "        binary += 10**i\n",
    "    return str(binary)\n",
    "        "
   ]
  },
  {
   "cell_type": "markdown",
   "metadata": {},
   "source": [
    "#### 15. Palindrome string"
   ]
  },
  {
   "cell_type": "code",
   "execution_count": 293,
   "metadata": {},
   "outputs": [],
   "source": [
    "# O(n/2)\n",
    "\n",
    "def validPalindrome(s):\n",
    "        '''\n",
    "        :type s: str\n",
    "        :rtype: bool\n",
    "        '''\n",
    "        \n",
    "        s = s.lower()\n",
    "        print(s)\n",
    "        \n",
    "        l = 0\n",
    "        r = len(s)-1\n",
    "\n",
    "        while l < r:\n",
    "            while not s[l].isalnum():   # use WHILE NOT to keep skipping useless characters\n",
    "                l += 1\n",
    "            \n",
    "            while not s[r].isalnum():   # use WHILE NOT to keep skipping useless characters\n",
    "                r -= 1   \n",
    "            \n",
    "            if s[l] != s[r]:\n",
    "                return False\n",
    "            else:\n",
    "                l += 1\n",
    "                r -= 1\n",
    "        \n",
    "        return True\n"
   ]
  },
  {
   "cell_type": "markdown",
   "metadata": {},
   "source": [
    "#### 16. Zig Zag conversion of string"
   ]
  },
  {
   "cell_type": "code",
   "execution_count": 2,
   "metadata": {},
   "outputs": [],
   "source": [
    "# O(n)\n",
    "\n",
    "# Increasing then decreasing row numbers along the string gives the zig zag output\n",
    "\n",
    "\n",
    "def zigzag(s, rows):\n",
    "        '''\n",
    "        :type s: str\n",
    "        :type rows: int\n",
    "        :rtype: str\n",
    "        '''\n",
    "        if rows == 1:\n",
    "            return s\n",
    "        \n",
    "        arr = [\"\"]*rows     #list of n strings\n",
    "        direction = -1\n",
    "        i = 0\n",
    "\n",
    "        for char in s:\n",
    "            arr[i] += char\n",
    "            \n",
    "            if i == 0 or i == rows - 1:     #flipping of direction happens only in the start or end row\n",
    "                direction = -(direction)     # for first iteration rows increased, to adjust this initialize direction appropriately\n",
    "            \n",
    "            if direction == 1:\n",
    "                i += 1\n",
    "            else:\n",
    "                i-= 1\n",
    "                 \n",
    "        print(arr)\n",
    "        return ''.join(arr)                 "
   ]
  },
  {
   "cell_type": "markdown",
   "metadata": {},
   "source": [
    "#### 17. Longest Palindrome Construction\n"
   ]
  },
  {
   "cell_type": "code",
   "execution_count": 338,
   "metadata": {},
   "outputs": [
    {
     "data": {
      "text/plain": [
       "1"
      ]
     },
     "execution_count": 338,
     "metadata": {},
     "output_type": "execute_result"
    }
   ],
   "source": [
    "# O(n) solution\n",
    "\n",
    "\n",
    "def longestPalindrome(s):\n",
    "        '''\n",
    "        :type s: str\n",
    "        :rtype: int\n",
    "        '''\n",
    "        count = {}\n",
    "        length = 0\n",
    "        flag = 0\n",
    "        \n",
    "        for i in s:\n",
    "            count[i] = count.get(i, 0) + 1\n",
    "                        \n",
    "        for each in count:\n",
    "            if count[each] % 2 == 0:\n",
    "                length += count[each]\n",
    "            else:\n",
    "                if count[each] > 1:\n",
    "                    if len(count) == 1:\n",
    "                        return count[each]\n",
    "                    length += (count[each] - 1)\n",
    "                    \n",
    "                else:\n",
    "                    if flag == 0 : \n",
    "                        length += 1\n",
    "                        flag = 1\n",
    "        return length\n",
    "    \n",
    "#longestPalindrome(\"aabbc\")        \n",
    "#longestPalindrome(\"abbcccd\")\n",
    "longestPalindrome(\"cC\")"
   ]
  },
  {
   "cell_type": "markdown",
   "metadata": {},
   "source": [
    "#### 18. Replace words with Prefix"
   ]
  },
  {
   "cell_type": "code",
   "execution_count": 3,
   "metadata": {},
   "outputs": [],
   "source": [
    "# O(n^2)\n",
    "\n",
    "def replaceWordsWithPrefix(prefixes, sentence):\n",
    "        '''\n",
    "        :type prefixes: list of str\n",
    "        :type sentence: str\n",
    "        :rtype: str\n",
    "        '''\n",
    "        mapping = {}\n",
    "        for i in prefixes:\n",
    "            mapping[i] = True\n",
    "            \n",
    "        line = sentence.split()\n",
    "        \n",
    "        for index in range(len(line)):\n",
    "            word = line[index]\n",
    "            for i in range(len(word)):\n",
    "                if word[0:i] in mapping:\n",
    "                    line[index] = word[0:i]\n",
    "                    break\n",
    "        return ' '.join(line)\n"
   ]
  },
  {
   "cell_type": "code",
   "execution_count": 4,
   "metadata": {},
   "outputs": [],
   "source": [
    "# O(n)\n",
    "\n",
    "def solve(prefix, sentence):\n",
    "    mapping = {}\n",
    "    for each in prefix:\n",
    "        mapping[each] = True\n",
    "    \n",
    "    result = ''\n",
    "    temp = ''\n",
    "    i = 0\n",
    "    while i < len(sentence):\n",
    "        temp += sentence[i]\n",
    "        if temp in mapping:\n",
    "            result += temp\n",
    "            result += ' '\n",
    "            temp = ''\n",
    "            while sentence[i] != ' ':\n",
    "                i+= 1\n",
    "        if sentence[i] == ' ':\n",
    "                result += temp\n",
    "                temp = ''    \n",
    "        i+=1\n",
    "    result += temp\n",
    "        \n",
    "    return result"
   ]
  },
  {
   "cell_type": "markdown",
   "metadata": {},
   "source": [
    "#### 19. Word subsets"
   ]
  },
  {
   "cell_type": "code",
   "execution_count": 410,
   "metadata": {},
   "outputs": [
    {
     "name": "stdout",
     "output_type": "stream",
     "text": [
      "{'w': 1, 'o': 1, 'r': 2, 'a': 1}\n",
      "warrior\n"
     ]
    }
   ],
   "source": [
    "def wordSubsets(A, B):\n",
    "        '''\n",
    "        :type A: list of str\n",
    "        :type B: list of str\n",
    "        :rtype: list of str\n",
    "        '''\n",
    "        map_b = {}\n",
    "        for i in B:\n",
    "            temp = mapping(i)\n",
    "            for each in temp:\n",
    "                if map_b.get(each,0) < temp[each]:\n",
    "                    map_b[each] = temp[each]\n",
    "                    \n",
    "        print(map_b)   \n",
    "        for word in A:\n",
    "            temp_map = mapping(word)\n",
    "            add = 1\n",
    "            for char in map_b:\n",
    "                if temp_map.get(char,0) < map_b[char]:\n",
    "                    add = 0\n",
    "                    break\n",
    "            if add == 1:\n",
    "                print(word)\n",
    "                \n",
    "        \n",
    "def mapping(string):\n",
    "    mapp = {}\n",
    "    for i in string:\n",
    "        mapp[i] = mapp.get(i,0) + 1\n",
    "    return mapp\n",
    "        \n",
    "        \n",
    "#wordSubsets([\"orange\", \"room\", \"more\"], [\"rm\", \"oo\"])\n",
    "wordSubsets(['world','warrior', 'war'],['wo','r','a','wrr'])"
   ]
  },
  {
   "cell_type": "markdown",
   "metadata": {},
   "source": [
    "#### 20. Group together Anagrams"
   ]
  },
  {
   "cell_type": "code",
   "execution_count": 14,
   "metadata": {},
   "outputs": [],
   "source": [
    "# Approach One:\n",
    "# O(n * mlogm)\n",
    "# \n",
    "# Set method works iff each string has same no. of repeating characters\n",
    "# as seen in below example\n",
    "def groupAnagrams(words):\n",
    "        '''\n",
    "        :type words: list of str\n",
    "        :rtype: list of list of str\n",
    "        '''\n",
    "        anagrams = {}\n",
    "    \n",
    "        for each in words:\n",
    "            if anagrams.get(tuple(set(each)),0) == 0:\n",
    "                anagrams[tuple(set(each))] = [each]\n",
    "            else:\n",
    "                anagrams[tuple(set(each))].append(each)\n",
    "        return anagrams\n"
   ]
  },
  {
   "cell_type": "code",
   "execution_count": 15,
   "metadata": {},
   "outputs": [
    {
     "data": {
      "text/plain": [
       "{'20001000000000000000000000': ['aae', 'aea'],\n",
       " '20002000000000000000000000': ['aeae', 'aaee'],\n",
       " '10001000000000000001000000': ['eat', 'ate', 'tea', 'eat'],\n",
       " '11000000000000000001000000': ['bat', 'tab']}"
      ]
     },
     "execution_count": 15,
     "metadata": {},
     "output_type": "execute_result"
    }
   ],
   "source": [
    "# Approach Two: \n",
    "# O(mn)\n",
    "# Counting and indexing array w.r.t to alphabets\n",
    "\n",
    "def solve(words):\n",
    "    mapping = {}\n",
    "    \n",
    "    for each in words:\n",
    "        code = encode(each)\n",
    "        if mapping.get(code,0) == 0:\n",
    "            mapping[code] = [each]\n",
    "        else:\n",
    "            mapping[code].append(each)\n",
    "            \n",
    "    return mapping\n",
    "\n",
    "def encode(word):\n",
    "    letters = [0]*26\n",
    "\n",
    "    for char in word:\n",
    "        index = abs(97-ord(char))\n",
    "        letters[index] += 1\n",
    "    \n",
    "    encoding = ''.join(str(i) for i in letters)\n",
    "    \n",
    "    return encoding\n",
    "\n",
    "solve([\"aae\",\"aea\",\"aeae\",\"aaee\", \"eat\", \"bat\", \"ate\", \"tab\", \"tea\", \"eat\"])"
   ]
  },
  {
   "cell_type": "markdown",
   "metadata": {},
   "source": [
    "#### 21. Longest substring without repeating characters"
   ]
  },
  {
   "cell_type": "code",
   "execution_count": 21,
   "metadata": {},
   "outputs": [
    {
     "data": {
      "text/plain": [
       "5"
      ]
     },
     "execution_count": 21,
     "metadata": {},
     "output_type": "execute_result"
    }
   ],
   "source": [
    "# O(n*m) for generating all substrings\n",
    "\n",
    "def longestUniqueCharacterSubstring(s):\n",
    "        '''\n",
    "        :type s: str\n",
    "        :rtype: int\n",
    "        '''\n",
    "        offset = 0\n",
    "        result = 0\n",
    "        while offset < len(s):\n",
    "            i = offset\n",
    "            mapping = set()\n",
    "            while i < len(s):\n",
    "                if s[i] not in mapping:\n",
    "                    mapping.add(s[i])\n",
    "                else:\n",
    "                    break\n",
    "                i += 1\n",
    "            result = max(result, len(mapping))\n",
    "            offset += 1\n",
    "        return result\n",
    "        \n",
    "longestUniqueCharacterSubstring('abcdedcbaef')\n",
    "longestUniqueCharacterSubstring('ABCABADEC')"
   ]
  },
  {
   "cell_type": "code",
   "execution_count": 29,
   "metadata": {},
   "outputs": [
    {
     "data": {
      "text/plain": [
       "6"
      ]
     },
     "execution_count": 29,
     "metadata": {},
     "output_type": "execute_result"
    }
   ],
   "source": [
    "# O(n) for sliding window approach\n",
    "\n",
    "def sliding_window(s):\n",
    "    l,r = 0,0\n",
    "    result = 0\n",
    "    mapping = {}   # WINDOW (with char indexes)\n",
    "    \n",
    "    while r < len(s):\n",
    "        if s[r] not in mapping:\n",
    "            mapping[s[r]] = r\n",
    "        else:\n",
    "            l = mapping[s[r]] + 1\n",
    "            mapping[s[r]] = r\n",
    "        \n",
    "        result = max(result, len(mapping))\n",
    "        r += 1\n",
    "            \n",
    "    return result\n",
    "\n",
    "sliding_window('abcdedcbaef')\n",
    "            "
   ]
  },
  {
   "cell_type": "markdown",
   "metadata": {},
   "source": [
    "#### 22. Print all unique repeating substrings"
   ]
  },
  {
   "cell_type": "code",
   "execution_count": 74,
   "metadata": {},
   "outputs": [
    {
     "data": {
      "text/plain": [
       "{'aa', 'aaa', 'b', 'bbb', 'cc', 'dd', 'e'}"
      ]
     },
     "execution_count": 74,
     "metadata": {},
     "output_type": "execute_result"
    }
   ],
   "source": [
    "def get_substrings(string):\n",
    "    temp = string[0]\n",
    "    s = set()\n",
    "    i = 1\n",
    "    \n",
    "    while i < len(string):\n",
    "        if string[i] != temp[-1]:\n",
    "            s.add(temp) \n",
    "            temp = ''\n",
    "        temp += string[i]\n",
    "        i += 1\n",
    "        \n",
    "    s.add(temp)   # the last substring won't be added because addition takes place \n",
    "                  # only on encountering a different character\n",
    "    return s\n",
    "\n",
    "get_substrings('aabaaabbbaaccddcce')"
   ]
  },
  {
   "cell_type": "markdown",
   "metadata": {},
   "source": [
    "# Stacks and Queues"
   ]
  },
  {
   "cell_type": "markdown",
   "metadata": {},
   "source": [
    "#### 23. Balanced Parantheses"
   ]
  },
  {
   "cell_type": "code",
   "execution_count": 31,
   "metadata": {},
   "outputs": [
    {
     "data": {
      "text/plain": [
       "False"
      ]
     },
     "execution_count": 31,
     "metadata": {},
     "output_type": "execute_result"
    }
   ],
   "source": [
    "# O(n)\n",
    "\n",
    "def isValid(s):\n",
    "        '''\n",
    "        :type s: str\n",
    "        :rtype: bool\n",
    "        '''\n",
    "        stack = []\n",
    "        for i in s:\n",
    "            if i == '(' or i == '[' or i == '{':\n",
    "                stack.append(i)\n",
    "            else:\n",
    "                if stack == [] or (i == ')' and stack[-1]!='(') or (i == ']' and stack[-1]!='[') or (i == '}' and stack[-1]!='{') :\n",
    "                    return False\n",
    "                else:\n",
    "                    stack.pop()\n",
    "        \n",
    "        if stack != []:\n",
    "            return False\n",
    "        else:\n",
    "            return True\n",
    "     \n",
    "    \n",
    "isValid('([{}])}')"
   ]
  },
  {
   "cell_type": "markdown",
   "metadata": {},
   "source": [
    "#### 24. Compute Buildings With A Sunset View"
   ]
  },
  {
   "cell_type": "code",
   "execution_count": 464,
   "metadata": {},
   "outputs": [],
   "source": [
    "def getBuildingsWithAView(buildings):\n",
    "        '''\n",
    "        :type buildings: list of int\n",
    "        :rtype: list of int\n",
    "        '''\n",
    "        \n",
    "        result = [0]\n",
    "        tall = buildings[0]\n",
    "        for i in range(1,len(buildings)):\n",
    "            if buildings[i] > tall:\n",
    "                result.append(i)\n",
    "                tall = buildings[i]\n",
    "        return result\n",
    "        "
   ]
  },
  {
   "cell_type": "markdown",
   "metadata": {},
   "source": [
    "#### 25. Undo Redo Actions"
   ]
  },
  {
   "cell_type": "code",
   "execution_count": 488,
   "metadata": {},
   "outputs": [
    {
     "data": {
      "text/plain": [
       "'ab'"
      ]
     },
     "execution_count": 488,
     "metadata": {},
     "output_type": "execute_result"
    }
   ],
   "source": [
    "def performEditorActions(actions):\n",
    "        '''\n",
    "        :type actions: list of list of str\n",
    "        :rtype: str\n",
    "        '''\n",
    "        mapp = {'INSERT':1, 'DELETE':2, 'UNDO':3, 'REDO':4}\n",
    "        acts = []\n",
    "        undo = []\n",
    "        for i in actions:\n",
    "            val = mapp[i[0]]\n",
    "            if val == 1 or val == 2:\n",
    "                acts.append(i)\n",
    "            if val == 3:\n",
    "                temp = acts.pop()\n",
    "                undo.append(temp)\n",
    "            if val == 4 and undo != []:\n",
    "                acts.append(undo.pop())\n",
    "        \n",
    "        string = []\n",
    "        for i in acts:\n",
    "            val = mapp[i[0]]\n",
    "            if val == 1:\n",
    "                string.append(i[1])\n",
    "            else:\n",
    "                string.pop()\n",
    "        return ''.join(string)\n",
    "           \n",
    "\n",
    "            \n",
    "performEditorActions([[\"INSERT\",\"a\"],[\"INSERT\",\"b\"],['UNDO'],['REDO'],['REDO']])\n"
   ]
  },
  {
   "cell_type": "markdown",
   "metadata": {},
   "source": [
    "#### 26. Implement Queue using stacks"
   ]
  },
  {
   "cell_type": "code",
   "execution_count": 45,
   "metadata": {},
   "outputs": [
    {
     "name": "stdout",
     "output_type": "stream",
     "text": [
      "['a']\n",
      "['a', 'b']\n",
      "['a', 'b', 'c']\n",
      "['a', 'b', 'c', 'd']\n",
      "['b', 'c', 'd']\n",
      "['c', 'd']\n"
     ]
    }
   ],
   "source": [
    "class Q():\n",
    "    def __init__(self):\n",
    "        self.size = 0\n",
    "        self.stack1 = []\n",
    "        self.stack2 = []\n",
    "    \n",
    "    def isEmpty(self):\n",
    "        if self.stack1 == []:\n",
    "            return True\n",
    "        \n",
    "    def push(self, value):\n",
    "        self.stack1.append(value)\n",
    "        self.size += 1\n",
    "        print(self.stack1)\n",
    "        \n",
    "    def pop(self):\n",
    "        if self.isEmpty():\n",
    "            return 'Queue is empty!'\n",
    "        while self.stack1 != []:\n",
    "            self.stack2.append(self.stack1.pop(-1))\n",
    "        value = self.stack2.pop(-1)\n",
    "        self.size -= 1\n",
    "        while self.stack2 != []:\n",
    "            self.stack1.append(self.stack2.pop(-1))\n",
    "        print(self.stack1)\n",
    "    \n",
    "q = Q()\n",
    "q.push('a')\n",
    "q.push('b')\n",
    "q.push('c')\n",
    "q.push('d')\n",
    "q.pop()\n",
    "q.pop()"
   ]
  },
  {
   "cell_type": "markdown",
   "metadata": {},
   "source": [
    "#### 27. Minimal removal of parantheses for Valid string"
   ]
  },
  {
   "cell_type": "code",
   "execution_count": 47,
   "metadata": {},
   "outputs": [
    {
     "data": {
      "text/plain": [
       "'ab(c)d'"
      ]
     },
     "execution_count": 47,
     "metadata": {},
     "output_type": "execute_result"
    }
   ],
   "source": [
    "def removal(s):\n",
    "    stack = []\n",
    "\n",
    "    string = list(s)  # since strings are immutable\n",
    "    \n",
    "    for i,char in enumerate(string):\n",
    "        if char == '(':\n",
    "            stack.append(i)\n",
    "        if char == ')':\n",
    "            if stack:\n",
    "                stack.pop()\n",
    "            else:\n",
    "                string[i] = ''   # GOOD PYTHONIC TRICK of deleting chars using indexes\n",
    "    \n",
    "    while stack:\n",
    "        string[stack.pop()] = ''\n",
    "        \n",
    "    return ''.join(string)\n",
    "\n",
    "removal('a)b(c)d')"
   ]
  },
  {
   "cell_type": "markdown",
   "metadata": {},
   "source": [
    "# Linked Lists"
   ]
  },
  {
   "cell_type": "markdown",
   "metadata": {},
   "source": [
    "##### Designing a linked list"
   ]
  },
  {
   "cell_type": "code",
   "execution_count": 48,
   "metadata": {},
   "outputs": [],
   "source": [
    "class Node():\n",
    "    def __init__(self, val):\n",
    "        self.val = val      #type Data\n",
    "        self.next = None    #type Node"
   ]
  },
  {
   "cell_type": "code",
   "execution_count": 49,
   "metadata": {},
   "outputs": [],
   "source": [
    "class ll():\n",
    "    def __init__(self):\n",
    "        self.head = None    #type Node\n",
    "        self.size = 0\n",
    "        \n",
    "    def add_at_head(self,val):\n",
    "        new_node = Node(val)\n",
    "        new_node.next = self.head\n",
    "        self.head = new_node\n",
    "        self.size += 1\n",
    "        \n",
    "    def add_at_index(self,index,val):\n",
    "        if index == 0 or self.size == 0:\n",
    "            self.add_at_head(val) #size increment included in any ADD function, thus increment not needed\n",
    "        else:\n",
    "            new_node = Node(val)\n",
    "            temp = self.head\n",
    "            for i in range(index-1):\n",
    "                temp = temp.next\n",
    "            new_node.next = temp.next\n",
    "            temp.next = new_node\n",
    "            self.size += 1\n",
    "            \n",
    "    def delete_at_index(self,index):\n",
    "        prev = None\n",
    "        curr = self.head\n",
    "        if index >=2 :\n",
    "            for i in range(index-1):\n",
    "                prev = curr\n",
    "                curr = curr.next\n",
    "            prev.next = curr.next #we are deleting the CURR node, which is present at the given index\n",
    "        else:\n",
    "            self.head = curr.next\n",
    "        self.size -= 1\n",
    "        \n",
    "    def get_val(self,index):\n",
    "        temp = self.head\n",
    "        for i in range(index-1):\n",
    "            temp = temp.next\n",
    "        return(temp.val)    \n",
    "        \n",
    "    def view(self):\n",
    "        if self.size == 0 :\n",
    "            print('List empty')\n",
    "        else:\n",
    "            temp = self.head\n",
    "            while temp != None:\n",
    "                print(temp.val,'-->',end='')\n",
    "                temp = temp.next\n",
    "            print(temp, '   size:',self.size)\n",
    "    \n",
    "                "
   ]
  },
  {
   "cell_type": "code",
   "execution_count": 50,
   "metadata": {},
   "outputs": [
    {
     "name": "stdout",
     "output_type": "stream",
     "text": [
      "5 -->4 -->2 -->None    size: 3\n",
      "5 -->4 -->1 -->2 -->None    size: 4\n",
      "5 -->4 -->1 -->2 -->0 -->None    size: 5\n",
      "-3 -->5 -->4 -->1 -->2 -->0 -->None    size: 6\n",
      "-3 -->5 -->4 -->1 -->2 -->None    size: 5\n"
     ]
    },
    {
     "data": {
      "text/plain": [
       "-3"
      ]
     },
     "execution_count": 50,
     "metadata": {},
     "output_type": "execute_result"
    }
   ],
   "source": [
    "a = ll()\n",
    "a.add_at_head(2)\n",
    "a.add_at_head(4)\n",
    "a.add_at_head(5)\n",
    "a.view()\n",
    "\n",
    "a.add_at_index(2,1)\n",
    "a.view()\n",
    "\n",
    "a.add_at_index(a.size, 0)\n",
    "a.view()\n",
    "\n",
    "a.add_at_index(0, -3)\n",
    "a.view()\n",
    "\n",
    "a.delete_at_index(a.size)\n",
    "a.view()\n",
    "\n",
    "a.head.val"
   ]
  },
  {
   "cell_type": "markdown",
   "metadata": {},
   "source": [
    "#### 28. Even Odd Partition"
   ]
  },
  {
   "cell_type": "code",
   "execution_count": 51,
   "metadata": {},
   "outputs": [
    {
     "name": "stdout",
     "output_type": "stream",
     "text": [
      "-3 -->4 -->2 -->5 -->1 -->None    size: 5\n"
     ]
    }
   ],
   "source": [
    "class solution:\n",
    "            \n",
    "    def oddEvenList(self,head):\n",
    "        even_dummy = Node(-1)\n",
    "        even_ptr = even_dummy\n",
    "        odd_dummy = Node(-1)\n",
    "        odd_ptr = odd_dummy\n",
    "        curr = head\n",
    "        index = 0\n",
    "        while curr != None:\n",
    "            if index%2 == 0:\n",
    "                even_ptr.next = curr\n",
    "                even_ptr = even_ptr.next\n",
    "            else:\n",
    "                odd_ptr.next = curr\n",
    "                odd_ptr = odd_ptr.next\n",
    "            index += 1\n",
    "            curr = curr.next\n",
    "        even_ptr.next = odd_dummy.next\n",
    "        odd_ptr.next = None\n",
    "        return even_dummy.next\n",
    "        \n",
    "\n",
    "        \n",
    "b = solution()\n",
    "b.oddEvenList(a.head)\n",
    "a.view()"
   ]
  },
  {
   "cell_type": "markdown",
   "metadata": {},
   "source": [
    "#### 29. Overlapping Linked List / Intersection"
   ]
  },
  {
   "cell_type": "code",
   "execution_count": 52,
   "metadata": {},
   "outputs": [
    {
     "name": "stdout",
     "output_type": "stream",
     "text": [
      "1 -->2 -->3 -->4 -->6 -->8 -->None    size: 6\n"
     ]
    }
   ],
   "source": [
    "c = ll()\n",
    "c.add_at_head(8)\n",
    "c.add_at_head(6)\n",
    "c.add_at_head(4)\n",
    "c.add_at_head(3)\n",
    "c.add_at_head(2)\n",
    "c.add_at_head(1)\n",
    "c.view()"
   ]
  },
  {
   "cell_type": "code",
   "execution_count": 53,
   "metadata": {},
   "outputs": [
    {
     "name": "stdout",
     "output_type": "stream",
     "text": [
      "12 -->13 -->6 -->8 -->None    size: 2\n",
      "1 -->2 -->3 -->4 -->6 -->8 -->None    size: 6\n"
     ]
    }
   ],
   "source": [
    "d = ll()\n",
    "d.add_at_head(13)\n",
    "d.add_at_head(12)\n",
    "d.head.next.next = c.head.next.next.next.next\n",
    "d.view()\n",
    "c.view()"
   ]
  },
  {
   "cell_type": "code",
   "execution_count": 54,
   "metadata": {},
   "outputs": [
    {
     "data": {
      "text/plain": [
       "6"
      ]
     },
     "execution_count": 54,
     "metadata": {},
     "output_type": "execute_result"
    }
   ],
   "source": [
    "# Method 1 : using a set of unique memory addresses\n",
    "\n",
    "def intersect1(list1,list2):\n",
    "    ptr1 = list1.head\n",
    "    ptr2 = list2.head\n",
    "    nodes1 = set()\n",
    "    while ptr1 != None:\n",
    "        nodes1.add(ptr1)\n",
    "        ptr1 = ptr1.next\n",
    "    \n",
    "    while ptr2 != None:\n",
    "        if ptr2 in nodes1:\n",
    "            return ptr2.val\n",
    "        ptr2 = ptr2.next\n",
    "        \n",
    "intersect1(d,c)"
   ]
  },
  {
   "cell_type": "code",
   "execution_count": 55,
   "metadata": {},
   "outputs": [
    {
     "data": {
      "text/plain": [
       "6"
      ]
     },
     "execution_count": 55,
     "metadata": {},
     "output_type": "execute_result"
    }
   ],
   "source": [
    "# Method 2 : Using two pointers and given length of both lists\n",
    "\n",
    "def intersect2(list1,list2,m,n):\n",
    "    ptr1 = list1.head\n",
    "    ptr2 = list2.head\n",
    "    if m > n:\n",
    "        for i in range(m-n):\n",
    "            ptr1 = ptr1.next\n",
    "    else:\n",
    "        for i in range(n-m):\n",
    "            ptr2 = ptr2.next\n",
    "    \n",
    "    while ptr1!= None : \n",
    "        if ptr1 == ptr2 :\n",
    "            return ptr1.val\n",
    "        ptr1 = ptr1.next\n",
    "        ptr2 = ptr2.next\n",
    "    return None\n",
    "    \n",
    "intersect2(d,c,4,6)"
   ]
  },
  {
   "cell_type": "markdown",
   "metadata": {},
   "source": [
    "#### 30. Remove kth to last element"
   ]
  },
  {
   "cell_type": "code",
   "execution_count": 56,
   "metadata": {},
   "outputs": [
    {
     "name": "stdout",
     "output_type": "stream",
     "text": [
      "1 -->2 -->3 -->None    size: 3\n"
     ]
    },
    {
     "data": {
      "text/plain": [
       "<__main__.Node at 0x10fb4da60>"
      ]
     },
     "execution_count": 56,
     "metadata": {},
     "output_type": "execute_result"
    }
   ],
   "source": [
    "c = ll()\n",
    "c.add_at_head(3)\n",
    "c.add_at_head(2)\n",
    "c.add_at_head(1)\n",
    "c.view()\n",
    "\n",
    "class Solution:\n",
    "    def removeKthToLast(self, head, k):\n",
    "        '''\n",
    "        :type head: ListNode\n",
    "        :type k: int\n",
    "        :rtype: ListNode\n",
    "        '''\n",
    "        forw = head\n",
    "        curr = head    #node to be deleted\n",
    "        temp = None\n",
    "        \n",
    "        for i in range(k-1):\n",
    "            forw = forw.next\n",
    "        \n",
    "        if forw.next == None:\n",
    "            head = curr.next\n",
    "            return head\n",
    "            \n",
    "        while forw.next!= None:\n",
    "            temp = curr\n",
    "            curr = curr.next\n",
    "            forw = forw.next\n",
    "        temp.next = curr.next\n",
    "           \n",
    "        \n",
    "        return curr.val\n",
    "        \n",
    "sol = Solution()\n",
    "sol.removeKthToLast(c.head, 3)\n",
    "#c.view()"
   ]
  },
  {
   "cell_type": "markdown",
   "metadata": {},
   "source": [
    "#### 31. Right shift a singly linked list by k steps"
   ]
  },
  {
   "cell_type": "code",
   "execution_count": 57,
   "metadata": {},
   "outputs": [
    {
     "name": "stdout",
     "output_type": "stream",
     "text": [
      "1 -->2 -->3 -->4 -->None    size: 4\n"
     ]
    },
    {
     "data": {
      "text/plain": [
       "3"
      ]
     },
     "execution_count": 57,
     "metadata": {},
     "output_type": "execute_result"
    }
   ],
   "source": [
    "c = ll()\n",
    "c.add_at_head(4)\n",
    "c.add_at_head(3)\n",
    "c.add_at_head(2)\n",
    "c.add_at_head(1)\n",
    "c.view()\n",
    "\n",
    "\n",
    "class Solution:\n",
    "    def rotateRight(self, head, k):\n",
    "        '''\n",
    "        :type head: ListNode\n",
    "        :type k: int\n",
    "        :rtype: ListNode\n",
    "        '''\n",
    "        temp = head\n",
    "        curr = head\n",
    "        forw = head\n",
    "        new_head = None\n",
    "        for i in range(k):\n",
    "            forw = forw.next\n",
    "            \n",
    "        if forw == None:    # NOT forw.next since k-1 not used above\n",
    "            return head\n",
    "        \n",
    "        while forw.next != None:\n",
    "            forw = forw.next\n",
    "            curr = curr.next\n",
    "            \n",
    "        new_head = curr.next\n",
    "        head = new_head\n",
    "        forw.next = temp\n",
    "        curr.next = None\n",
    "        return head.val\n",
    "            \n",
    "        \n",
    "sol = Solution()\n",
    "sol.rotateRight(c.head, 2)"
   ]
  },
  {
   "cell_type": "markdown",
   "metadata": {},
   "source": [
    "#### 32. Add 2 integers represented as Linked List"
   ]
  },
  {
   "cell_type": "code",
   "execution_count": 65,
   "metadata": {},
   "outputs": [
    {
     "name": "stdout",
     "output_type": "stream",
     "text": [
      "1 -->2 -->9 -->4 -->None    size: 4\n",
      "1 -->2 -->3 -->None    size: 3\n",
      "2 4 2 5 "
     ]
    }
   ],
   "source": [
    "c = ll()\n",
    "c.add_at_head(4)\n",
    "c.add_at_head(9)\n",
    "c.add_at_head(2)\n",
    "c.add_at_head(1)\n",
    "c.view()\n",
    "\n",
    "d = ll()\n",
    "d.add_at_head(3)\n",
    "d.add_at_head(2)\n",
    "d.add_at_head(1)\n",
    "d.view()\n",
    "\n",
    "class Solution:\n",
    "    def addTwoNumbers(self, l1, l2):\n",
    "        '''\n",
    "        :type l1: ListNode\n",
    "        :type l2: ListNode\n",
    "        :rtype: ListNode\n",
    "        '''\n",
    "        ptr1 = l1.head\n",
    "        ptr2 = l2.head\n",
    "        dummy = Node(-1)\n",
    "        ptr3 = dummy\n",
    "        carry = 0\n",
    "    \n",
    "        while ptr1 or ptr2:\n",
    "            first = ptr1.val if ptr1 else 0\n",
    "            second = ptr2.val if ptr2 else 0\n",
    "            total = first + second + carry\n",
    "            ptr3.next = Node(total%10)\n",
    "            carry = total//10\n",
    "            if ptr1:                 # check bcz if both strings are of different length\n",
    "                ptr1 = ptr1.next     # the shorter one may have already reached NONE\n",
    "            if ptr2:\n",
    "                ptr2 = ptr2.next\n",
    "            ptr3 = ptr3.next\n",
    "        \n",
    "    \n",
    "        temp = dummy.next\n",
    "        while temp:\n",
    "            print(temp.val, end = ' ')\n",
    "            temp = temp.next\n",
    "        \n",
    "        \n",
    "sol = Solution()\n",
    "sol.addTwoNumbers(c,d)"
   ]
  },
  {
   "cell_type": "markdown",
   "metadata": {},
   "source": [
    "#### 33. Testing for Cycles"
   ]
  },
  {
   "cell_type": "code",
   "execution_count": 144,
   "metadata": {},
   "outputs": [],
   "source": [
    "class Solution:\n",
    "    def hasCycle(self, head):\n",
    "        '''\n",
    "        :type head: ListNode\n",
    "        :rtype: bool\n",
    "        '''\n",
    "        addresses = set()\n",
    "        ptr = head\n",
    "\n",
    "        while ptr != None:\n",
    "            if ptr not in addresses:\n",
    "                addresses.add(ptr)\n",
    "            else:\n",
    "                return True\n",
    "            ptr = ptr.next\n",
    "\n",
    "        if ptr == None:\n",
    "            return False"
   ]
  },
  {
   "cell_type": "markdown",
   "metadata": {},
   "source": [
    "#### 34. Swap linked list nodes in pairs"
   ]
  },
  {
   "cell_type": "code",
   "execution_count": 156,
   "metadata": {},
   "outputs": [
    {
     "name": "stdout",
     "output_type": "stream",
     "text": [
      "1 -->2 -->3 -->4 -->5 -->6 -->7 -->None    size: 7\n",
      "2 -->1 -->4 -->3 -->6 -->5 -->7 -->None    size: 7\n"
     ]
    }
   ],
   "source": [
    "# Exchanging only values\n",
    "class Solution:\n",
    "    def swapInPairs(self, head):\n",
    "        '''\n",
    "        :type head: ListNode\n",
    "        :rtype: ListNode\n",
    "        '''\n",
    "        curr = head\n",
    "\n",
    "        while curr!=None and curr.next!=None:\n",
    "            temp = curr.val\n",
    "            curr.val = curr.next.val\n",
    "            curr.next.val = temp\n",
    "            \n",
    "            curr = curr.next.next\n",
    "            \n",
    "        \n",
    "\n",
    "    \n",
    "c = ll()\n",
    "c.add_at_head(7)\n",
    "c.add_at_head(6)\n",
    "c.add_at_head(5)\n",
    "c.add_at_head(4)\n",
    "c.add_at_head(3)\n",
    "c.add_at_head(2)\n",
    "c.add_at_head(1)\n",
    "c.view()\n",
    "\n",
    "sol = Solution()\n",
    "sol.swapInPairs(c.head)\n",
    "c.view()\n",
    "\n"
   ]
  },
  {
   "cell_type": "code",
   "execution_count": 107,
   "metadata": {},
   "outputs": [
    {
     "name": "stdout",
     "output_type": "stream",
     "text": [
      "a -->b -->c -->d -->e -->None    size: 5\n",
      "b -->a -->d -->c -->e -->None    size: 5\n"
     ]
    }
   ],
   "source": [
    "a = ll()\n",
    "#a.add_at_head('f')\n",
    "a.add_at_head('e')\n",
    "a.add_at_head('d')\n",
    "a.add_at_head('c')\n",
    "a.add_at_head('b')\n",
    "a.add_at_head('a')\n",
    "a.view()\n",
    "\n",
    "def solve(ll):\n",
    "    curr = ll.head\n",
    "    fwd = curr.next\n",
    "    ll.head = fwd\n",
    "    \n",
    "    while True:\n",
    "        temp = fwd.next\n",
    "        fwd.next = curr\n",
    "\n",
    "        if temp == None or temp.next == None: #changing over next segment only when confirming its not None or last node\n",
    "            curr.next = temp   #if None is reached then last pointer to NONE\n",
    "            break \n",
    "            \n",
    "        curr.next = temp.next\n",
    "        curr = temp\n",
    "        fwd = curr.next\n",
    "        \n",
    "    ll.view()\n",
    "\n",
    "solve(a)"
   ]
  },
  {
   "cell_type": "markdown",
   "metadata": {},
   "source": [
    "#### 35. Clone a LL with Random Pointers"
   ]
  },
  {
   "cell_type": "code",
   "execution_count": 134,
   "metadata": {},
   "outputs": [
    {
     "data": {
      "text/plain": [
       "<__main__.Node at 0x10fb67a00>"
      ]
     },
     "execution_count": 134,
     "metadata": {},
     "output_type": "execute_result"
    }
   ],
   "source": [
    "# Using a Hashtable of memory addresses i.e Keys as old nodes and values as new nodes (with pointers \n",
    "# to other nodes in values)\n",
    "import collections\n",
    "class Node:\n",
    "    def __init__(self,val):\n",
    "        self.val = val\n",
    "        self.next = None\n",
    "        self.random = None\n",
    "\n",
    "class Solution:\n",
    "    def copyRandomList(self, head):\n",
    "        dictt = collections.defaultdict(lambda: Node(0)) # Default Dict full of Node(0,None,None) as values\n",
    "        curr = head\n",
    "        dictt[None] = None\n",
    "            \n",
    "        while curr:\n",
    "            dictt[curr].val = curr.val\n",
    "            dictt[curr].next = dictt[curr.next]\n",
    "            dictt[curr].random = dictt[curr.random]\n",
    "            curr = curr.next\n",
    "    \n",
    "        return dictt[head]\n",
    "\n",
    "    \n",
    "original_list = Node(1)\n",
    "original_list.next = Node(2)\n",
    "original_list.next.next = Node(3)\n",
    "original_list.next.next.next = Node(4)\n",
    "original_list.next.next.next.next = Node(5)\n",
    "original_list.random = original_list.next.next\n",
    " \n",
    "# 2's random points to 1\n",
    "original_list.next.random = original_list\n",
    " \n",
    "# 3's random points to 5\n",
    "original_list.next.next.random = original_list.next.next.next.next\n",
    " \n",
    "# 4's random points to 5\n",
    "original_list.next.next.next.random = original_list.next.next.next.next\n",
    " \n",
    "# 5's random points to 2\n",
    "original_list.next.next.next.next.random = original_list.next\n",
    "    \n",
    "    \n",
    "solve = Solution()\n",
    "solve.copyRandomList(original_list)"
   ]
  },
  {
   "cell_type": "markdown",
   "metadata": {},
   "source": [
    "# Recursion"
   ]
  },
  {
   "cell_type": "code",
   "execution_count": 19,
   "metadata": {},
   "outputs": [
    {
     "data": {
      "text/plain": [
       "2"
      ]
     },
     "execution_count": 19,
     "metadata": {},
     "output_type": "execute_result"
    }
   ],
   "source": [
    "# Counting vowels\n",
    "\n",
    "def is_vowel(char):\n",
    "    v = 'aeiou'\n",
    "    if char.lower() in v:\n",
    "        return 1\n",
    "    else:\n",
    "        return 0\n",
    "\n",
    "def count1(string):\n",
    "    if len(string) == 0:\n",
    "        return 0\n",
    "    else:\n",
    "        return count1(string[:len(string)-1]) + is_vowel(string[-1])\n",
    "\n",
    "                                        \n",
    "count1('tyeids')\n",
    "                                            "
   ]
  },
  {
   "cell_type": "code",
   "execution_count": 55,
   "metadata": {},
   "outputs": [
    {
     "data": {
      "text/plain": [
       "[1, 5, 10, 10, 5, 1]"
      ]
     },
     "execution_count": 55,
     "metadata": {},
     "output_type": "execute_result"
    }
   ],
   "source": [
    "#Pascal's Triangle\n",
    "\n",
    "def triangle(num):\n",
    "    if num == 0:\n",
    "        return [1]\n",
    "    else:\n",
    "        line = [1]\n",
    "        previous = triangle(num-1)\n",
    "        \n",
    "        for i in range(len(previous)-1):\n",
    "            line.append(previous[i] + previous[i+1])\n",
    "            \n",
    "        line += [1]\n",
    "        \n",
    "        return line\n",
    "\n",
    "\n",
    "triangle(5)"
   ]
  },
  {
   "cell_type": "code",
   "execution_count": 75,
   "metadata": {},
   "outputs": [
    {
     "data": {
      "text/plain": [
       "16"
      ]
     },
     "execution_count": 75,
     "metadata": {},
     "output_type": "execute_result"
    }
   ],
   "source": [
    "# Square of a number\n",
    "\n",
    "def square(n):\n",
    "    if n == 1:\n",
    "        return 1\n",
    "    else:\n",
    "        return (square(n-1) + 2*n - 1)\n",
    "square(4)"
   ]
  },
  {
   "cell_type": "code",
   "execution_count": 94,
   "metadata": {},
   "outputs": [
    {
     "data": {
      "text/plain": [
       "3"
      ]
     },
     "execution_count": 94,
     "metadata": {},
     "output_type": "execute_result"
    }
   ],
   "source": [
    "# Find index of first occurence of a number in an array\n",
    "\n",
    "def find(arr,num,i):\n",
    "    if arr == []:\n",
    "        return 'Not found'\n",
    "    if arr[0] == num:\n",
    "        return i\n",
    "    else:\n",
    "        return find(arr[1:],num,i+1)\n",
    "    \n",
    "find([3,5,6,7],7,0)"
   ]
  },
  {
   "cell_type": "code",
   "execution_count": 109,
   "metadata": {},
   "outputs": [
    {
     "data": {
      "text/plain": [
       "13"
      ]
     },
     "execution_count": 109,
     "metadata": {},
     "output_type": "execute_result"
    }
   ],
   "source": [
    "# Fibonacci\n",
    "\n",
    "def fib(n):\n",
    "    if n == 0:\n",
    "        return 0\n",
    "    if n == 1:\n",
    "        return 1\n",
    "    else:\n",
    "        return (fib(n-2)+fib(n-1))\n",
    "    \n",
    "fib(7)"
   ]
  },
  {
   "cell_type": "code",
   "execution_count": 142,
   "metadata": {},
   "outputs": [
    {
     "data": {
      "text/plain": [
       "6"
      ]
     },
     "execution_count": 142,
     "metadata": {},
     "output_type": "execute_result"
    }
   ],
   "source": [
    "# GCD\n",
    "\n",
    "def gcd(m,n):\n",
    "    if m == n:\n",
    "        return m\n",
    "    else:\n",
    "        if m > n:\n",
    "            return gcd(m-n,n)\n",
    "        else:\n",
    "            return gcd(m,n-m)\n",
    "        \n",
    "gcd(12,6)"
   ]
  },
  {
   "cell_type": "markdown",
   "metadata": {},
   "source": [
    "# Searching"
   ]
  },
  {
   "cell_type": "markdown",
   "metadata": {},
   "source": [
    "#### Binary Search"
   ]
  },
  {
   "cell_type": "code",
   "execution_count": 5,
   "metadata": {},
   "outputs": [
    {
     "name": "stdout",
     "output_type": "stream",
     "text": [
      "Not found!\n",
      "22 found at : 5\n"
     ]
    }
   ],
   "source": [
    "def binary_search(data,num):\n",
    "    l = 0\n",
    "    r = len(data)-1\n",
    "    \n",
    "    while l <= r:\n",
    "        mid = (l+r)//2\n",
    "        \n",
    "        if data[mid] == num:\n",
    "            return print(num,'found at :',mid)\n",
    "        \n",
    "        if data[mid] > num:\n",
    "            r = mid - 1    #prune right side to reduce search space\n",
    "            \n",
    "        else:\n",
    "            l = mid + 1    #prune left side to reduce search space\n",
    "            \n",
    "    return print('Not found!')\n",
    "\n",
    "binary_search([1,4,6,9,12,22,43,55], 3)\n",
    "binary_search([1,4,6,9,12,22,43,55], 22)"
   ]
  },
  {
   "cell_type": "markdown",
   "metadata": {},
   "source": [
    "#### 36. Find Closest Number"
   ]
  },
  {
   "cell_type": "code",
   "execution_count": 2,
   "metadata": {},
   "outputs": [
    {
     "name": "stdout",
     "output_type": "stream",
     "text": [
      "8\n",
      "6\n",
      "2\n",
      "8\n",
      "9\n",
      "9\n"
     ]
    }
   ],
   "source": [
    "# O(logn) , O(1)\n",
    "\n",
    "def find_closest_num(arr, num):\n",
    "    l = 0\n",
    "    r = len(arr)-1\n",
    "    closest = None\n",
    "    while l <= r:\n",
    "        mid = (l+r)//2        \n",
    "        if mid < len(arr)-1 and mid > 0:   # to handle special case of mid reaching 0 or len(arr)-1\n",
    "            diff_left = abs(arr[mid-1]-num)\n",
    "            diff_mid = abs(arr[mid]-num)\n",
    "            diff_right = abs(arr[mid+1]-num)\n",
    "            if diff_left < diff_mid:\n",
    "                r = mid - 1\n",
    "            elif diff_right <= diff_mid:  # to handle EDGE CASE mentioned below\n",
    "                l = mid + 1\n",
    "            else:\n",
    "                return arr[mid]\n",
    "        else:\n",
    "            return arr[mid]   # mid has reached 0 or len(arr)-1, which is the answer\n",
    "\n",
    "\n",
    "print(find_closest_num([2, 5, 6, 7, 8, 8, 9], 8))    #special case\n",
    "print(find_closest_num([1, 2, 4, 5, 6, 6, 8, 9], 6)) #special case\n",
    "print(find_closest_num([1, 2, 2, 4, 8, 8, 9], 2))\n",
    "print(find_closest_num([1, 2, 2, 4, 8, 8, 9], 8))\n",
    "print(find_closest_num([1, 2, 2, 4, 8, 8, 9],11))\n",
    "\n",
    "print(find_closest_num([1,4,5,6,7,7,8,9,9,22],11)) # Important edge case\n",
    "# This is an edge case where repetition occurs on mid+1, then = sign needed"
   ]
  },
  {
   "cell_type": "markdown",
   "metadata": {},
   "source": [
    "#### 37. Find fixed point"
   ]
  },
  {
   "cell_type": "code",
   "execution_count": 91,
   "metadata": {},
   "outputs": [
    {
     "name": "stdout",
     "output_type": "stream",
     "text": [
      "3\n",
      "0\n",
      "None\n"
     ]
    }
   ],
   "source": [
    "# O(logn), O(1)\n",
    "\n",
    "def find(A):\n",
    "    left = 0\n",
    "    right = len(A) - 1\n",
    "    \n",
    "    while left <= right :\n",
    "        mid = (left + right)//2\n",
    "# We don't need to check for L or R bcz the conditions and traversal are dependent on mid        \n",
    "        if A[mid] < mid :  \n",
    "            left = mid + 1\n",
    "        elif A[mid] > mid:\n",
    "            right = mid - 1\n",
    "        else:\n",
    "            return mid   # A[mid] == mid\n",
    "    \n",
    "    return None\n",
    "\n",
    "print(find([-10, -5, 0, 3, 7]))\n",
    "print(find([0, 2, 5, 8, 17]))\n",
    "print(find([-10, -5, 3, 4, 7, 9]))\n"
   ]
  },
  {
   "cell_type": "markdown",
   "metadata": {},
   "source": [
    "#### 38. Find peak in Bitonically sorted array"
   ]
  },
  {
   "cell_type": "code",
   "execution_count": 4,
   "metadata": {},
   "outputs": [
    {
     "name": "stdout",
     "output_type": "stream",
     "text": [
      "5\n",
      "6\n",
      "5\n",
      "5\n",
      "6\n"
     ]
    }
   ],
   "source": [
    "# O(logn), O(1)\n",
    "\n",
    "def find(arr):\n",
    "    l = 0\n",
    "    r = len(arr)-1\n",
    "    \n",
    "    while l <= r :\n",
    "        mid = (l+r)//2\n",
    "        if mid == 0 or mid == len(arr)-1:    # Edge cases of INC or DSC sorted array\n",
    "            return max(arr[l],arr[mid],arr[r])    # MAX used to eliminate edge cases\n",
    "        if arr[mid-1] < arr[mid] < arr[mid+1]:\n",
    "            l = mid + 1\n",
    "        elif arr[mid-1] > arr[mid] > arr[mid+1]:\n",
    "            r = mid - 1\n",
    "        else:\n",
    "            return max(arr[l],arr[mid],arr[r])   # using MAX guarantees the right solution\n",
    "\n",
    "            \n",
    "print(find([1, 2, 3, 4, 5, 4, 3, 2, 1]))\n",
    "print(find([1, 6, 5, 4, 3, 2, 1]))\n",
    "print(find([1, 2, 3, 4, 5]))\n",
    "print(find([5, 4, 3, 2, 1]))\n",
    "print(find([1, 6, 4, 3, 2, 1]))  # Edge case!!!!\n"
   ]
  },
  {
   "cell_type": "markdown",
   "metadata": {},
   "source": [
    "#### 39. Find First Entry in List with Duplicates"
   ]
  },
  {
   "cell_type": "code",
   "execution_count": 121,
   "metadata": {},
   "outputs": [
    {
     "name": "stdout",
     "output_type": "stream",
     "text": [
      "6\n",
      "3\n",
      "0\n"
     ]
    }
   ],
   "source": [
    "# O(logn), O(1)\n",
    "\n",
    "def find(A,num):\n",
    "    l = 0\n",
    "    r = len(A) - 1\n",
    "    \n",
    "    while l <= r:\n",
    "        mid = (l+r)//2\n",
    "        \n",
    "        if A[mid] > num:\n",
    "            r = mid - 1\n",
    "        elif A[mid] < num:\n",
    "            l = mid + 1\n",
    "        else:\n",
    "            if A[mid-1] == num:\n",
    "        #pruning all the NUMs occuring on right side of repeating sequence        \n",
    "                r = mid - 1     \n",
    "            else:\n",
    "                return mid\n",
    "            \n",
    "    return 'Not found!'\n",
    "\n",
    "print(find([-14, -10, 2, 108, 108, 243, 285, 285, 285, 401], 285))\n",
    "print(find([-14, -10, 2, 108, 108, 108, 108, 243, 285, 285, 285, 401], 108))\n",
    "print(find([-14, -14, -10, 2, 108, 108, 243, 285, 285, 285, 401], -14))"
   ]
  },
  {
   "cell_type": "markdown",
   "metadata": {},
   "source": [
    "#### 40. Find a number whose square is closest or equal to given number"
   ]
  },
  {
   "cell_type": "code",
   "execution_count": 243,
   "metadata": {},
   "outputs": [
    {
     "data": {
      "text/plain": [
       "17"
      ]
     },
     "execution_count": 243,
     "metadata": {},
     "output_type": "execute_result"
    }
   ],
   "source": [
    "# O(logn)\n",
    "\n",
    "def get_closest(num):\n",
    "    l = 1\n",
    "    r = num\n",
    "    \n",
    "    while l < r :\n",
    "        if r - l == 1:    # SO that when l,mid,r remains same, break the infinite while loop\n",
    "            return l\n",
    "        m = (l+r)//2\n",
    "        if m**2 > num:\n",
    "            r = m\n",
    "        elif m**2 < num:\n",
    "            l = m\n",
    "        else:\n",
    "            return m\n",
    "    \n",
    "get_closest(300)"
   ]
  },
  {
   "cell_type": "markdown",
   "metadata": {},
   "source": [
    "#### 41. Find smallest element in a Cyclically Sorted array"
   ]
  },
  {
   "cell_type": "code",
   "execution_count": 11,
   "metadata": {},
   "outputs": [
    {
     "name": "stdout",
     "output_type": "stream",
     "text": [
      "1\n",
      "1\n",
      "1\n",
      "1\n"
     ]
    }
   ],
   "source": [
    "def solve(arr):\n",
    "    l = 0\n",
    "    r = len(arr)-1\n",
    "    \n",
    "    while l <= r:\n",
    "\n",
    "        mid = (l+r)//2\n",
    "        if mid == len(arr)-1 or (arr[mid] < arr[mid-1] and arr[mid] < arr[mid+1]):\n",
    "            return arr[mid]\n",
    "        elif arr[r] > arr[mid] > arr[l]:\n",
    "            r = mid - 1\n",
    "        else:\n",
    "            l = mid + 1\n",
    "            \n",
    "    \n",
    "\n",
    "\n",
    "print(solve([1,2,3,4,5,6]))\n",
    "print(solve([3,4,5,6,1,2]))\n",
    "print(solve([5,4,3,2,1]))\n",
    "print(solve([4,5,6,1,2,3]))"
   ]
  },
  {
   "cell_type": "markdown",
   "metadata": {},
   "source": [
    "#### 42. Intersection of two sorted arrays"
   ]
  },
  {
   "cell_type": "code",
   "execution_count": 220,
   "metadata": {},
   "outputs": [
    {
     "data": {
      "text/plain": [
       "[1, 3]"
      ]
     },
     "execution_count": 220,
     "metadata": {},
     "output_type": "execute_result"
    }
   ],
   "source": [
    "# Approach : Very good to iterate over two differently sized sorted arrays\n",
    "\n",
    "def intersection(nums1, nums2):\n",
    "    result = set()\n",
    "    ptr1 , ptr2 = 0 , 0\n",
    "    \n",
    "    while ptr1<len(nums1) and ptr2<len(nums2):\n",
    "        if nums1[ptr1] < nums2[ptr2]:\n",
    "            ptr1 += 1\n",
    "        elif nums2[ptr2] < nums1[ptr1]:\n",
    "            ptr2 += 1\n",
    "        else:\n",
    "            result.add(nums1[ptr1])\n",
    "            ptr1 += 1\n",
    "            ptr2 += 1\n",
    "            \n",
    "    return list(result)\n",
    "\n",
    "intersection([1,2,3,4],[1,1,3,3,5])"
   ]
  },
  {
   "cell_type": "markdown",
   "metadata": {},
   "source": [
    "#### 43. Search a sorted 2D Matrix"
   ]
  },
  {
   "cell_type": "code",
   "execution_count": 228,
   "metadata": {},
   "outputs": [
    {
     "name": "stdout",
     "output_type": "stream",
     "text": [
      "True\n",
      "False\n"
     ]
    }
   ],
   "source": [
    "# Variant 1 --- \n",
    "# Not strictly sorted\n",
    "# when first element in row i+1 may not be greater than last element in row i\n",
    "# O(NlogN)\n",
    "\n",
    "def search1(matrix, target):\n",
    "    for row in matrix:\n",
    "        if binary(row,target):\n",
    "            return True\n",
    "    return False\n",
    "\n",
    "def binary(arr, val):\n",
    "    l,r = 0,len(arr)-1\n",
    "\n",
    "    while l <= r:\n",
    "        mid = (l+r)//2\n",
    "        if arr[mid] == val:\n",
    "            return True\n",
    "        if arr[mid] < val:\n",
    "            l = mid + 1\n",
    "        elif arr[mid] > val :\n",
    "            r = mid - 1\n",
    "    return False\n",
    "\n",
    "a = [\n",
    "  [1, 4, 7, 11],\n",
    "  [8, 9, 10, 20],\n",
    "  [11, 12, 17, 30]\n",
    "]\n",
    "print(search1(a,30))\n",
    "print(search1(a,0))"
   ]
  },
  {
   "cell_type": "code",
   "execution_count": 231,
   "metadata": {},
   "outputs": [
    {
     "name": "stdout",
     "output_type": "stream",
     "text": [
      "True\n",
      "False\n"
     ]
    }
   ],
   "source": [
    "# Variant 2 --- \n",
    "# Strictly sorted\n",
    "# when first element in row i+1 is greater than last element in row i\n",
    "# O(N)\n",
    "\n",
    "def search2(matrix, target):\n",
    "    arr = []\n",
    "    for i in matrix:\n",
    "        if target <= i[-1]:\n",
    "            arr = i \n",
    "            break\n",
    "    if arr == []:\n",
    "        return False\n",
    "    else:\n",
    "        return binary(arr, target)\n",
    "\n",
    "def binary(arr, val):\n",
    "    l,r = 0,len(arr)-1\n",
    "\n",
    "    while l <= r:\n",
    "        mid = (l+r)//2\n",
    "        if arr[mid] == val:\n",
    "            return True\n",
    "        if arr[mid] < val:\n",
    "            l = mid + 1\n",
    "        elif arr[mid] > val :\n",
    "            r = mid - 1\n",
    "    return False\n",
    "\n",
    "b = [\n",
    "  [0, 1, 2, 3],\n",
    "  [4, 5, 6, 7],\n",
    "  [8, 9, 10, 11]\n",
    "]\n",
    "print(search2(b,11))\n",
    "print(search2(b,12))"
   ]
  },
  {
   "cell_type": "markdown",
   "metadata": {},
   "source": [
    "#### 44. Computer square root of an integer"
   ]
  },
  {
   "cell_type": "code",
   "execution_count": 240,
   "metadata": {},
   "outputs": [
    {
     "name": "stdout",
     "output_type": "stream",
     "text": [
      "3\n",
      "5\n"
     ]
    }
   ],
   "source": [
    "def sqrt(n):\n",
    "    l,r = 1,n\n",
    "    \n",
    "    while l <= r and r-l > 1:\n",
    "        mid = (l+r)//2\n",
    "        if mid*mid == n:\n",
    "            return mid\n",
    "        if mid*mid > n:\n",
    "            r = mid\n",
    "        else :\n",
    "            l = mid\n",
    "    return l\n",
    "\n",
    "print(sqrt(13))\n",
    "print(sqrt(25))"
   ]
  },
  {
   "cell_type": "markdown",
   "metadata": {},
   "source": [
    "# Graphs"
   ]
  },
  {
   "cell_type": "code",
   "execution_count": 41,
   "metadata": {},
   "outputs": [],
   "source": [
    "from collections import defaultdict\n",
    "import networkx as nx"
   ]
  },
  {
   "cell_type": "code",
   "execution_count": 14,
   "metadata": {},
   "outputs": [
    {
     "data": {
      "image/png": "[encoded data removed]",
      "text/plain": [
       "<Figure size 432x288 with 1 Axes>"
      ]
     },
     "metadata": {},
     "output_type": "display_data"
    }
   ],
   "source": [
    "g1 = defaultdict(list)\n",
    "g1 = {\n",
    "  'A' : ['B','J','G'],\n",
    "  'B' : ['A','D'],\n",
    "  'C' : ['H'],\n",
    "  'D' : ['B','J','H'],\n",
    "  'E' : ['F','G','I'],\n",
    "  'F' : ['G','E','I','H'],\n",
    "  'G' : ['A','J','F','E'],\n",
    "  'H' : ['D','F','I','C'],\n",
    "  'I' : ['E','F','H'],\n",
    "  'J' : ['A','D','G']\n",
    "}\n",
    "G1 = nx.Graph(g1)\n",
    "nx.draw(G1, with_labels = True)"
   ]
  },
  {
   "cell_type": "markdown",
   "metadata": {},
   "source": [
    "#### Breadth First Search"
   ]
  },
  {
   "cell_type": "code",
   "execution_count": 11,
   "metadata": {},
   "outputs": [
    {
     "data": {
      "text/plain": [
       "['A', 'B', 'J', 'G', 'D', 'F', 'E', 'H', 'I', 'C']"
      ]
     },
     "execution_count": 11,
     "metadata": {},
     "output_type": "execute_result"
    }
   ],
   "source": [
    "def bfs(graph, source):\n",
    "    q = []\n",
    "    visited = set()\n",
    "    result = []\n",
    "    \n",
    "    q.append(source)\n",
    "    visited.add(source)\n",
    "    \n",
    "    while q:\n",
    "        curr = q.pop(0)\n",
    "        result.append(curr)\n",
    "        \n",
    "        for adj in graph[curr]:\n",
    "            if adj not in visited:\n",
    "                q.append(adj)\n",
    "                visited.add(adj)\n",
    "                \n",
    "    return result\n",
    "\n",
    "bfs(g1, 'A')"
   ]
  },
  {
   "cell_type": "markdown",
   "metadata": {},
   "source": [
    "#### Depth First Search"
   ]
  },
  {
   "cell_type": "markdown",
   "metadata": {},
   "source": [
    "#### Iterative"
   ]
  },
  {
   "cell_type": "code",
   "execution_count": 12,
   "metadata": {},
   "outputs": [
    {
     "data": {
      "text/plain": [
       "['A', 'G', 'E', 'I', 'H', 'C', 'D', 'F', 'J', 'B']"
      ]
     },
     "execution_count": 12,
     "metadata": {},
     "output_type": "execute_result"
    }
   ],
   "source": [
    "def dfs(graph, source):\n",
    "    stack = []\n",
    "    visited = set()\n",
    "    result = []\n",
    "    \n",
    "    stack.append(source)\n",
    "    visited.add(source)\n",
    "    \n",
    "    while stack:\n",
    "        curr = stack.pop()\n",
    "        result.append(curr)\n",
    "        \n",
    "        for adj in graph[curr]:\n",
    "            if adj not in visited:\n",
    "                stack.append(adj)\n",
    "                visited.add(adj)\n",
    "                \n",
    "    return result\n",
    "\n",
    "dfs(g1, 'A')"
   ]
  },
  {
   "cell_type": "markdown",
   "metadata": {},
   "source": [
    "#### Recursive"
   ]
  },
  {
   "cell_type": "code",
   "execution_count": 49,
   "metadata": {},
   "outputs": [
    {
     "name": "stdout",
     "output_type": "stream",
     "text": [
      "A B D J G F E I H C "
     ]
    }
   ],
   "source": [
    "def dfs_rec(graph,source):\n",
    "    visited = set()\n",
    "    get_dfs(graph,source,visited)\n",
    "    \n",
    "def get_dfs(graph,vtx,visited):\n",
    "    \n",
    "    visited.add(vtx)\n",
    "    print(vtx,end=' ')\n",
    "    \n",
    "    for adj in graph[vtx]:\n",
    "        if adj not in visited:\n",
    "            get_dfs(graph,adj,visited)\n",
    "            \n",
    "\n",
    "dfs_rec(g1,'A')"
   ]
  },
  {
   "cell_type": "code",
   "execution_count": 58,
   "metadata": {},
   "outputs": [
    {
     "name": "stdout",
     "output_type": "stream",
     "text": [
      "[1, 2, 3, 4, 5, 6, 7, 8, 9, 10, 11, 13, 12]\n",
      "1 8 12 9 11 13 10 7 2 6 3 5 4 "
     ]
    },
    {
     "data": {
      "image/png": "[encoded data removed]",
      "text/plain": [
       "<Figure size 432x288 with 1 Axes>"
      ]
     },
     "metadata": {},
     "output_type": "display_data"
    }
   ],
   "source": [
    "# Both Iterative and Recursive give different DFS traversals, but each one is correct!!!\n",
    "\n",
    "g = defaultdict(list)     # depeding on the order of children in adj list, the DFS slightly changes\n",
    "g = {\n",
    "    1 : [8,7,2],          # children arranged in decreasing order\n",
    "    2 : [6,3,1],\n",
    "    3 : [5,4,2],\n",
    "    4 : [3],\n",
    "    5 : [3],\n",
    "    6 : [2],\n",
    "    7 : [1],\n",
    "    8 : [12,9,1],\n",
    "    9 : [11,10,8],\n",
    "    10: [9],\n",
    "    11: [9,13],\n",
    "    12: [8],\n",
    "    13: [11]\n",
    "}\n",
    "\n",
    "G = nx.Graph(g)\n",
    "nx.draw_planar(G, with_labels=True, arrows=False)\n",
    "\n",
    "print(dfs(g,1))    \n",
    "dfs_rec(g,1)       \n",
    "# Over here iterative gives the desired output\n",
    "\n",
    "\n",
    "\n",
    "def dfs_rec2(graph,source):\n",
    "    visited = set()\n",
    "    get_dfs2(graph,source,visited)\n",
    "    \n",
    "def get_dfs2(graph,vtx,visited):\n",
    "    \n",
    "    visited.add(vtx)\n",
    "    print(vtx,end=' ')\n",
    "    \n",
    "    for adj in graph[vtx]:\n",
    "        if adj not in visited:\n",
    "            get_dfs(graph,adj,visited)\n"
   ]
  },
  {
   "cell_type": "code",
   "execution_count": 57,
   "metadata": {},
   "outputs": [
    {
     "name": "stdout",
     "output_type": "stream",
     "text": [
      "[1, 8, 12, 9, 11, 10, 7, 2, 6, 3, 5, 4]\n",
      "1 2 3 4 5 6 7 8 9 10 11 12 "
     ]
    },
    {
     "data": {
      "image/png": "[encoded data removed]",
      "text/plain": [
       "<Figure size 432x288 with 1 Axes>"
      ]
     },
     "metadata": {},
     "output_type": "display_data"
    }
   ],
   "source": [
    "from networkx.drawing.nx_agraph import graphviz_layout\n",
    "import matplotlib.pyplot as plt\n",
    "\n",
    "g = defaultdict(list)\n",
    "g = {\n",
    "    1 : [2,7,8],      # children arranged in increasing order\n",
    "    2 : [1,3,6],\n",
    "    3 : [2,4,5],\n",
    "    4 : [3],\n",
    "    5 : [3],\n",
    "    6 : [2],\n",
    "    7 : [1],\n",
    "    8 : [1,9,12],\n",
    "    9 : [8,10,11],\n",
    "    10: [9],\n",
    "    11: [9],\n",
    "    12: [8],\n",
    "}\n",
    "\n",
    "G = nx.Graph(g)\n",
    "nx.draw_planar(G, with_labels=True, arrows=False)\n",
    "\n",
    "print(dfs(g,1))    \n",
    "dfs_rec(g,1)       \n",
    "# Over here recursive gives the desired output"
   ]
  },
  {
   "cell_type": "code",
   "execution_count": 236,
   "metadata": {},
   "outputs": [
    {
     "data": {
      "image/png": "[encoded data removed]",
      "text/plain": [
       "<Figure size 432x288 with 1 Axes>"
      ]
     },
     "metadata": {},
     "output_type": "display_data"
    }
   ],
   "source": [
    "g2 = defaultdict(list)\n",
    "g2 = {\n",
    "  'A' : ['B','C'],\n",
    "  'B' : ['D', 'E'],\n",
    "  'C' : ['F'],\n",
    "  'D' : [],\n",
    "  'E' : ['F'],\n",
    "  'F' : []\n",
    "}\n",
    "G2 = nx.Graph(g2)\n",
    "nx.draw(G2, with_labels = True)"
   ]
  },
  {
   "cell_type": "code",
   "execution_count": 237,
   "metadata": {},
   "outputs": [
    {
     "name": "stdout",
     "output_type": "stream",
     "text": [
      "['A', 'B', 'C', 'D', 'E', 'F']\n",
      "['A', 'C', 'F', 'B', 'E', 'D']\n"
     ]
    }
   ],
   "source": [
    "print(bfs(g2, 'A'))\n",
    "print(dfs(g2, 'A'))"
   ]
  },
  {
   "cell_type": "markdown",
   "metadata": {},
   "source": [
    "#### 45. Detect cycle in a UNdirected graph (if Source Node is Given)"
   ]
  },
  {
   "cell_type": "code",
   "execution_count": 333,
   "metadata": {},
   "outputs": [
    {
     "data": {
      "image/png": "[encoded data removed]",
      "text/plain": [
       "<Figure size 432x288 with 1 Axes>"
      ]
     },
     "metadata": {},
     "output_type": "display_data"
    }
   ],
   "source": [
    "g3 = defaultdict(list)\n",
    "g3 = {\n",
    "  'A' : ['B'],\n",
    "  'B' : ['E','D'],\n",
    "  'C' : ['A'],\n",
    "  'D' : [],\n",
    "  'E' : ['F'],\n",
    "  'F' : ['C']\n",
    "}\n",
    "G3 = nx.Graph(g3)\n",
    "nx.draw(G3, with_labels = True)"
   ]
  },
  {
   "cell_type": "code",
   "execution_count": 344,
   "metadata": {},
   "outputs": [
    {
     "data": {
      "image/png": "[encoded data removed]",
      "text/plain": [
       "<Figure size 432x288 with 1 Axes>"
      ]
     },
     "metadata": {},
     "output_type": "display_data"
    }
   ],
   "source": [
    "g4 = defaultdict(list)\n",
    "g4 = {                  # In making an adjacency list one can show\n",
    "  'A' : ['B'],          # leaf nodes by 'C':[]\n",
    "  'B' : ['D'],\n",
    "  'D' : ['E'],\n",
    "  'E' : ['F'],\n",
    "  'F' : ['C'],\n",
    "  'C': []\n",
    "}\n",
    "G4 = nx.Graph(g4)\n",
    "nx.draw(G4, with_labels = True)"
   ]
  },
  {
   "cell_type": "code",
   "execution_count": 345,
   "metadata": {},
   "outputs": [
    {
     "name": "stdout",
     "output_type": "stream",
     "text": [
      "Cycle exists!\n",
      "No Cycle exists!\n"
     ]
    }
   ],
   "source": [
    "def detect_cycle(graph, source):  #using bfs ----> WORKS ONLY FOR UNDIRECTED GRAPHS\n",
    "    q = []\n",
    "    visited = set()\n",
    "    q.append(source)\n",
    "    visited.add(source)\n",
    "    while q:\n",
    "        curr = q.pop(0)\n",
    "        for adj in graph[curr]:\n",
    "            if adj not in visited :\n",
    "                if adj in graph: #Always check if the node exists in the graph before adding to Q\n",
    "                    q.append(adj) #Bcz the node may be a leaf node\n",
    "                visited.add(adj)\n",
    "            else:\n",
    "                return 'Cycle exists!'\n",
    "                \n",
    "    return 'No Cycle exists!'\n",
    "\n",
    "print(detect_cycle(g3,'B'))\n",
    "print(detect_cycle(g4,'A'))"
   ]
  },
  {
   "cell_type": "markdown",
   "metadata": {},
   "source": [
    "#### 46. Detect cycle in a UNdirected graph (without given source node)"
   ]
  },
  {
   "cell_type": "code",
   "execution_count": 325,
   "metadata": {},
   "outputs": [],
   "source": [
    "# Running BFS from each non-leaf node of the graph until a cycle is found\n",
    "# O(V(V+E)) complexity \n",
    "def detect_cycle2(graph):  \n",
    "    for source in graph:\n",
    "        if graph[source] != []:\n",
    "            q = []\n",
    "            visited = set()\n",
    "            q.append(source)\n",
    "            visited.add(source)\n",
    "            while q:\n",
    "                curr = q.pop(0)\n",
    "                for adj in graph[curr]:\n",
    "                    if adj not in visited :\n",
    "                        if adj in graph: \n",
    "                            q.append(adj) \n",
    "                        visited.add(adj)\n",
    "                    else:\n",
    "                        return 'Cycle exists!'\n",
    "                \n",
    "    return 'No Cycle exists!'"
   ]
  },
  {
   "cell_type": "markdown",
   "metadata": {},
   "source": [
    "#### 47. Detect cycle in a Directed graph"
   ]
  },
  {
   "cell_type": "code",
   "execution_count": 461,
   "metadata": {},
   "outputs": [],
   "source": [
    "# Approach : using RECURSIVE DFS\n",
    "# O(V+E) time, O(V) space\n",
    "\n",
    "def isCyclic(graph):\n",
    "    state = {v:'white' for v in graph}\n",
    "    for v in graph:\n",
    "        if state[v] == 'white' and cycleFromVertex(v,graph,state):\n",
    "            print(state)\n",
    "            return True\n",
    "    return False\n",
    "\n",
    "def cycleFromVertex(vtx,graph,state):\n",
    "    if state[vtx] == 'gray':   # cycle exists\n",
    "        return True\n",
    "    \n",
    "    state[vtx] = 'gray'\n",
    "    for adj in graph[vtx]:                                             #picking up adj vtx and running DFS on each\n",
    "        if state[adj] != 'black' and cycleFromVertex(adj,graph,state): # if adjacent vtx lead to a path if cycle\n",
    "            return True     \n",
    "    \n",
    "    state[vtx] = 'black'  # current vertex leads to no cycle\n",
    "    return False\n"
   ]
  },
  {
   "cell_type": "code",
   "execution_count": 462,
   "metadata": {},
   "outputs": [
    {
     "name": "stdout",
     "output_type": "stream",
     "text": [
      "{1: 'gray', 2: 'black', 3: 'gray', 4: 'black', 5: 'gray', 6: 'gray', 7: 'white', 8: 'white', 9: 'white', 10: 'white', 11: 'white', 12: 'white'}\n",
      "True\n"
     ]
    },
    {
     "data": {
      "image/png": "[encoded data removed]",
      "text/plain": [
       "<Figure size 432x288 with 1 Axes>"
      ]
     },
     "metadata": {},
     "output_type": "display_data"
    }
   ],
   "source": [
    "g5 = defaultdict(list)\n",
    "g5 = {\n",
    "    1 : [2,3],\n",
    "    2 : [],\n",
    "    3 : [4,5],\n",
    "    4 : [],\n",
    "    5 : [6],\n",
    "    6 : [3],\n",
    "    7 : [],\n",
    "    8 : [],\n",
    "    9 : [7,8,12],\n",
    "    10 : [9],\n",
    "    11 : [10],\n",
    "    12 : []\n",
    "}\n",
    "\n",
    "G5 = nx.DiGraph(g5)\n",
    "nx.draw_circular(G5, arrows = True, with_labels = True)\n",
    "print(isCyclic(g5))"
   ]
  },
  {
   "cell_type": "code",
   "execution_count": 370,
   "metadata": {},
   "outputs": [
    {
     "name": "stdout",
     "output_type": "stream",
     "text": [
      "False\n"
     ]
    },
    {
     "data": {
      "image/png": "[encoded data removed]",
      "text/plain": [
       "<Figure size 432x288 with 1 Axes>"
      ]
     },
     "metadata": {},
     "output_type": "display_data"
    }
   ],
   "source": [
    "g6 = defaultdict(list)\n",
    "g6 = {\n",
    "    1 : [2,3],\n",
    "    2 : [],\n",
    "    3 : [4,5],\n",
    "    4 : [],\n",
    "    5 : [4],\n",
    "    6 : [3,5],\n",
    "}\n",
    "\n",
    "G6 = nx.DiGraph(g6)\n",
    "nx.draw_circular(G6, arrows = True, with_labels = True)\n",
    "print(isCyclic(g6))"
   ]
  },
  {
   "cell_type": "markdown",
   "metadata": {},
   "source": [
    "#### 48. Number of cycles in a Directed Graph"
   ]
  },
  {
   "cell_type": "code",
   "execution_count": 59,
   "metadata": {},
   "outputs": [],
   "source": [
    "def count_cycles(graph):\n",
    "    state = {v:'white' for v in graph}\n",
    "    count = 0\n",
    "    for v in graph:\n",
    "        if state[v] == 'white' and cycleFromVertex(v,graph,state):\n",
    "            count += 1\n",
    "    return count\n",
    "\n",
    "def cycleFromVertex(vtx,graph,state):\n",
    "    if state[vtx] == 'gray':   # cycle exists\n",
    "        return True\n",
    "    \n",
    "    state[vtx] = 'gray'\n",
    "    for adj in graph[vtx]:                                             #picking up adj vtx and running DFS on each\n",
    "        if state[adj] != 'black' and cycleFromVertex(adj,graph,state): # if adjacent vtx lead to a path if cycle\n",
    "            return True     \n",
    "    \n",
    "    state[vtx] = 'black'  # current vertex leads to no cycle\n",
    "    return False"
   ]
  },
  {
   "cell_type": "code",
   "execution_count": 60,
   "metadata": {},
   "outputs": [
    {
     "data": {
      "text/plain": [
       "3"
      ]
     },
     "execution_count": 60,
     "metadata": {},
     "output_type": "execute_result"
    },
    {
     "data": {
      "image/png": "[encoded data removed]",
      "text/plain": [
       "<Figure size 432x288 with 1 Axes>"
      ]
     },
     "metadata": {},
     "output_type": "display_data"
    }
   ],
   "source": [
    "g7 = defaultdict(list)\n",
    "g7 = {\n",
    "    1: [2],\n",
    "    2: [3],\n",
    "    3: [4],\n",
    "    4: [1,6,7],\n",
    "    6: [10],\n",
    "    7: [8],\n",
    "    8: [9],\n",
    "    9: [7],\n",
    "    10: [11],\n",
    "    11:[6]\n",
    "    \n",
    "}\n",
    "\n",
    "G7 = nx.DiGraph(g7)\n",
    "nx.draw_circular(G7,arrows = True, with_labels = True)\n",
    "\n",
    "count_cycles(g7)"
   ]
  },
  {
   "cell_type": "code",
   "execution_count": 62,
   "metadata": {},
   "outputs": [
    {
     "data": {
      "text/plain": [
       "2"
      ]
     },
     "execution_count": 62,
     "metadata": {},
     "output_type": "execute_result"
    },
    {
     "data": {
      "image/png": "[encoded data removed]",
      "text/plain": [
       "<Figure size 432x288 with 1 Axes>"
      ]
     },
     "metadata": {},
     "output_type": "display_data"
    }
   ],
   "source": [
    "g8 = defaultdict(list)\n",
    "g8 = {\n",
    "    1: [2],\n",
    "    2: [3,5],\n",
    "    3: [4],\n",
    "    4: [1],\n",
    "    5: [6],\n",
    "    6: [2]\n",
    "    \n",
    "}\n",
    "\n",
    "G8 = nx.DiGraph(g8)\n",
    "nx.draw(G8,arrows = True, with_labels = True)\n",
    "count_cycles(g8)"
   ]
  },
  {
   "cell_type": "markdown",
   "metadata": {},
   "source": [
    "#### 49. Keys and Rooms"
   ]
  },
  {
   "cell_type": "code",
   "execution_count": 71,
   "metadata": {},
   "outputs": [
    {
     "data": {
      "text/plain": [
       "False"
      ]
     },
     "execution_count": 71,
     "metadata": {},
     "output_type": "execute_result"
    }
   ],
   "source": [
    "class sol:\n",
    "    def ans(self, arr):\n",
    "        if arr[0] == []:\n",
    "            return False\n",
    "        \n",
    "        num_rooms = len(arr)\n",
    "        graph = {room:keys for room,keys in enumerate(arr)}\n",
    "        \n",
    "        visited = set()\n",
    "        q = []\n",
    "        q.append(0)\n",
    "    \n",
    "        while q:\n",
    "            curr = q.pop(0)\n",
    "            visited.add(curr)\n",
    "            \n",
    "            for adj in graph[curr]:\n",
    "                if adj not in visited:\n",
    "                    q.append(adj)\n",
    "                    \n",
    "        if len(visited) != num_rooms:\n",
    "            return False\n",
    "        else:\n",
    "            return True\n",
    "        \n",
    "a = sol()\n",
    "a.ans([[1],[2],[3],[]])\n",
    "a.ans([[],[2],[3],[]])\n",
    "a.ans([[1,3],[3,0,1],[2],[0]])"
   ]
  },
  {
   "cell_type": "markdown",
   "metadata": {},
   "source": [
    "#### 50. BFS traversal on a 2D Matrix"
   ]
  },
  {
   "cell_type": "code",
   "execution_count": 187,
   "metadata": {},
   "outputs": [],
   "source": [
    "def bfs_arr(grid,row,col):\n",
    "    maxRow = len(grid)\n",
    "    maxCol = len(grid[0])\n",
    "    visited = [[False for i in range(maxCol)]for i in range(maxRow)]\n",
    "    dx = [0,0,-1,1]    #left,right,up,down\n",
    "    dy = [-1,1,0,0]\n",
    "    q = []\n",
    "    \n",
    "    q.append((row,col))\n",
    "    visited[row][col] = True\n",
    "    \n",
    "    while q:\n",
    "        x,y = q.pop(0)\n",
    "        print(grid[x][y],end=' ')\n",
    "        \n",
    "        for i in range(4):\n",
    "            adjx = x + dx[i]\n",
    "            adjy = y + dy[i]\n",
    "            if isValid(maxRow,maxCol,visited,adjx,adjy):\n",
    "                q.append((adjx,adjy))\n",
    "                visited[adjx][adjy] = True\n",
    "    \n",
    "def isValid(maxRow,maxCol,visited,row,col):\n",
    "    if 0 <= row < maxRow  and 0 <= col < maxCol and visited[row][col] == False:\n",
    "        return True\n",
    "    else:\n",
    "        return False"
   ]
  },
  {
   "cell_type": "code",
   "execution_count": 107,
   "metadata": {},
   "outputs": [
    {
     "name": "stdout",
     "output_type": "stream",
     "text": [
      "1 2 5 3 6 9 4 7 10 13 8 11 14 12 15 16 "
     ]
    }
   ],
   "source": [
    "matrix= [ [ 1, 2, 3, 4 ],\n",
    "          [ 5, 6, 7, 8 ],\n",
    "          [ 9, 10, 11, 12 ],\n",
    "          [ 13, 14, 15, 16 ] ]\n",
    "\n",
    "bfs_arr(matrix,0,0)"
   ]
  },
  {
   "cell_type": "markdown",
   "metadata": {},
   "source": [
    "#### 51. DFS traversal on a 2D matrix"
   ]
  },
  {
   "cell_type": "code",
   "execution_count": 198,
   "metadata": {},
   "outputs": [
    {
     "name": "stdout",
     "output_type": "stream",
     "text": [
      "1 5 9 10 6 2 3 7 11 "
     ]
    }
   ],
   "source": [
    "def dfs_arr(grid,row,col):\n",
    "    maxRow = len(grid)\n",
    "    maxCol = len(grid[0])\n",
    "    visited = [[False for i in range(maxCol)] for i in range(maxRow)]\n",
    "    dx = [-1,1,0,0]\n",
    "    dy = [0,0,-1,1]\n",
    "    get_dfs(grid,row,col,visited,dx,dy)\n",
    "    \n",
    "\n",
    "def get_dfs(grid,row,col,visited,dx,dy):\n",
    "    print(grid[row][col],end=' ')\n",
    "    visited[row][col] = True\n",
    "\n",
    "    for i in range(4):\n",
    "        adjx = row + dx[i]\n",
    "        adjy = col + dy[i]\n",
    "        if isValid(grid,adjx,adjy,visited):\n",
    "            get_dfs(grid,adjx,adjy,visited,dx,dy)\n",
    "\n",
    "def isValid(grid,row,col,visited):\n",
    "    if 0 <= row < len(grid) and 0 <= col < len(grid[0]) and visited[row][col] == False:\n",
    "        return True\n",
    "    else:\n",
    "        return False\n",
    "\n",
    "dfs_arr([[1,2,3],[5,6,7],[9,10,11]],0,0)    "
   ]
  },
  {
   "cell_type": "markdown",
   "metadata": {},
   "source": [
    "#### 52. Paint a Matrix"
   ]
  },
  {
   "cell_type": "code",
   "execution_count": 112,
   "metadata": {},
   "outputs": [],
   "source": [
    "def paint(grid,row,col,new):\n",
    "    \n",
    "    maxRow = len(grid)\n",
    "    maxCol = col\n",
    "    visited = [[False for i in range(len(grid[0]))]for i in range(maxRow)]\n",
    "    # Important : Visited is always created for the entire GRID\n",
    "    dx = [0,0,-1,1]    #left,right,up,down\n",
    "    dy = [-1,1,0,0]\n",
    "    q = []\n",
    "    \n",
    "    q.append((row,col))\n",
    "    visited[row][col] = True\n",
    "    \n",
    "    while q:\n",
    "        x,y = q.pop(0)\n",
    "        grid[x][y] = new\n",
    "        \n",
    "        for i in range(4):\n",
    "            adjx = x + dx[i]\n",
    "            adjy = y + dy[i]\n",
    "            if isValid2(maxRow,maxCol,visited,adjx,adjy):\n",
    "                q.append((adjx,adjy))\n",
    "                visited[adjx][adjy] = True\n",
    "                \n",
    "    for i in grid:\n",
    "        print(i)\n",
    "    \n",
    "def isValid2(maxRow,maxCol,visited,row,col):\n",
    "    if 0 <= row < maxRow  and 0 <= col <= maxCol and visited[row][col] == False:\n",
    "        return True\n",
    "    else:\n",
    "        return False\n"
   ]
  },
  {
   "cell_type": "code",
   "execution_count": 115,
   "metadata": {},
   "outputs": [
    {
     "name": "stdout",
     "output_type": "stream",
     "text": [
      "[2, 2, 1, 0]\n",
      "[2, 2, 1, 0]\n",
      "[2, 2, 1, 0]\n",
      "[2, 2, 1, 0]\n"
     ]
    }
   ],
   "source": [
    "image = [\n",
    "  [0, 0, 1, 0],\n",
    "  [0, 0, 1, 0],\n",
    "  [0, 0, 1, 0],\n",
    "  [0, 0, 1, 0]\n",
    "]\n",
    "\n",
    "paint(image,0,1,2)"
   ]
  },
  {
   "cell_type": "markdown",
   "metadata": {},
   "source": [
    "#### 53. Check if a given Graph (undirected) is Bipartite"
   ]
  },
  {
   "cell_type": "code",
   "execution_count": 164,
   "metadata": {},
   "outputs": [],
   "source": [
    "class Solution:\n",
    "    def isBipartite(self, adjList):\n",
    "        '''\n",
    "        :type adjList: list of list of int\n",
    "        :rtype: bool\n",
    "        '''\n",
    "        graph = {k : v for k,v in enumerate(adjList)}\n",
    "        color = {i : 'white' for i in graph}\n",
    "        \n",
    "        for node in graph:\n",
    "            if color[node] == 'white':\n",
    "                if self.bipartiteFromNode(graph,node,color):\n",
    "                    return True\n",
    "        return False\n",
    "        \n",
    "        \n",
    "    def bipartiteFromNode(self,graph,source,color):\n",
    "        q = []\n",
    "        q.append(source)\n",
    "        color[source] = 'red'\n",
    "        \n",
    "        while q:\n",
    "            curr = q.pop(0)\n",
    "            for adj in graph[curr]:\n",
    "                if color[adj] == color[curr]:\n",
    "                    return False\n",
    "                else:\n",
    "                    if color[adj] == 'white':\n",
    "                        if color[curr] == 'red': \n",
    "                            color[adj] = 'green'\n",
    "                            q.append(adj)\n",
    "                        else: \n",
    "                            color[adj] = 'red'\n",
    "                            q.append(adj)\n",
    "                       \n",
    "        return True\n",
    "        "
   ]
  },
  {
   "cell_type": "code",
   "execution_count": 166,
   "metadata": {},
   "outputs": [
    {
     "data": {
      "text/plain": [
       "True"
      ]
     },
     "execution_count": 166,
     "metadata": {},
     "output_type": "execute_result"
    },
    {
     "data": {
      "image/png": "[encoded data removed]",
      "text/plain": [
       "<Figure size 432x288 with 1 Axes>"
      ]
     },
     "metadata": {},
     "output_type": "display_data"
    }
   ],
   "source": [
    "g = {0:[3],1:[3],2:[4],3:[],4:[]}\n",
    "G = nx.DiGraph(g)\n",
    "nx.draw(G, with_labels = True)\n",
    "a = Solution()\n",
    "a.isBipartite([[3],[3],[4],[],[]])"
   ]
  },
  {
   "cell_type": "markdown",
   "metadata": {},
   "source": [
    "#### 54. Binary tree Level-order traversal"
   ]
  },
  {
   "cell_type": "code",
   "execution_count": 186,
   "metadata": {},
   "outputs": [],
   "source": [
    "class Solution:\n",
    "    def levelOrderTraversal(self, root):\n",
    "        '''\n",
    "        :type root: TreeNode\n",
    "        :rtype: list of list of int\n",
    "        '''\n",
    "        result = []\n",
    "        q = []\n",
    "        q.append(root)\n",
    "\n",
    "        while q:\n",
    "            curr_layer = []\n",
    "            for i in range(len(q)):\n",
    "                curr_node = q.pop(0)\n",
    "                curr_layer.append(curr_node.val)\n",
    "                if curr_node.left:\n",
    "                    q.append(curr_node.left)\n",
    "                if curr_node.right:\n",
    "                    q.append(curr_node.right)\n",
    "            result.append(curr_layer)\n",
    "\n",
    "        return result\n"
   ]
  },
  {
   "cell_type": "markdown",
   "metadata": {},
   "source": [
    "#### 55. Search a maze for an exit"
   ]
  },
  {
   "cell_type": "code",
   "execution_count": 267,
   "metadata": {},
   "outputs": [],
   "source": [
    "def search(maze,row,col,ex,ey):\n",
    "    # No need of Visited set, as we are using ANS to keep track of visited cells\n",
    "    # if ANS val is 1, the cell (as of now) is part of the path\n",
    "    ans = [[0 for i in range(len(maze))] for i in range(len(maze))]\n",
    "    dx = [-1,1,0,0]\n",
    "    dy = [0,0,-1,1]\n",
    "\n",
    "    get_path(maze,row,col,ex,ey,dx,dy,ans)\n",
    "    for i in ans:\n",
    "            print(i)\n",
    "    \n",
    "def get_path(maze,row,col,ex,ey,dx,dy,ans):\n",
    "    if row == ex and col == ey:\n",
    "        ans[row][col] = 1\n",
    "        return True\n",
    "    \n",
    "    ans[row][col] = 1\n",
    "    \n",
    "    for i in range(4):\n",
    "        adjx = row + dx[i]\n",
    "        adjy = col + dy[i]\n",
    "        if isValid(maze,adjx,adjy,ans)and get_path(maze,adjx,adjy,ex,ey,dx,dy,ans):\n",
    "                return True\n",
    "            \n",
    "    ans[row][col] = 0 #Backtracking\n",
    "    return False \n",
    "\n",
    "def isValid(maze,row,col,ans):\n",
    "    if 0 <= row < len(maze) and 0 <= col < len(maze[0]) and maze[row][col]==1 and ans[row][col]==0:\n",
    "        return True\n",
    "    else:\n",
    "        return False"
   ]
  },
  {
   "cell_type": "code",
   "execution_count": 268,
   "metadata": {},
   "outputs": [
    {
     "name": "stdout",
     "output_type": "stream",
     "text": [
      "[0, 0, 0, 0, 0]\n",
      "[0, 0, 0, 0, 0]\n",
      "[0, 0, 0, 0, 0]\n",
      "[0, 1, 1, 1, 1]\n",
      "[1, 1, 0, 0, 1]\n",
      "\n",
      "[1, 1, 1, 0, 0]\n",
      "[0, 0, 1, 0, 0]\n",
      "[0, 0, 1, 0, 0]\n",
      "[0, 1, 1, 0, 0]\n",
      "[1, 1, 0, 0, 0]\n",
      "\n",
      "[1, 0, 0, 0]\n",
      "[1, 1, 0, 0]\n",
      "[0, 1, 0, 0]\n",
      "[0, 1, 1, 1]\n"
     ]
    }
   ],
   "source": [
    "maze1 = [\n",
    "    [1, 0, 0, 0],\n",
    "    [1, 1, 0, 1],\n",
    "    [0, 1, 0, 0],\n",
    "    [1, 1, 1, 1]\n",
    "]\n",
    "maze2 = [\n",
    "    [1, 1, 1, 0, 0],\n",
    "    [0, 0, 1, 0, 0],\n",
    "    [0, 0, 1, 0, 0],\n",
    "    [0, 1, 1, 1, 1],\n",
    "    [1, 1, 0, 0, 1]\n",
    "]\n",
    "\n",
    "search(maze2,4,0,4,4)\n",
    "print()\n",
    "search(maze2,4,0,0,0)\n",
    "print()\n",
    "search(maze1,0,0,3,3)"
   ]
  },
  {
   "cell_type": "markdown",
   "metadata": {},
   "source": [
    "#### 56. Replace enclosed Os with Xs"
   ]
  },
  {
   "cell_type": "code",
   "execution_count": 1,
   "metadata": {},
   "outputs": [],
   "source": [
    "class Solution:\n",
    "    def computeEnclosedRegions(self, board):\n",
    "        '''\n",
    "        :type board: list of list of str\n",
    "        :rtype: list of list of str\n",
    "        '''\n",
    "        if len(board) <= 2:\n",
    "            return board\n",
    "        \n",
    "        visited = [[False for i in range(len(board))] for i in range (len(board))]\n",
    "        dx = [-1,1,0,0]\n",
    "        dy = [0,0,-1,1]\n",
    "        q = []\n",
    "        q.append((1,1))\n",
    "        visited[1][1] = True\n",
    "\n",
    "        while q:\n",
    "            x,y = q.pop(0)\n",
    "\n",
    "            if board[x][y] == 'O' and board[x+1][y] == 'X' and board[x-1][y] == 'X' and board[x][y+1] == 'X' and board[x][y-1] == 'X':\n",
    "                board[x][y] = 'X'\n",
    "\n",
    "            for i in range(4):\n",
    "                adjx = x + dx[i]\n",
    "                adjy = y + dy[i]\n",
    "                if self.isValid(adjx,adjy,board,visited):\n",
    "                    q.append((adjx,adjy))\n",
    "                    visited[adjx][adjy] = True\n",
    "\n",
    "        for i in board:\n",
    "            print(i)\n",
    "    \n",
    "    def isValid(self,x,y,board,visited):\n",
    "        if 1 <= x < len(board)-1 and 1 <= y < len(board)-1 and visited[x][y] == False:\n",
    "            return True\n",
    "        else:\n",
    "            return False"
   ]
  },
  {
   "cell_type": "code",
   "execution_count": 2,
   "metadata": {},
   "outputs": [
    {
     "name": "stdout",
     "output_type": "stream",
     "text": [
      "['X', 'X', 'O', 'X', 'X']\n",
      "['X', 'X', 'O', 'X', 'X']\n",
      "['X', 'X', 'O', 'X', 'X']\n",
      "['X', 'X', 'X', 'X', 'X']\n",
      "['X', 'X', 'O', 'X', 'X']\n",
      "['X', 'X', 'O', 'X', 'X']\n"
     ]
    }
   ],
   "source": [
    "board = [\n",
    "  ['X', 'X', 'O', 'X', 'X'],\n",
    "  ['X', 'X', 'O', 'X', 'X'],\n",
    "  ['X', 'X', 'O', 'X', 'X'],\n",
    "  ['X', 'O', 'X', 'O', 'X'], # Os in this row are enclosed, replace them\n",
    "  ['X', 'X', 'O', 'X', 'X'],\n",
    "  ['X', 'X', 'O', 'X', 'X']\n",
    "]\n",
    "a = Solution()\n",
    "a.computeEnclosedRegions(board)"
   ]
  },
  {
   "cell_type": "markdown",
   "metadata": {},
   "source": [
    "#### Topological Ordering"
   ]
  },
  {
   "cell_type": "code",
   "execution_count": 44,
   "metadata": {},
   "outputs": [
    {
     "data": {
      "image/png": "[encoded data removed]",
      "text/plain": [
       "<Figure size 432x288 with 1 Axes>"
      ]
     },
     "metadata": {},
     "output_type": "display_data"
    }
   ],
   "source": [
    "graph = defaultdict(list)\n",
    "graph = {\n",
    "    1 : [2,4],\n",
    "    2 : [3],\n",
    "    3 : [4],\n",
    "    4 : []\n",
    "}\n",
    "\n",
    "G = nx.DiGraph(graph)\n",
    "nx.draw_circular(G, arrows = True, with_labels = True)"
   ]
  },
  {
   "cell_type": "code",
   "execution_count": 72,
   "metadata": {},
   "outputs": [
    {
     "data": {
      "image/png": "[encoded data removed]",
      "text/plain": [
       "<Figure size 432x288 with 1 Axes>"
      ]
     },
     "metadata": {},
     "output_type": "display_data"
    }
   ],
   "source": [
    "graph2 = defaultdict(list)\n",
    "graph2 = {\n",
    "    1 : [2,3],\n",
    "    2 : [],\n",
    "    3 : [4,5],\n",
    "    4 : [],\n",
    "    5 : [4],\n",
    "    6 : [3,5],\n",
    "}\n",
    "\n",
    "G = nx.DiGraph(graph2)\n",
    "nx.draw_circular(G, arrows = True, with_labels = True)"
   ]
  },
  {
   "cell_type": "code",
   "execution_count": 73,
   "metadata": {},
   "outputs": [
    {
     "name": "stdout",
     "output_type": "stream",
     "text": [
      "1 2 3 4 \n",
      "1 2 6 3 5 4 "
     ]
    }
   ],
   "source": [
    "def topological(graph):\n",
    "    degrees = get_degrees(graph)\n",
    "    s = set()\n",
    "    for v in degrees:\n",
    "        if degrees[v] == 0:\n",
    "            s.add(v)\n",
    "    \n",
    "    while s:\n",
    "        vtx = s.pop()\n",
    "        print(vtx,end=' ')\n",
    "        for adj in graph[vtx]:\n",
    "            degrees[adj] -= 1\n",
    "            if degrees[adj] == 0:\n",
    "                s.add(adj)\n",
    "    \n",
    "\n",
    "def get_degrees(g):\n",
    "    degrees = {}\n",
    "    for v in g:\n",
    "        degrees[v] = 0\n",
    "    for v in g:\n",
    "        for u in g[v]:\n",
    "            degrees[u] += 1\n",
    "    return degrees\n",
    "\n",
    "topological(graph)\n",
    "print()\n",
    "topological(graph2)"
   ]
  },
  {
   "cell_type": "markdown",
   "metadata": {},
   "source": [
    "# Trees"
   ]
  },
  {
   "cell_type": "code",
   "execution_count": 1,
   "metadata": {},
   "outputs": [
    {
     "name": "stdout",
     "output_type": "stream",
     "text": [
      "Pre-order : 10 7 6 1 8 9 11 20 14 22 \n",
      "In-order : 1 6 7 8 9 10 11 14 20 22 \n",
      "Post-order : 1 6 9 8 7 14 22 20 11 10 "
     ]
    }
   ],
   "source": [
    "class Node:\n",
    "    def __init__(self, val):\n",
    "        self.val = val\n",
    "        self.left = None\n",
    "        self.right = None\n",
    "        \n",
    "    def insert(self, val):\n",
    "        if self.val:\n",
    "            if val < self.val:\n",
    "                if self.left is None:\n",
    "                    self.left = Node(val)\n",
    "                else:\n",
    "                    self.left.insert(val)\n",
    "            elif val > self.val:\n",
    "                if self.right is None:\n",
    "                    self.right = Node(val)\n",
    "                else:\n",
    "                    self.right.insert(val)\n",
    "        else:\n",
    "            self.val = val    \n",
    "    def print_inorder(self):\n",
    "        if self.left : \n",
    "            self.left.print_inorder()\n",
    "        print(self.val,end=' ')\n",
    "        if self.right:\n",
    "            self.right.print_inorder()\n",
    "            \n",
    "    def print_preorder(self):\n",
    "        print(self.val,end=' ')\n",
    "        if self.left : \n",
    "            self.left.print_preorder()\n",
    "        if self.right:\n",
    "            self.right.print_preorder()\n",
    "            \n",
    "    def print_postorder(self):\n",
    "        if self.left : \n",
    "            self.left.print_postorder()\n",
    "        if self.right :\n",
    "            self.right.print_postorder()\n",
    "        print(self.val,end=' ')\n",
    "\n",
    "root = Node(10)\n",
    "root.insert(7)\n",
    "root.insert(11)\n",
    "root.insert(6)\n",
    "root.insert(8)\n",
    "root.insert(1)\n",
    "root.insert(9)\n",
    "root.insert(20)\n",
    "root.insert(14)\n",
    "root.insert(22)\n",
    "print('Pre-order : ',end='')\n",
    "root.print_preorder()\n",
    "print('\\nIn-order : ',end='')\n",
    "root.print_inorder()\n",
    "print('\\nPost-order : ',end='')\n",
    "root.print_postorder()"
   ]
  },
  {
   "cell_type": "markdown",
   "metadata": {},
   "source": [
    "                10\n",
    "                \n",
    "           7         11\n",
    "           \n",
    "        6     8          20\n",
    "        \n",
    "     1          9     14    22"
   ]
  },
  {
   "cell_type": "code",
   "execution_count": 32,
   "metadata": {},
   "outputs": [
    {
     "name": "stdout",
     "output_type": "stream",
     "text": [
      "Not found!\n",
      "Found!\n"
     ]
    }
   ],
   "source": [
    "def search(node,val):\n",
    "    if val < node.val:\n",
    "        if node.left is not None:\n",
    "            search(node.left, val)\n",
    "        else:\n",
    "            print('Not found!')\n",
    "    elif val > node.val:\n",
    "        if node.right is not None:\n",
    "            search(node.right, val)\n",
    "        else:\n",
    "            print('Not found!')\n",
    "    else:\n",
    "        print('Found!')\n",
    "        \n",
    "search(root,23)\n",
    "search(root,22)"
   ]
  },
  {
   "cell_type": "markdown",
   "metadata": {},
   "source": [
    "#### 1. Check if Binary tree is symmetric (Mirror image of itself)"
   ]
  },
  {
   "cell_type": "code",
   "execution_count": 33,
   "metadata": {},
   "outputs": [],
   "source": [
    "class Solution:\n",
    "    def isSymmetric(self, root):\n",
    "        '''\n",
    "        :type root: TreeNode\n",
    "        :rtype: bool\n",
    "        '''\n",
    "        left = []\n",
    "        right = []\n",
    "        if root == None:\n",
    "            return True\n",
    "        self.nlr(root.left, left)\n",
    "        self.nrl(root.right, right)\n",
    "        return (left == right)\n",
    "\n",
    "    def nlr(self, node, left):   \n",
    "        left.append(node.val)\n",
    "        if node.left is not None:\n",
    "            self.nlr(node.left, left)\n",
    "        if node.right is not None:\n",
    "            self.nlr(node.right, left)\n",
    "\n",
    "    def nrl(self, node, right):\n",
    "        right.append(node.val)\n",
    "        if node.right is not None:\n",
    "            self.nrl(node.right, right)\n",
    "        if node.left is not None:\n",
    "            self.nrl(node.left, right)\n"
   ]
  },
  {
   "cell_type": "code",
   "execution_count": 88,
   "metadata": {},
   "outputs": [],
   "source": [
    "# another approach : recursively matching left and right subtree nodes\n",
    "class Solution:\n",
    "    def isSymmetric(self, root):\n",
    "        if root == None:\n",
    "            return True\n",
    "        \n",
    "        return check(root.left, root.right)\n",
    "        \n",
    "    def check(self, left_subtree, right_subtree):\n",
    "        if left_subtree == None and right_subtree == None:\n",
    "            return True\n",
    "        \n",
    "        if left_subtree != None and right_subtree != None:\n",
    "            return (\n",
    "                    left_subtree.val == right_subtree.val and\n",
    "                    self.check(left_subtree.left, right_subtree.right) and\n",
    "                    self.check(left_subtree.right, right_subtree.left)\n",
    "                )\n",
    "        return False\n"
   ]
  },
  {
   "cell_type": "markdown",
   "metadata": {},
   "source": [
    "#### 2. Sum of the path from root to leaf"
   ]
  },
  {
   "cell_type": "code",
   "execution_count": 56,
   "metadata": {},
   "outputs": [
    {
     "name": "stdout",
     "output_type": "stream",
     "text": [
      "False\n",
      "True\n",
      "True\n",
      "True\n",
      "False\n"
     ]
    }
   ],
   "source": [
    "def check(node, value):\n",
    "    total = 0\n",
    "    \n",
    "    if check_sum(node, value, total):\n",
    "        return True\n",
    "    else:\n",
    "        return False\n",
    "    \n",
    "def check_sum(node, value, total):\n",
    "    total += node.val\n",
    "    \n",
    "    if node.left == None and node.right == None and total == value:\n",
    "        return True     #base case i.e leaf node reached\n",
    "    \n",
    "    if node.left is not None:\n",
    "        if check_sum(node.left, value, total):\n",
    "            return True\n",
    "    if node.right is not None:\n",
    "        if check_sum(node.right, value, total):\n",
    "            return True\n",
    "    \n",
    "    total -= node.val    #backtracking\n",
    "    return False\n",
    "\n",
    "print(check(root,17))\n",
    "print(check(root,24))\n",
    "print(check(root,34))\n",
    "print(check(root,55))\n",
    "print(check(root,41))"
   ]
  },
  {
   "cell_type": "markdown",
   "metadata": {},
   "source": [
    "#### 3. Checking a tree for a BST property"
   ]
  },
  {
   "cell_type": "code",
   "execution_count": 59,
   "metadata": {},
   "outputs": [
    {
     "data": {
      "text/plain": [
       "True"
      ]
     },
     "execution_count": 59,
     "metadata": {},
     "output_type": "execute_result"
    }
   ],
   "source": [
    "def check(node, mini, maxi):\n",
    "    if node == None:    #base case : single node is BST\n",
    "        return True\n",
    "    if node.val < mini or node.val > maxi: #checking range at each node\n",
    "        return False \n",
    "    # for left sub-tree root.val will be maximum\n",
    "    # for right sub-tree roo.val will be minimum\n",
    "    return (check(node.left, mini, node.val) and check(node.right, node.val, maxi))\n",
    "\n",
    "check(root, -99999999999, 99999999999)"
   ]
  },
  {
   "cell_type": "markdown",
   "metadata": {},
   "source": [
    "#### 4. Build A Min-Height BST From A Sorted Array"
   ]
  },
  {
   "cell_type": "code",
   "execution_count": null,
   "metadata": {},
   "outputs": [],
   "source": [
    "class Solution:\n",
    "    def sortedArrayToBST(self, nums):\n",
    "        '''\n",
    "        :type nums: list of int\n",
    "        :rtype: TreeNode\n",
    "        '''\n",
    "        return self.get_tree(nums, 0, len(nums))\n",
    "\n",
    "        \n",
    "    def get_tree(self, nums, left, right):\n",
    "\n",
    "        if left >= right:    #breaking condition similar to binary search\n",
    "            return None\n",
    "\n",
    "        middle = (left+right)//2  \n",
    "\n",
    "        new_node = TreeNode(nums[middle])\n",
    "        new_node.left = self.get_tree(nums, left, middle)\n",
    "        new_node.right = self.get_tree(nums, middle+1, right)\n",
    "\n",
    "        return new_node"
   ]
  },
  {
   "cell_type": "markdown",
   "metadata": {},
   "source": [
    "#### 5. Lowest Common Ancestor In A BST"
   ]
  },
  {
   "cell_type": "code",
   "execution_count": 89,
   "metadata": {},
   "outputs": [],
   "source": [
    "class Solution:\n",
    "    def lowestCommonAncestor(self, root, x, y):\n",
    "        '''\n",
    "        :type root: TreeNode\n",
    "        :type x: int\n",
    "        :type y: int\n",
    "        :rtype: TreeNode\n",
    "        '''\n",
    "\n",
    "        if x < root.val and y < root.val:\n",
    "            return self.lowestCommonAncestor(root.left,x,y)\n",
    "\n",
    "        if x > root.val and y > root.val:\n",
    "            return self.lowestCommonAncestor(root.right, x, y)\n",
    "\n",
    "        return root"
   ]
  },
  {
   "cell_type": "markdown",
   "metadata": {},
   "source": [
    "#### 6. Depth of a binary tree"
   ]
  },
  {
   "cell_type": "code",
   "execution_count": 95,
   "metadata": {},
   "outputs": [
    {
     "data": {
      "text/plain": [
       "4"
      ]
     },
     "execution_count": 95,
     "metadata": {},
     "output_type": "execute_result"
    }
   ],
   "source": [
    "'''\n",
    "Depth - maximum nodes from root to leaf\n",
    "Recursively calculate heights of left subtree and right subtree.\n",
    "return the greater height + 1 (accounting for the root)\n",
    "'''\n",
    "def get_depth(root):\n",
    "    if root == None:\n",
    "        return 0\n",
    "    \n",
    "    left_depth = get_depth(root.left)\n",
    "    right_depth = get_depth(root.right)\n",
    "    \n",
    "    return max(left_depth,right_depth)+1\n",
    "    \n",
    "get_depth(root)"
   ]
  },
  {
   "cell_type": "code",
   "execution_count": 35,
   "metadata": {},
   "outputs": [
    {
     "name": "stdout",
     "output_type": "stream",
     "text": [
      "4\n"
     ]
    }
   ],
   "source": [
    "\n",
    "def get_good_nodes(root):\n",
    "    count = 0\n",
    "    stack = [(root, root.val)]\n",
    "    while stack:\n",
    "        node, prev_max_value = stack.pop()\n",
    "        if node.val >= prev_max_value:\n",
    "            count += 1\n",
    "            prev_max_value = node.val\n",
    "        if node.left :\n",
    "             stack.append((node.left, prev_max_value))\n",
    "        if node.right :\n",
    "             stack.append((node.right, prev_max_value))\n",
    "    print(count)\n",
    "    \n",
    "\n",
    "get_good_nodes(root)"
   ]
  },
  {
   "cell_type": "markdown",
   "metadata": {},
   "source": [
    "                10\n",
    "                \n",
    "           7         11\n",
    "           \n",
    "        6     8          20\n",
    "        \n",
    "     1          9     14    22"
   ]
  },
  {
   "cell_type": "markdown",
   "metadata": {},
   "source": [
    "#### 7. Diameter of binary tree"
   ]
  },
  {
   "cell_type": "code",
   "execution_count": 104,
   "metadata": {},
   "outputs": [
    {
     "data": {
      "text/plain": [
       "(6, 3)"
      ]
     },
     "execution_count": 104,
     "metadata": {},
     "output_type": "execute_result"
    }
   ],
   "source": [
    "def get_depth(root, ans):\n",
    "    if root == None:\n",
    "        return 0\n",
    "    \n",
    "    left_depth = get_depth(root.left, ans)\n",
    "    right_depth = get_depth(root.right, ans)\n",
    "    \n",
    "    ans[0] = max(ans[0], left_depth+right_depth+1)\n",
    "    \n",
    "    return max(left_depth,right_depth)+1\n",
    "    \n",
    "    \n",
    "def get_diameter(root):\n",
    "    ans = [-99999999]\n",
    "    depth = get_depth(root, ans)\n",
    "    return ans[0]-1,depth-1\n",
    "    \n",
    "get_diameter(root)"
   ]
  },
  {
   "cell_type": "markdown",
   "metadata": {},
   "source": [
    "# Hashtables"
   ]
  },
  {
   "cell_type": "markdown",
   "metadata": {},
   "source": [
    "#### 1. Nearest Repeated Entries In An Array"
   ]
  },
  {
   "cell_type": "code",
   "execution_count": 105,
   "metadata": {},
   "outputs": [
    {
     "data": {
      "text/plain": [
       "2"
      ]
     },
     "execution_count": 105,
     "metadata": {},
     "output_type": "execute_result"
    }
   ],
   "source": [
    "import sys\n",
    "class Solution:\n",
    "    def solve(self, sentence):\n",
    "        '''\n",
    "        :type sentence: list of str\n",
    "        :rtype: int\n",
    "        '''\n",
    "        words = {}\n",
    "\n",
    "        for i,word in enumerate(sentence):\n",
    "            if word not in words:\n",
    "                words[word] = [i,sys.maxsize] \n",
    "            else:\n",
    "                diff = abs(words[word][0]-i)\n",
    "                words[word][0] = i\n",
    "                if diff < words[word][1]:\n",
    "                    words[word][1] = diff\n",
    "                    \n",
    "        mini = sys.maxsize\n",
    "        for key in words:\n",
    "            if words[key][1] < mini:\n",
    "                mini = words[key][1]\n",
    "\n",
    "        if mini == sys.maxsize:\n",
    "            return -1\n",
    "        else:\n",
    "            return mini\n",
    "a = Solution()\n",
    "a.solve([\"This\",\"is\",\"a\",\"sentence\",\"with\",\"is\",\"repeated\",\"then\",\"repeated\"])"
   ]
  },
  {
   "cell_type": "markdown",
   "metadata": {},
   "source": [
    "#### 2. Longest Substring with At Most K Distinct Characters"
   ]
  },
  {
   "cell_type": "code",
   "execution_count": 6,
   "metadata": {},
   "outputs": [],
   "source": [
    "# Approach 1: Brute force method --> O(N^2)\n",
    "\n",
    "import sys\n",
    "class Solution:\n",
    "    def solve(self, s, k):\n",
    "        '''\n",
    "        :type s: str\n",
    "        :type k: int\n",
    "        :rtype: int\n",
    "        '''\n",
    "        substrings = []\n",
    "        for i in range(len(s)):    #generate all substrings\n",
    "            temp = ''\n",
    "            j = i\n",
    "            while j < len(s):\n",
    "                temp += s[j]\n",
    "                substrings.append(temp)\n",
    "                j+=1\n",
    "        \n",
    "        longest_length = -sys.maxsize\n",
    "        \n",
    "        for string in substrings:    #filtering out the strings to get the answer\n",
    "            if len(set(string)) == k and len(string) > longest_length:\n",
    "                longest_length = len(string)\n",
    "\n",
    "        return (longest_length)\n"
   ]
  },
  {
   "cell_type": "code",
   "execution_count": 12,
   "metadata": {},
   "outputs": [
    {
     "data": {
      "text/plain": [
       "4"
      ]
     },
     "execution_count": 12,
     "metadata": {},
     "output_type": "execute_result"
    }
   ],
   "source": [
    "# Approach 2: Optimized method --> O(n)\n",
    "\n",
    "class Solution:\n",
    "    def solve(self, s, k):\n",
    "        '''\n",
    "        :type s: str\n",
    "        :type k: int\n",
    "        :rtype: int\n",
    "        '''\n",
    "        chars = {}\n",
    "        left , right, distinct_count, max_window_size = 0, 0, 0, 0\n",
    "        \n",
    "        while right < len(s):\n",
    "            if s[right] not in chars:\n",
    "                chars[s[right]] = 1\n",
    "                distinct_count += 1\n",
    "            else:\n",
    "                chars[s[right]] += 1\n",
    "                \n",
    "            if distinct_count > k:\n",
    "                while distinct_count > k:\n",
    "                    chars[s[left]] -= 1\n",
    "                    if chars[s[left]] == 0:\n",
    "                        distinct_count -= 1      #keep pruning left side chars until distinct_count comes to k i.e shortening the window \n",
    "                        del chars[s[left]]\n",
    "                    left += 1\n",
    "                    \n",
    "            max_window_size = max(right-left+1, max_window_size)\n",
    "            right += 1\n",
    "            \n",
    "        return max_window_size\n",
    "    \n",
    "a = Solution()\n",
    "a.solve('coffee',2)\n",
    "        "
   ]
  },
  {
   "cell_type": "markdown",
   "metadata": {},
   "source": [
    "#### 3. Check if one list is subset of another list"
   ]
  },
  {
   "cell_type": "code",
   "execution_count": 17,
   "metadata": {},
   "outputs": [
    {
     "data": {
      "text/plain": [
       "True"
      ]
     },
     "execution_count": 17,
     "metadata": {},
     "output_type": "execute_result"
    }
   ],
   "source": [
    "def check(list1,list2):\n",
    "    if len(set(list1) & set(list2)) == len(list1) or len(set(list1) & set(list2)) == len(list2):\n",
    "        return True\n",
    "    else:\n",
    "        return False\n",
    "    \n",
    "check([1,2,3,4,5],[2,5])\n",
    "check([1,2,3,4,5],[])"
   ]
  },
  {
   "cell_type": "code",
   "execution_count": 38,
   "metadata": {},
   "outputs": [
    {
     "data": {
      "text/plain": [
       "{(2, 1)}"
      ]
     },
     "execution_count": 38,
     "metadata": {},
     "output_type": "execute_result"
    }
   ],
   "source": [
    "b = set()\n",
    "a = [1,2]\n",
    "b.add(tuple(a[::-1]))    #Tuple is hashable\n",
    "b\n",
    "#b.add([2,3])     list is Unhashable"
   ]
  },
  {
   "cell_type": "markdown",
   "metadata": {},
   "source": [
    "#### 4. Find symmetric pairs in a list"
   ]
  },
  {
   "cell_type": "code",
   "execution_count": 40,
   "metadata": {},
   "outputs": [],
   "source": [
    "def find_symmetric(my_list):\n",
    "    # Write your code here\n",
    "    pairs = set()\n",
    "    symm = []\n",
    "    for each in my_list:\n",
    "        if tuple(each[::-1]) not in pairs:\n",
    "            pairs.add(tuple(each))\n",
    "        else:\n",
    "            symm.append(each)\n",
    "            symm.append(each[::-1])\n",
    "\n",
    "    return symm\n"
   ]
  },
  {
   "cell_type": "markdown",
   "metadata": {},
   "source": [
    "#### 5. Trace the complete path of a journey"
   ]
  },
  {
   "cell_type": "code",
   "execution_count": 93,
   "metadata": {},
   "outputs": [
    {
     "name": "stdout",
     "output_type": "stream",
     "text": [
      "Boston --> Texas --> Missouri --> NewYork --> Chicago"
     ]
    }
   ],
   "source": [
    "# Approach 1 : Using Topological Sorting --> O(V+E)\n",
    "# This solution is general\n",
    "\n",
    "def get_path(g):\n",
    "    order = get_topological(g)\n",
    "    for i,v in enumerate(order):\n",
    "        print(v,end='')\n",
    "        if i < len(order)-1:\n",
    "            print(' --> ',end='')\n",
    "        \n",
    "def get_topological(g):\n",
    "    degrees = get_degrees(g)\n",
    "    s = set()\n",
    "    result = []\n",
    "    for vtx in g:\n",
    "        if degrees[vtx] == 0:\n",
    "            s.add(vtx)\n",
    "            \n",
    "    while s:\n",
    "        vtx = s.pop()\n",
    "        result.append(vtx)\n",
    "        if vtx in g:       # to handle the nodes with out-degree = 0\n",
    "            adj = g[vtx]\n",
    "            degrees[adj] -= 1\n",
    "            if degrees[adj] == 0:\n",
    "                s.add(adj)\n",
    "    return result\n",
    "        \n",
    "def get_degrees(g):\n",
    "    degrees = {}\n",
    "    for v in g:\n",
    "        degrees[v] = 0\n",
    "\n",
    "    for k,v in g.items():\n",
    "        if v not in g:    # since there could be a nodes with out-degree = 0\n",
    "            degrees[v] = 1\n",
    "        else:\n",
    "            degrees[v] += 1\n",
    "    return degrees\n",
    "        \n",
    "get_path({\n",
    "  \"NewYork\": \"Chicago\",\n",
    "  \"Boston\": \"Texas\",\n",
    "  \"Missouri\": \"NewYork\",\n",
    "  \"Texas\": \"Missouri\"\n",
    "})"
   ]
  },
  {
   "cell_type": "code",
   "execution_count": 96,
   "metadata": {},
   "outputs": [
    {
     "name": "stdout",
     "output_type": "stream",
     "text": [
      "Boston Texas Missouri NewYork Chicago "
     ]
    }
   ],
   "source": [
    "# Approach 2 : Reverse the dictionary to get the starting point or create set of values --> O(n)\n",
    "# This solution assumes there is only one starting point i.e only one node with in-degree = 0\n",
    "def get_path2(pairs):\n",
    "    degree_one = set()\n",
    "    for k,v in pairs.items():\n",
    "        degree_one.add(v)\n",
    "    for key in pairs:\n",
    "        if key not in degree_one:\n",
    "            starting = key\n",
    "    q = set()\n",
    "    q.add(starting)\n",
    "    while q:\n",
    "        vtx = q.pop()\n",
    "        print(vtx,end=' ')\n",
    "        if vtx in pairs:\n",
    "            adj = pairs[vtx]\n",
    "            q.add(adj)\n",
    "\n",
    "get_path2({\n",
    "  \"NewYork\": \"Chicago\",\n",
    "  \"Boston\": \"Texas\",\n",
    "  \"Missouri\": \"NewYork\",\n",
    "  \"Texas\": \"Missouri\"\n",
    "})\n"
   ]
  },
  {
   "cell_type": "markdown",
   "metadata": {},
   "source": [
    "#### 6. Find any two pairs such that a+b = c+d"
   ]
  },
  {
   "cell_type": "code",
   "execution_count": 192,
   "metadata": {},
   "outputs": [
    {
     "name": "stdout",
     "output_type": "stream",
     "text": [
      "(1, 9) (7, 3)\n",
      "\n",
      "(2, 3) (4, 1)\n"
     ]
    }
   ],
   "source": [
    "def ans(nums):\n",
    "    sums = {}\n",
    "    for i in range(len(nums)-1):\n",
    "        j = i+1\n",
    "        while j < len(nums):\n",
    "            sums[nums[i]+nums[j]] = (nums[i],nums[j])\n",
    "            j += 1\n",
    "            \n",
    "    s = set(nums)\n",
    "    for k in sums:\n",
    "        for i in nums:\n",
    "            if k-i in s and k-i != i and i not in sums[k] and k-i not in sums[k]:\n",
    "                print(sums[k], (k-i,i))\n",
    "                return\n",
    "\n",
    "ans([3, 4, 7, 1, 12, 9])\n",
    "print()\n",
    "ans([1,2,3,4,5,6,7])"
   ]
  },
  {
   "cell_type": "markdown",
   "metadata": {},
   "source": [
    "#### 7. 4 sum :::: a+b+c+d = e"
   ]
  },
  {
   "cell_type": "code",
   "execution_count": 213,
   "metadata": {},
   "outputs": [
    {
     "name": "stdout",
     "output_type": "stream",
     "text": [
      "[{9, 3, 4, 1}, {1, 3, 4, 9}]\n",
      "[{2, 3, 6, 7}, {2, 4, 5, 7}, {3, 4, 5, 6}, {1, 4, 6, 7}]\n"
     ]
    }
   ],
   "source": [
    "def four_sum(nums,e):\n",
    "    sums = {}\n",
    "    \n",
    "    for i in range(len(nums)-1):\n",
    "        j = i+1\n",
    "        while j < len(nums):\n",
    "            sums[e-nums[i]-nums[j]] = (nums[i],nums[j])\n",
    "            j += 1\n",
    "            \n",
    "    s = set(nums)\n",
    "    seen = set()    # a set of strings to keep track of unique sets\n",
    "    results = []\n",
    "    for k in sums:\n",
    "        for i in nums:\n",
    "            if k - i in s and k-i != i and i not in sums[k] and k-i not in sums[k] :\n",
    "                    temp = set([sums[k][0],sums[k][1],k-i,i])\n",
    "                    if str(temp) not in seen:\n",
    "                            seen.add(str(temp))\n",
    "                            results.append(temp)\n",
    "                    \n",
    "    print(results)\n",
    "                    \n",
    "four_sum([3, 4, 7, 1, 12, 9], 17)\n",
    "four_sum([1,2,3,4,5,6,7], 18)\n"
   ]
  },
  {
   "cell_type": "markdown",
   "metadata": {},
   "source": [
    "#### 8. 3 sum :::: a+b+c = d"
   ]
  },
  {
   "cell_type": "code",
   "execution_count": 214,
   "metadata": {},
   "outputs": [
    {
     "name": "stdout",
     "output_type": "stream",
     "text": [
      "[{1, 2, 6}, {1, 3, 5}, {2, 3, 4}]\n"
     ]
    }
   ],
   "source": [
    "# Approach 1 : Using simple hash map , Only when all numbers are distinct and unique\n",
    "def three_sum(nums,d):\n",
    "    sums = {}\n",
    "    for i in nums:\n",
    "        sums[d-i] = i\n",
    "    \n",
    "    s = set(nums)\n",
    "    seen = set()\n",
    "    result = []\n",
    "    for k in sums:\n",
    "        for i in nums:\n",
    "            if k-i in s and k-i != i and i != sums[k] and k-i != sums[k]:\n",
    "                temp = set([i,k-i,sums[k]])\n",
    "                if str(temp) not in seen:\n",
    "                    seen.add(str(temp))\n",
    "                    result.append(temp)\n",
    "               \n",
    "    print(result)\n",
    "    \n",
    "three_sum([1,2,3,4,5,6],9)"
   ]
  },
  {
   "cell_type": "markdown",
   "metadata": {},
   "source": [
    "#### 9. Four sum of 4 arrays"
   ]
  },
  {
   "cell_type": "code",
   "execution_count": 12,
   "metadata": {},
   "outputs": [
    {
     "name": "stdout",
     "output_type": "stream",
     "text": [
      "3 -1 -4 2\n",
      "3 -2 -1 0\n",
      "3 -2 -4 3\n",
      "2 -1 -1 0\n",
      "2 -1 -4 3\n",
      "1 -2 -1 2\n"
     ]
    }
   ],
   "source": [
    "# Approach 1 : Saving the pairs itself in the dictionary\n",
    "# Covers almost all cases\n",
    "\n",
    "class Solution:\n",
    "    def Four_Sum(self, nums1, nums2, nums3, nums4):\n",
    "        '''\n",
    "        :type nums1: list of int\n",
    "        :type nums2: list of int\n",
    "        :type nums3: list of int\n",
    "        :type nums4: list of int\n",
    "        :rtype: int\n",
    "        '''\n",
    "        sums = {}\n",
    "         \n",
    "        for i in nums1:        # NOTE! storing (a,b):sum as tuple:value pairs ensures\n",
    "            for j in nums2:    # that repeated sum values are stored\n",
    "                sums[(i,j)] = i+j\n",
    "        \n",
    "        arr4 = set(nums4)\n",
    "        \n",
    "        for k,v in sums.items():\n",
    "            for i in nums3:\n",
    "                if -v-i in arr4:\n",
    "                    x,y = k\n",
    "                    print(x,y,i,-v-i)\n",
    "            \n",
    "a = Solution()\n",
    "a.Four_Sum([3,2,1], [4,-1,-2], [-1,2,-4], [2,0,3])"
   ]
  },
  {
   "cell_type": "code",
   "execution_count": 13,
   "metadata": {},
   "outputs": [
    {
     "name": "stdout",
     "output_type": "stream",
     "text": [
      "6\n"
     ]
    }
   ],
   "source": [
    "# Approach 2 : Saving the occurence of sum as count, as we only need the total count\n",
    "# of how many times the sum occurs, not the pairs themselves\n",
    "# Then checking by running \n",
    "# Covers all cases\n",
    "\n",
    "class Solution:\n",
    "    def Four_Sum(self, nums1, nums2, nums3, nums4):\n",
    "        '''\n",
    "        :type nums1: list of int\n",
    "        :type nums2: list of int\n",
    "        :type nums3: list of int\n",
    "        :type nums4: list of int\n",
    "        :rtype: int\n",
    "        '''\n",
    "        sums = {}\n",
    "        \n",
    "        for i in nums1:        # storing (a,b):sum as tuple:value pairs ensures that\n",
    "            for j in nums2:    # repeated sum values are stored\n",
    "                if i+j in sums:\n",
    "                    sums[i+j] += 1\n",
    "                else:\n",
    "                    sums[i+j] = 1\n",
    "        \n",
    "        arr4 = set(nums4)\n",
    "        count = 0\n",
    "        for a in nums3:\n",
    "            for b in nums4:\n",
    "                if -a-b in sums:\n",
    "                    count += sums[-a-b]   # each increment itself accounts for the a,b\n",
    "        \n",
    "        print(count)\n",
    "a = Solution()\n",
    "a.Four_Sum([3,2,1], [4,-1,-2], [-1,2,-4], [2,0,3])"
   ]
  },
  {
   "cell_type": "code",
   "execution_count": 7,
   "metadata": {},
   "outputs": [
    {
     "name": "stdout",
     "output_type": "stream",
     "text": [
      "\n"
     ]
    }
   ],
   "source": [
    "import sys\n",
    "\n",
    "string = ''\n",
    "\n",
    "for line in sys.stdin:\n",
    "    string += line.capitalize()\n",
    "\n",
    "print(string)"
   ]
  },
  {
   "cell_type": "code",
   "execution_count": 5,
   "metadata": {},
   "outputs": [
    {
     "data": {
      "text/plain": [
       "'apple'"
      ]
     },
     "execution_count": 5,
     "metadata": {},
     "output_type": "execute_result"
    }
   ],
   "source": [
    "'apple\\n'.rstrip()"
   ]
  },
  {
   "cell_type": "code",
   "execution_count": null,
   "metadata": {
    "tags": []
   },
   "outputs": [],
   "source": []
  }
 ],
 "metadata": {
  "kernelspec": {
   "display_name": "Python 3",
   "language": "python",
   "name": "python3"
  },
  "language_info": {
   "codemirror_mode": {
    "name": "ipython",
    "version": 3
   },
   "file_extension": ".py",
   "mimetype": "text/x-python",
   "name": "python",
   "nbconvert_exporter": "python",
   "pygments_lexer": "ipython3",
   "version": "3.9.0"
  }
 },
 "nbformat": 4,
 "nbformat_minor": 4
}
