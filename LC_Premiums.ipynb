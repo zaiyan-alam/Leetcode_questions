{
 "cells": [
  {
   "cell_type": "markdown",
   "metadata": {},
   "source": [
    "#### 1256. Encode Number\n",
    "Given a non-negative integer num, Return its encoding string.\n",
    "\n",
    "The encoding is done by converting the integer to a string using a secret function that you should deduce from the following table:\n",
    "\n",
    "\n",
    "\n",
    " \n",
    "\n",
    "Example 1:\n",
    "\n",
    "Input: num = 23\n",
    "Output: \"1000\"\n",
    "Example 2:\n",
    "\n",
    "Input: num = 107\n",
    "Output: \"101100\"\n",
    " \n",
    "\n",
    "Constraints:\n",
    "\n",
    "0 <= num <= 10^9"
   ]
  },
  {
   "cell_type": "code",
   "execution_count": 46,
   "metadata": {},
   "outputs": [
    {
     "data": {
      "text/plain": [
       "'101100'"
      ]
     },
     "execution_count": 46,
     "metadata": {},
     "output_type": "execute_result"
    }
   ],
   "source": [
    "def get_str(num):\n",
    "    if num == 0:\n",
    "        return \"\"\n",
    "    \n",
    "    num_checkpoint = 0\n",
    "    power = 1\n",
    "    \n",
    "    while True:\n",
    "        num_checkpoint += 2**power\n",
    "        if num_checkpoint >= num:\n",
    "            break\n",
    "        power += 1  \n",
    "       \n",
    "    diff = num_checkpoint - num\n",
    "    binary_num = 2**power - 1 - diff\n",
    "    powers = []\n",
    "    \n",
    "    while binary_num >0:\n",
    "        temp = math.floor(math.log2(binary_num))\n",
    "        powers.append(temp)\n",
    "        binary_num -= 2**temp\n",
    "    \n",
    "    binary = 0    \n",
    "    for i in powers:\n",
    "        binary += 10**i\n",
    "        \n",
    "    return '0'*(power-len(str(binary)))+str(binary)\n",
    "    \n",
    "get_str(107)"
   ]
  },
  {
   "cell_type": "code",
   "execution_count": 28,
   "metadata": {},
   "outputs": [
    {
     "data": {
      "text/plain": [
       "1"
      ]
     },
     "execution_count": 28,
     "metadata": {},
     "output_type": "execute_result"
    }
   ],
   "source": [
    "import math\n",
    "math.floor(math.log2(2))"
   ]
  },
  {
   "cell_type": "code",
   "execution_count": 50,
   "metadata": {},
   "outputs": [
    {
     "data": {
      "text/plain": [
       "'1101100'"
      ]
     },
     "execution_count": 50,
     "metadata": {},
     "output_type": "execute_result"
    }
   ],
   "source": [
    "bin(107+1)[2:]"
   ]
  },
  {
   "cell_type": "code",
   "execution_count": 52,
   "metadata": {},
   "outputs": [
    {
     "data": {
      "text/plain": [
       "'1101100'"
      ]
     },
     "execution_count": 52,
     "metadata": {},
     "output_type": "execute_result"
    }
   ],
   "source": [
    "\"{0:b}\".format(108)"
   ]
  },
  {
   "cell_type": "code",
   "execution_count": 165,
   "metadata": {},
   "outputs": [
    {
     "data": {
      "text/plain": [
       "{'a', 'b', 'e'}"
      ]
     },
     "execution_count": 165,
     "metadata": {},
     "output_type": "execute_result"
    }
   ],
   "source": [
    "ax = set(['a','b','c','d','e'])\n",
    "bx = set(['c','d'])\n",
    "ax - bx"
   ]
  },
  {
   "cell_type": "code",
   "execution_count": 168,
   "metadata": {},
   "outputs": [
    {
     "data": {
      "text/plain": [
       "'a'"
      ]
     },
     "execution_count": 168,
     "metadata": {},
     "output_type": "execute_result"
    }
   ],
   "source": [
    "chr(97)"
   ]
  },
  {
   "cell_type": "code",
   "execution_count": 254,
   "metadata": {},
   "outputs": [
    {
     "name": "stdout",
     "output_type": "stream",
     "text": [
      "{'b', 'a'}\n",
      "{'c', 'b', 'a'}\n"
     ]
    }
   ],
   "source": [
    "print({'a','b','c'}.difference({'c'}))\n",
    "print({'a','b','c'}.difference({'?'}))"
   ]
  },
  {
   "cell_type": "code",
   "execution_count": null,
   "metadata": {},
   "outputs": [],
   "source": []
  },
  {
   "cell_type": "code",
   "execution_count": null,
   "metadata": {},
   "outputs": [],
   "source": []
  },
  {
   "cell_type": "code",
   "execution_count": null,
   "metadata": {},
   "outputs": [],
   "source": []
  },
  {
   "cell_type": "code",
   "execution_count": null,
   "metadata": {},
   "outputs": [],
   "source": []
  }
 ],
 "metadata": {
  "kernelspec": {
   "display_name": "Python 3",
   "language": "python",
   "name": "python3"
  },
  "language_info": {
   "codemirror_mode": {
    "name": "ipython",
    "version": 3
   },
   "file_extension": ".py",
   "mimetype": "text/x-python",
   "name": "python",
   "nbconvert_exporter": "python",
   "pygments_lexer": "ipython3",
   "version": "3.8.5"
  }
 },
 "nbformat": 4,
 "nbformat_minor": 4
}
